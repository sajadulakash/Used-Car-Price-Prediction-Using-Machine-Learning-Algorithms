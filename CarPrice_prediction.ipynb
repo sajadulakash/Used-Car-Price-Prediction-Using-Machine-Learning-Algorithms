{
 "cells": [
  {
   "cell_type": "code",
   "execution_count": 20,
   "id": "b899e9f6",
   "metadata": {},
   "outputs": [],
   "source": [
    "# import libraries\n",
    "import numpy as np\n",
    "import pandas as pd\n",
    "%matplotlib inline\n",
    "import matplotlib.pyplot as plt\n",
    "import seaborn as sns\n",
    "import ydata_profiling as pp\n",
    "from sklearn.model_selection import train_test_split\n",
    "from sklearn.preprocessing import OneHotEncoder \n",
    "from sklearn.preprocessing import MaxAbsScaler\n",
    "from sklearn.compose import make_column_transformer\n",
    "from sklearn.compose import ColumnTransformer\n",
    "from sklearn.pipeline import Pipeline,make_pipeline\n",
    "from sklearn.linear_model import LinearRegression \n",
    "from sklearn.tree import DecisionTreeRegressor\n",
    "from sklearn.ensemble import RandomForestRegressor\n",
    "from sklearn.metrics import r2_score\n",
    "from sklearn.metrics import mean_squared_error, mean_absolute_error\n",
    "from sklearn.svm import SVR\n",
    "from sklearn.ensemble import GradientBoostingRegressor"
   ]
  },
  {
   "cell_type": "markdown",
   "id": "54f0ae45",
   "metadata": {},
   "source": [
    "# Data exploration and visualization"
   ]
  },
  {
   "cell_type": "code",
   "execution_count": 3,
   "id": "b9c604e7",
   "metadata": {},
   "outputs": [],
   "source": [
    "#loading the csv data to a Pandas DataFrame\n",
    "car_df = pd.read_csv('CarsData.csv')"
   ]
  },
  {
   "cell_type": "code",
   "execution_count": 3,
   "id": "94f8fc86",
   "metadata": {},
   "outputs": [
    {
     "name": "stderr",
     "output_type": "stream",
     "text": [
      "Summarize dataset: 100%|████████████████████████████████████████████████████| 55/55 [00:07<00:00,  7.62it/s, Completed]\n",
      "Generate report structure: 100%|█████████████████████████████████████████████████████████| 1/1 [00:02<00:00,  2.45s/it]\n",
      "Render HTML: 100%|███████████████████████████████████████████████████████████████████████| 1/1 [00:01<00:00,  1.35s/it]\n",
      "Export report to file: 100%|████████████████████████████████████████████████████████████| 1/1 [00:00<00:00, 142.72it/s]\n"
     ]
    }
   ],
   "source": [
    "# Y-data profiling\n",
    "profile = pp.ProfileReport(car_df, title = \"Data Exploration\")\n",
    "profile.to_file(\"output.html\")"
   ]
  },
  {
   "cell_type": "code",
   "execution_count": 5,
   "id": "e506eab9",
   "metadata": {},
   "outputs": [
    {
     "data": {
      "text/html": [
       "<div>\n",
       "<style scoped>\n",
       "    .dataframe tbody tr th:only-of-type {\n",
       "        vertical-align: middle;\n",
       "    }\n",
       "\n",
       "    .dataframe tbody tr th {\n",
       "        vertical-align: top;\n",
       "    }\n",
       "\n",
       "    .dataframe thead th {\n",
       "        text-align: right;\n",
       "    }\n",
       "</style>\n",
       "<table border=\"1\" class=\"dataframe\">\n",
       "  <thead>\n",
       "    <tr style=\"text-align: right;\">\n",
       "      <th></th>\n",
       "      <th>model</th>\n",
       "      <th>year</th>\n",
       "      <th>price</th>\n",
       "      <th>transmission</th>\n",
       "      <th>mileage</th>\n",
       "      <th>fuelType</th>\n",
       "      <th>tax</th>\n",
       "      <th>mpg</th>\n",
       "      <th>engineSize</th>\n",
       "      <th>Manufacturer</th>\n",
       "    </tr>\n",
       "  </thead>\n",
       "  <tbody>\n",
       "    <tr>\n",
       "      <th>0</th>\n",
       "      <td>I10</td>\n",
       "      <td>2017</td>\n",
       "      <td>7495</td>\n",
       "      <td>Manual</td>\n",
       "      <td>11630</td>\n",
       "      <td>Petrol</td>\n",
       "      <td>145</td>\n",
       "      <td>60.1</td>\n",
       "      <td>1.0</td>\n",
       "      <td>hyundi</td>\n",
       "    </tr>\n",
       "    <tr>\n",
       "      <th>1</th>\n",
       "      <td>Polo</td>\n",
       "      <td>2017</td>\n",
       "      <td>10989</td>\n",
       "      <td>Manual</td>\n",
       "      <td>9200</td>\n",
       "      <td>Petrol</td>\n",
       "      <td>145</td>\n",
       "      <td>58.9</td>\n",
       "      <td>1.0</td>\n",
       "      <td>volkswagen</td>\n",
       "    </tr>\n",
       "    <tr>\n",
       "      <th>2</th>\n",
       "      <td>2 Series</td>\n",
       "      <td>2019</td>\n",
       "      <td>27990</td>\n",
       "      <td>Semi-Auto</td>\n",
       "      <td>1614</td>\n",
       "      <td>Diesel</td>\n",
       "      <td>145</td>\n",
       "      <td>49.6</td>\n",
       "      <td>2.0</td>\n",
       "      <td>BMW</td>\n",
       "    </tr>\n",
       "    <tr>\n",
       "      <th>3</th>\n",
       "      <td>Yeti Outdoor</td>\n",
       "      <td>2017</td>\n",
       "      <td>12495</td>\n",
       "      <td>Manual</td>\n",
       "      <td>30960</td>\n",
       "      <td>Diesel</td>\n",
       "      <td>150</td>\n",
       "      <td>62.8</td>\n",
       "      <td>2.0</td>\n",
       "      <td>skoda</td>\n",
       "    </tr>\n",
       "    <tr>\n",
       "      <th>4</th>\n",
       "      <td>Fiesta</td>\n",
       "      <td>2017</td>\n",
       "      <td>7999</td>\n",
       "      <td>Manual</td>\n",
       "      <td>19353</td>\n",
       "      <td>Petrol</td>\n",
       "      <td>125</td>\n",
       "      <td>54.3</td>\n",
       "      <td>1.2</td>\n",
       "      <td>ford</td>\n",
       "    </tr>\n",
       "    <tr>\n",
       "      <th>5</th>\n",
       "      <td>C-HR</td>\n",
       "      <td>2019</td>\n",
       "      <td>26791</td>\n",
       "      <td>Automatic</td>\n",
       "      <td>2373</td>\n",
       "      <td>Hybrid</td>\n",
       "      <td>135</td>\n",
       "      <td>74.3</td>\n",
       "      <td>1.8</td>\n",
       "      <td>toyota</td>\n",
       "    </tr>\n",
       "    <tr>\n",
       "      <th>6</th>\n",
       "      <td>Kuga</td>\n",
       "      <td>2019</td>\n",
       "      <td>17990</td>\n",
       "      <td>Manual</td>\n",
       "      <td>7038</td>\n",
       "      <td>Petrol</td>\n",
       "      <td>145</td>\n",
       "      <td>34.4</td>\n",
       "      <td>1.5</td>\n",
       "      <td>ford</td>\n",
       "    </tr>\n",
       "    <tr>\n",
       "      <th>7</th>\n",
       "      <td>Tiguan</td>\n",
       "      <td>2019</td>\n",
       "      <td>27490</td>\n",
       "      <td>Semi-Auto</td>\n",
       "      <td>3000</td>\n",
       "      <td>Petrol</td>\n",
       "      <td>145</td>\n",
       "      <td>30.4</td>\n",
       "      <td>2.0</td>\n",
       "      <td>volkswagen</td>\n",
       "    </tr>\n",
       "    <tr>\n",
       "      <th>8</th>\n",
       "      <td>Fiesta</td>\n",
       "      <td>2018</td>\n",
       "      <td>9891</td>\n",
       "      <td>Manual</td>\n",
       "      <td>31639</td>\n",
       "      <td>Petrol</td>\n",
       "      <td>145</td>\n",
       "      <td>65.7</td>\n",
       "      <td>1.0</td>\n",
       "      <td>ford</td>\n",
       "    </tr>\n",
       "    <tr>\n",
       "      <th>9</th>\n",
       "      <td>A Class</td>\n",
       "      <td>2017</td>\n",
       "      <td>17498</td>\n",
       "      <td>Manual</td>\n",
       "      <td>9663</td>\n",
       "      <td>Diesel</td>\n",
       "      <td>30</td>\n",
       "      <td>62.8</td>\n",
       "      <td>2.1</td>\n",
       "      <td>merc</td>\n",
       "    </tr>\n",
       "  </tbody>\n",
       "</table>\n",
       "</div>"
      ],
      "text/plain": [
       "           model  year  price transmission  mileage fuelType  tax   mpg  \\\n",
       "0            I10  2017   7495       Manual    11630   Petrol  145  60.1   \n",
       "1           Polo  2017  10989       Manual     9200   Petrol  145  58.9   \n",
       "2       2 Series  2019  27990    Semi-Auto     1614   Diesel  145  49.6   \n",
       "3   Yeti Outdoor  2017  12495       Manual    30960   Diesel  150  62.8   \n",
       "4         Fiesta  2017   7999       Manual    19353   Petrol  125  54.3   \n",
       "5           C-HR  2019  26791    Automatic     2373   Hybrid  135  74.3   \n",
       "6           Kuga  2019  17990       Manual     7038   Petrol  145  34.4   \n",
       "7         Tiguan  2019  27490    Semi-Auto     3000   Petrol  145  30.4   \n",
       "8         Fiesta  2018   9891       Manual    31639   Petrol  145  65.7   \n",
       "9        A Class  2017  17498       Manual     9663   Diesel   30  62.8   \n",
       "\n",
       "   engineSize Manufacturer  \n",
       "0         1.0       hyundi  \n",
       "1         1.0   volkswagen  \n",
       "2         2.0          BMW  \n",
       "3         2.0        skoda  \n",
       "4         1.2         ford  \n",
       "5         1.8       toyota  \n",
       "6         1.5         ford  \n",
       "7         2.0   volkswagen  \n",
       "8         1.0         ford  \n",
       "9         2.1         merc  "
      ]
     },
     "execution_count": 5,
     "metadata": {},
     "output_type": "execute_result"
    }
   ],
   "source": [
    "# print first ten rows of the dataframe\n",
    "car_df.head(10)"
   ]
  },
  {
   "cell_type": "code",
   "execution_count": 9,
   "id": "7f23b4f0",
   "metadata": {},
   "outputs": [
    {
     "data": {
      "text/html": [
       "<div>\n",
       "<style scoped>\n",
       "    .dataframe tbody tr th:only-of-type {\n",
       "        vertical-align: middle;\n",
       "    }\n",
       "\n",
       "    .dataframe tbody tr th {\n",
       "        vertical-align: top;\n",
       "    }\n",
       "\n",
       "    .dataframe thead th {\n",
       "        text-align: right;\n",
       "    }\n",
       "</style>\n",
       "<table border=\"1\" class=\"dataframe\">\n",
       "  <thead>\n",
       "    <tr style=\"text-align: right;\">\n",
       "      <th></th>\n",
       "      <th>model</th>\n",
       "      <th>year</th>\n",
       "      <th>price</th>\n",
       "      <th>transmission</th>\n",
       "      <th>mileage</th>\n",
       "      <th>fuelType</th>\n",
       "      <th>tax</th>\n",
       "      <th>mpg</th>\n",
       "      <th>engineSize</th>\n",
       "      <th>Manufacturer</th>\n",
       "    </tr>\n",
       "  </thead>\n",
       "  <tbody>\n",
       "    <tr>\n",
       "      <th>785</th>\n",
       "      <td>SLK</td>\n",
       "      <td>1998</td>\n",
       "      <td>1990</td>\n",
       "      <td>Automatic</td>\n",
       "      <td>99300</td>\n",
       "      <td>Petrol</td>\n",
       "      <td>265</td>\n",
       "      <td>32.1</td>\n",
       "      <td>2.3</td>\n",
       "      <td>merc</td>\n",
       "    </tr>\n",
       "    <tr>\n",
       "      <th>3475</th>\n",
       "      <td>A3</td>\n",
       "      <td>1998</td>\n",
       "      <td>4999</td>\n",
       "      <td>Automatic</td>\n",
       "      <td>55000</td>\n",
       "      <td>Petrol</td>\n",
       "      <td>265</td>\n",
       "      <td>30.4</td>\n",
       "      <td>1.8</td>\n",
       "      <td>Audi</td>\n",
       "    </tr>\n",
       "    <tr>\n",
       "      <th>4410</th>\n",
       "      <td>Land Cruiser</td>\n",
       "      <td>1998</td>\n",
       "      <td>19990</td>\n",
       "      <td>Manual</td>\n",
       "      <td>100000</td>\n",
       "      <td>Diesel</td>\n",
       "      <td>265</td>\n",
       "      <td>23.9</td>\n",
       "      <td>4.2</td>\n",
       "      <td>toyota</td>\n",
       "    </tr>\n",
       "    <tr>\n",
       "      <th>15557</th>\n",
       "      <td>A8</td>\n",
       "      <td>1997</td>\n",
       "      <td>4650</td>\n",
       "      <td>Automatic</td>\n",
       "      <td>122000</td>\n",
       "      <td>Petrol</td>\n",
       "      <td>265</td>\n",
       "      <td>18.9</td>\n",
       "      <td>4.2</td>\n",
       "      <td>Audi</td>\n",
       "    </tr>\n",
       "    <tr>\n",
       "      <th>20972</th>\n",
       "      <td>SL CLASS</td>\n",
       "      <td>1997</td>\n",
       "      <td>9995</td>\n",
       "      <td>Automatic</td>\n",
       "      <td>76000</td>\n",
       "      <td>Petrol</td>\n",
       "      <td>255</td>\n",
       "      <td>28.2</td>\n",
       "      <td>3.2</td>\n",
       "      <td>merc</td>\n",
       "    </tr>\n",
       "    <tr>\n",
       "      <th>22144</th>\n",
       "      <td>3 Series</td>\n",
       "      <td>1999</td>\n",
       "      <td>1200</td>\n",
       "      <td>Automatic</td>\n",
       "      <td>82000</td>\n",
       "      <td>Petrol</td>\n",
       "      <td>245</td>\n",
       "      <td>31.0</td>\n",
       "      <td>2.8</td>\n",
       "      <td>BMW</td>\n",
       "    </tr>\n",
       "    <tr>\n",
       "      <th>22528</th>\n",
       "      <td>Z3</td>\n",
       "      <td>1999</td>\n",
       "      <td>3995</td>\n",
       "      <td>Manual</td>\n",
       "      <td>74282</td>\n",
       "      <td>Petrol</td>\n",
       "      <td>245</td>\n",
       "      <td>35.3</td>\n",
       "      <td>1.9</td>\n",
       "      <td>BMW</td>\n",
       "    </tr>\n",
       "    <tr>\n",
       "      <th>33386</th>\n",
       "      <td>Escort</td>\n",
       "      <td>1996</td>\n",
       "      <td>3000</td>\n",
       "      <td>Manual</td>\n",
       "      <td>50000</td>\n",
       "      <td>Petrol</td>\n",
       "      <td>265</td>\n",
       "      <td>34.4</td>\n",
       "      <td>1.8</td>\n",
       "      <td>ford</td>\n",
       "    </tr>\n",
       "    <tr>\n",
       "      <th>35832</th>\n",
       "      <td>Z3</td>\n",
       "      <td>1998</td>\n",
       "      <td>3950</td>\n",
       "      <td>Manual</td>\n",
       "      <td>56500</td>\n",
       "      <td>Petrol</td>\n",
       "      <td>270</td>\n",
       "      <td>35.3</td>\n",
       "      <td>1.9</td>\n",
       "      <td>BMW</td>\n",
       "    </tr>\n",
       "    <tr>\n",
       "      <th>37845</th>\n",
       "      <td>Z3</td>\n",
       "      <td>1999</td>\n",
       "      <td>3995</td>\n",
       "      <td>Manual</td>\n",
       "      <td>51949</td>\n",
       "      <td>Petrol</td>\n",
       "      <td>255</td>\n",
       "      <td>35.3</td>\n",
       "      <td>1.9</td>\n",
       "      <td>BMW</td>\n",
       "    </tr>\n",
       "  </tbody>\n",
       "</table>\n",
       "</div>"
      ],
      "text/plain": [
       "               model  year  price transmission  mileage fuelType  tax   mpg  \\\n",
       "785              SLK  1998   1990    Automatic    99300   Petrol  265  32.1   \n",
       "3475              A3  1998   4999    Automatic    55000   Petrol  265  30.4   \n",
       "4410    Land Cruiser  1998  19990       Manual   100000   Diesel  265  23.9   \n",
       "15557             A8  1997   4650    Automatic   122000   Petrol  265  18.9   \n",
       "20972       SL CLASS  1997   9995    Automatic    76000   Petrol  255  28.2   \n",
       "22144       3 Series  1999   1200    Automatic    82000   Petrol  245  31.0   \n",
       "22528             Z3  1999   3995       Manual    74282   Petrol  245  35.3   \n",
       "33386         Escort  1996   3000       Manual    50000   Petrol  265  34.4   \n",
       "35832             Z3  1998   3950       Manual    56500   Petrol  270  35.3   \n",
       "37845             Z3  1999   3995       Manual    51949   Petrol  255  35.3   \n",
       "\n",
       "       engineSize Manufacturer  \n",
       "785           2.3         merc  \n",
       "3475          1.8         Audi  \n",
       "4410          4.2       toyota  \n",
       "15557         4.2         Audi  \n",
       "20972         3.2         merc  \n",
       "22144         2.8          BMW  \n",
       "22528         1.9          BMW  \n",
       "33386         1.8         ford  \n",
       "35832         1.9          BMW  \n",
       "37845         1.9          BMW  "
      ]
     },
     "execution_count": 9,
     "metadata": {},
     "output_type": "execute_result"
    }
   ],
   "source": [
    "# print five rows of the dataframe where year<2000\n",
    "car_df[car_df['year']<2000].head(5)"
   ]
  },
  {
   "cell_type": "code",
   "execution_count": 11,
   "id": "cf4d07d2",
   "metadata": {},
   "outputs": [
    {
     "data": {
      "text/plain": [
       "(97712, 10)"
      ]
     },
     "execution_count": 11,
     "metadata": {},
     "output_type": "execute_result"
    }
   ],
   "source": [
    "#number of rows and columns in the dataset\n",
    "car_df.shape"
   ]
  },
  {
   "cell_type": "code",
   "execution_count": 12,
   "id": "4cd85789",
   "metadata": {},
   "outputs": [
    {
     "name": "stdout",
     "output_type": "stream",
     "text": [
      "<class 'pandas.core.frame.DataFrame'>\n",
      "RangeIndex: 97712 entries, 0 to 97711\n",
      "Data columns (total 10 columns):\n",
      " #   Column        Non-Null Count  Dtype  \n",
      "---  ------        --------------  -----  \n",
      " 0   model         97712 non-null  object \n",
      " 1   year          97712 non-null  int64  \n",
      " 2   price         97712 non-null  int64  \n",
      " 3   transmission  97712 non-null  object \n",
      " 4   mileage       97712 non-null  int64  \n",
      " 5   fuelType      97712 non-null  object \n",
      " 6   tax           97712 non-null  int64  \n",
      " 7   mpg           97712 non-null  float64\n",
      " 8   engineSize    97712 non-null  float64\n",
      " 9   Manufacturer  97712 non-null  object \n",
      "dtypes: float64(2), int64(4), object(4)\n",
      "memory usage: 7.5+ MB\n"
     ]
    }
   ],
   "source": [
    "#dataset info\n",
    "car_df.info()"
   ]
  },
  {
   "cell_type": "code",
   "execution_count": 137,
   "id": "5d8d474b",
   "metadata": {},
   "outputs": [
    {
     "data": {
      "text/plain": [
       "index           0\n",
       "model           0\n",
       "year            0\n",
       "price           0\n",
       "transmission    0\n",
       "mileage         0\n",
       "fuelType        0\n",
       "tax             0\n",
       "mpg             0\n",
       "engineSize      0\n",
       "Manufacturer    0\n",
       "dtype: int64"
      ]
     },
     "execution_count": 137,
     "metadata": {},
     "output_type": "execute_result"
    }
   ],
   "source": [
    "car_df.isnull().sum()"
   ]
  },
  {
   "cell_type": "markdown",
   "id": "2e98e888",
   "metadata": {},
   "source": [
    "### Handling Zero values"
   ]
  },
  {
   "cell_type": "code",
   "execution_count": 4,
   "id": "3b5fdac2",
   "metadata": {},
   "outputs": [
    {
     "data": {
      "text/plain": [
       "True"
      ]
     },
     "execution_count": 4,
     "metadata": {},
     "output_type": "execute_result"
    }
   ],
   "source": [
    " 0 in car_df['tax'].values"
   ]
  },
  {
   "cell_type": "code",
   "execution_count": 5,
   "id": "95aa98d9",
   "metadata": {},
   "outputs": [],
   "source": [
    "car_df = car_df[car_df['tax'] !=0].reset_index()"
   ]
  },
  {
   "cell_type": "code",
   "execution_count": 6,
   "id": "3ec5e11a",
   "metadata": {
    "scrolled": true
   },
   "outputs": [
    {
     "data": {
      "text/plain": [
       "False"
      ]
     },
     "execution_count": 6,
     "metadata": {},
     "output_type": "execute_result"
    }
   ],
   "source": [
    " 0 in car_df['tax'].values"
   ]
  },
  {
   "cell_type": "code",
   "execution_count": 39,
   "id": "a5c22c6f",
   "metadata": {},
   "outputs": [
    {
     "data": {
      "text/html": [
       "<div>\n",
       "<style scoped>\n",
       "    .dataframe tbody tr th:only-of-type {\n",
       "        vertical-align: middle;\n",
       "    }\n",
       "\n",
       "    .dataframe tbody tr th {\n",
       "        vertical-align: top;\n",
       "    }\n",
       "\n",
       "    .dataframe thead th {\n",
       "        text-align: right;\n",
       "    }\n",
       "</style>\n",
       "<table border=\"1\" class=\"dataframe\">\n",
       "  <thead>\n",
       "    <tr style=\"text-align: right;\">\n",
       "      <th></th>\n",
       "      <th>year</th>\n",
       "      <th>price</th>\n",
       "      <th>mileage</th>\n",
       "      <th>tax</th>\n",
       "      <th>mpg</th>\n",
       "      <th>engineSize</th>\n",
       "    </tr>\n",
       "  </thead>\n",
       "  <tbody>\n",
       "    <tr>\n",
       "      <th>count</th>\n",
       "      <td>91453.000000</td>\n",
       "      <td>91453.000000</td>\n",
       "      <td>91453.000000</td>\n",
       "      <td>91453.000000</td>\n",
       "      <td>91453.000000</td>\n",
       "      <td>91453.000000</td>\n",
       "    </tr>\n",
       "    <tr>\n",
       "      <th>mean</th>\n",
       "      <td>2017.162400</td>\n",
       "      <td>17232.002253</td>\n",
       "      <td>22346.730189</td>\n",
       "      <td>128.364898</td>\n",
       "      <td>53.670961</td>\n",
       "      <td>1.684303</td>\n",
       "    </tr>\n",
       "    <tr>\n",
       "      <th>std</th>\n",
       "      <td>2.134665</td>\n",
       "      <td>9990.694541</td>\n",
       "      <td>20835.653379</td>\n",
       "      <td>56.862813</td>\n",
       "      <td>13.158730</td>\n",
       "      <td>0.564945</td>\n",
       "    </tr>\n",
       "    <tr>\n",
       "      <th>min</th>\n",
       "      <td>1970.000000</td>\n",
       "      <td>450.000000</td>\n",
       "      <td>1.000000</td>\n",
       "      <td>10.000000</td>\n",
       "      <td>0.300000</td>\n",
       "      <td>0.000000</td>\n",
       "    </tr>\n",
       "    <tr>\n",
       "      <th>25%</th>\n",
       "      <td>2016.000000</td>\n",
       "      <td>10491.000000</td>\n",
       "      <td>7079.000000</td>\n",
       "      <td>125.000000</td>\n",
       "      <td>45.600000</td>\n",
       "      <td>1.300000</td>\n",
       "    </tr>\n",
       "    <tr>\n",
       "      <th>50%</th>\n",
       "      <td>2017.000000</td>\n",
       "      <td>14995.000000</td>\n",
       "      <td>16539.000000</td>\n",
       "      <td>145.000000</td>\n",
       "      <td>54.300000</td>\n",
       "      <td>1.600000</td>\n",
       "    </tr>\n",
       "    <tr>\n",
       "      <th>75%</th>\n",
       "      <td>2019.000000</td>\n",
       "      <td>21295.000000</td>\n",
       "      <td>31302.000000</td>\n",
       "      <td>145.000000</td>\n",
       "      <td>60.100000</td>\n",
       "      <td>2.000000</td>\n",
       "    </tr>\n",
       "    <tr>\n",
       "      <th>max</th>\n",
       "      <td>2024.000000</td>\n",
       "      <td>159999.000000</td>\n",
       "      <td>323000.000000</td>\n",
       "      <td>580.000000</td>\n",
       "      <td>470.800000</td>\n",
       "      <td>6.600000</td>\n",
       "    </tr>\n",
       "  </tbody>\n",
       "</table>\n",
       "</div>"
      ],
      "text/plain": [
       "               year          price        mileage           tax           mpg  \\\n",
       "count  91453.000000   91453.000000   91453.000000  91453.000000  91453.000000   \n",
       "mean    2017.162400   17232.002253   22346.730189    128.364898     53.670961   \n",
       "std        2.134665    9990.694541   20835.653379     56.862813     13.158730   \n",
       "min     1970.000000     450.000000       1.000000     10.000000      0.300000   \n",
       "25%     2016.000000   10491.000000    7079.000000    125.000000     45.600000   \n",
       "50%     2017.000000   14995.000000   16539.000000    145.000000     54.300000   \n",
       "75%     2019.000000   21295.000000   31302.000000    145.000000     60.100000   \n",
       "max     2024.000000  159999.000000  323000.000000    580.000000    470.800000   \n",
       "\n",
       "         engineSize  \n",
       "count  91453.000000  \n",
       "mean       1.684303  \n",
       "std        0.564945  \n",
       "min        0.000000  \n",
       "25%        1.300000  \n",
       "50%        1.600000  \n",
       "75%        2.000000  \n",
       "max        6.600000  "
      ]
     },
     "execution_count": 39,
     "metadata": {},
     "output_type": "execute_result"
    }
   ],
   "source": [
    "car_df.describe()"
   ]
  },
  {
   "cell_type": "code",
   "execution_count": 40,
   "id": "a4b2847d",
   "metadata": {
    "scrolled": true
   },
   "outputs": [
    {
     "data": {
      "text/html": [
       "<div>\n",
       "<style scoped>\n",
       "    .dataframe tbody tr th:only-of-type {\n",
       "        vertical-align: middle;\n",
       "    }\n",
       "\n",
       "    .dataframe tbody tr th {\n",
       "        vertical-align: top;\n",
       "    }\n",
       "\n",
       "    .dataframe thead th {\n",
       "        text-align: right;\n",
       "    }\n",
       "</style>\n",
       "<table border=\"1\" class=\"dataframe\">\n",
       "  <thead>\n",
       "    <tr style=\"text-align: right;\">\n",
       "      <th></th>\n",
       "      <th>model</th>\n",
       "      <th>year</th>\n",
       "      <th>price</th>\n",
       "      <th>transmission</th>\n",
       "      <th>mileage</th>\n",
       "      <th>fuelType</th>\n",
       "      <th>tax</th>\n",
       "      <th>mpg</th>\n",
       "      <th>engineSize</th>\n",
       "      <th>Manufacturer</th>\n",
       "    </tr>\n",
       "  </thead>\n",
       "  <tbody>\n",
       "    <tr>\n",
       "      <th>2</th>\n",
       "      <td>2 Series</td>\n",
       "      <td>2019</td>\n",
       "      <td>27990</td>\n",
       "      <td>Semi-Auto</td>\n",
       "      <td>1614</td>\n",
       "      <td>Diesel</td>\n",
       "      <td>145</td>\n",
       "      <td>49.6</td>\n",
       "      <td>2.0</td>\n",
       "      <td>BMW</td>\n",
       "    </tr>\n",
       "    <tr>\n",
       "      <th>5</th>\n",
       "      <td>C-HR</td>\n",
       "      <td>2019</td>\n",
       "      <td>26791</td>\n",
       "      <td>Automatic</td>\n",
       "      <td>2373</td>\n",
       "      <td>Hybrid</td>\n",
       "      <td>135</td>\n",
       "      <td>74.3</td>\n",
       "      <td>1.8</td>\n",
       "      <td>toyota</td>\n",
       "    </tr>\n",
       "    <tr>\n",
       "      <th>7</th>\n",
       "      <td>Tiguan</td>\n",
       "      <td>2019</td>\n",
       "      <td>27490</td>\n",
       "      <td>Semi-Auto</td>\n",
       "      <td>3000</td>\n",
       "      <td>Petrol</td>\n",
       "      <td>145</td>\n",
       "      <td>30.4</td>\n",
       "      <td>2.0</td>\n",
       "      <td>volkswagen</td>\n",
       "    </tr>\n",
       "    <tr>\n",
       "      <th>15</th>\n",
       "      <td>RAV4</td>\n",
       "      <td>2016</td>\n",
       "      <td>20790</td>\n",
       "      <td>Automatic</td>\n",
       "      <td>32196</td>\n",
       "      <td>Hybrid</td>\n",
       "      <td>20</td>\n",
       "      <td>55.4</td>\n",
       "      <td>2.5</td>\n",
       "      <td>toyota</td>\n",
       "    </tr>\n",
       "    <tr>\n",
       "      <th>20</th>\n",
       "      <td>Q5</td>\n",
       "      <td>2020</td>\n",
       "      <td>37000</td>\n",
       "      <td>Semi-Auto</td>\n",
       "      <td>1000</td>\n",
       "      <td>Diesel</td>\n",
       "      <td>145</td>\n",
       "      <td>38.2</td>\n",
       "      <td>2.0</td>\n",
       "      <td>Audi</td>\n",
       "    </tr>\n",
       "    <tr>\n",
       "      <th>...</th>\n",
       "      <td>...</td>\n",
       "      <td>...</td>\n",
       "      <td>...</td>\n",
       "      <td>...</td>\n",
       "      <td>...</td>\n",
       "      <td>...</td>\n",
       "      <td>...</td>\n",
       "      <td>...</td>\n",
       "      <td>...</td>\n",
       "      <td>...</td>\n",
       "    </tr>\n",
       "    <tr>\n",
       "      <th>97648</th>\n",
       "      <td>A3</td>\n",
       "      <td>2017</td>\n",
       "      <td>25990</td>\n",
       "      <td>Semi-Auto</td>\n",
       "      <td>25874</td>\n",
       "      <td>Petrol</td>\n",
       "      <td>150</td>\n",
       "      <td>43.5</td>\n",
       "      <td>2.0</td>\n",
       "      <td>Audi</td>\n",
       "    </tr>\n",
       "    <tr>\n",
       "      <th>97673</th>\n",
       "      <td>Tiguan</td>\n",
       "      <td>2019</td>\n",
       "      <td>29490</td>\n",
       "      <td>Manual</td>\n",
       "      <td>5680</td>\n",
       "      <td>Diesel</td>\n",
       "      <td>145</td>\n",
       "      <td>42.8</td>\n",
       "      <td>2.0</td>\n",
       "      <td>volkswagen</td>\n",
       "    </tr>\n",
       "    <tr>\n",
       "      <th>97675</th>\n",
       "      <td>2 Series</td>\n",
       "      <td>2020</td>\n",
       "      <td>23990</td>\n",
       "      <td>Semi-Auto</td>\n",
       "      <td>9</td>\n",
       "      <td>Petrol</td>\n",
       "      <td>145</td>\n",
       "      <td>47.9</td>\n",
       "      <td>2.0</td>\n",
       "      <td>BMW</td>\n",
       "    </tr>\n",
       "    <tr>\n",
       "      <th>97694</th>\n",
       "      <td>A5</td>\n",
       "      <td>2019</td>\n",
       "      <td>31990</td>\n",
       "      <td>Automatic</td>\n",
       "      <td>1585</td>\n",
       "      <td>Petrol</td>\n",
       "      <td>145</td>\n",
       "      <td>37.2</td>\n",
       "      <td>2.0</td>\n",
       "      <td>Audi</td>\n",
       "    </tr>\n",
       "    <tr>\n",
       "      <th>97700</th>\n",
       "      <td>Edge</td>\n",
       "      <td>2017</td>\n",
       "      <td>22000</td>\n",
       "      <td>Automatic</td>\n",
       "      <td>17515</td>\n",
       "      <td>Diesel</td>\n",
       "      <td>145</td>\n",
       "      <td>47.9</td>\n",
       "      <td>2.0</td>\n",
       "      <td>ford</td>\n",
       "    </tr>\n",
       "  </tbody>\n",
       "</table>\n",
       "<p>24338 rows × 10 columns</p>\n",
       "</div>"
      ],
      "text/plain": [
       "           model  year  price transmission  mileage fuelType  tax   mpg  \\\n",
       "2       2 Series  2019  27990    Semi-Auto     1614   Diesel  145  49.6   \n",
       "5           C-HR  2019  26791    Automatic     2373   Hybrid  135  74.3   \n",
       "7         Tiguan  2019  27490    Semi-Auto     3000   Petrol  145  30.4   \n",
       "15          RAV4  2016  20790    Automatic    32196   Hybrid   20  55.4   \n",
       "20            Q5  2020  37000    Semi-Auto     1000   Diesel  145  38.2   \n",
       "...          ...   ...    ...          ...      ...      ...  ...   ...   \n",
       "97648         A3  2017  25990    Semi-Auto    25874   Petrol  150  43.5   \n",
       "97673     Tiguan  2019  29490       Manual     5680   Diesel  145  42.8   \n",
       "97675   2 Series  2020  23990    Semi-Auto        9   Petrol  145  47.9   \n",
       "97694         A5  2019  31990    Automatic     1585   Petrol  145  37.2   \n",
       "97700       Edge  2017  22000    Automatic    17515   Diesel  145  47.9   \n",
       "\n",
       "       engineSize Manufacturer  \n",
       "2             2.0          BMW  \n",
       "5             1.8       toyota  \n",
       "7             2.0   volkswagen  \n",
       "15            2.5       toyota  \n",
       "20            2.0         Audi  \n",
       "...           ...          ...  \n",
       "97648         2.0         Audi  \n",
       "97673         2.0   volkswagen  \n",
       "97675         2.0          BMW  \n",
       "97694         2.0         Audi  \n",
       "97700         2.0         ford  \n",
       "\n",
       "[24338 rows x 10 columns]"
      ]
     },
     "execution_count": 40,
     "metadata": {},
     "output_type": "execute_result"
    }
   ],
   "source": [
    "car_df[car_df['price']>20750]"
   ]
  },
  {
   "cell_type": "markdown",
   "id": "bba0f618",
   "metadata": {},
   "source": [
    "# Data visualization"
   ]
  },
  {
   "cell_type": "code",
   "execution_count": 97,
   "id": "7f8ff59e",
   "metadata": {},
   "outputs": [
    {
     "data": {
      "image/png": "[encoded data removed]",
      "text/plain": [
       "<Figure size 800x800 with 1 Axes>"
      ]
     },
     "metadata": {},
     "output_type": "display_data"
    },
    {
     "name": "stdout",
     "output_type": "stream",
     "text": [
      "\n",
      "\n"
     ]
    },
    {
     "data": {
      "image/png": "[encoded data removed]",
      "text/plain": [
       "<Figure size 800x800 with 1 Axes>"
      ]
     },
     "metadata": {},
     "output_type": "display_data"
    },
    {
     "name": "stdout",
     "output_type": "stream",
     "text": [
      "\n",
      "\n"
     ]
    },
    {
     "data": {
      "image/png": "[encoded data removed]",
      "text/plain": [
       "<Figure size 800x800 with 1 Axes>"
      ]
     },
     "metadata": {},
     "output_type": "display_data"
    },
    {
     "name": "stdout",
     "output_type": "stream",
     "text": [
      "\n",
      "\n"
     ]
    },
    {
     "data": {
      "image/png": "[encoded data removed]",
      "text/plain": [
       "<Figure size 800x800 with 1 Axes>"
      ]
     },
     "metadata": {},
     "output_type": "display_data"
    },
    {
     "name": "stdout",
     "output_type": "stream",
     "text": [
      "\n",
      "\n"
     ]
    },
    {
     "data": {
      "image/png": "[encoded data removed]",
      "text/plain": [
       "<Figure size 800x800 with 1 Axes>"
      ]
     },
     "metadata": {},
     "output_type": "display_data"
    },
    {
     "name": "stdout",
     "output_type": "stream",
     "text": [
      "\n",
      "\n"
     ]
    },
    {
     "data": {
      "image/png": "[encoded data removed]",
      "text/plain": [
       "<Figure size 800x800 with 1 Axes>"
      ]
     },
     "metadata": {},
     "output_type": "display_data"
    },
    {
     "name": "stdout",
     "output_type": "stream",
     "text": [
      "\n",
      "\n"
     ]
    }
   ],
   "source": [
    "for i in car_df:\n",
    "    if i == 'model' or i == 'transmission' or i == 'fuelType'or i == 'Manufacturer':\n",
    "        continue\n",
    "    else:\n",
    "        plt.figure(figsize=(8,8))\n",
    "        sns.boxplot(y=car_df[i], color='skyblue')\n",
    "        plt.title(i)\n",
    "        plt.show()\n",
    "        print(\"\\n\")"
   ]
  },
  {
   "cell_type": "code",
   "execution_count": 102,
   "id": "7bd2ac44",
   "metadata": {},
   "outputs": [
    {
     "data": {
      "image/png": "[encoded data removed]",
      "text/plain": [
       "<Figure size 800x800 with 1 Axes>"
      ]
     },
     "metadata": {},
     "output_type": "display_data"
    },
    {
     "name": "stdout",
     "output_type": "stream",
     "text": [
      "\n",
      "\n"
     ]
    },
    {
     "data": {
      "image/png": "[encoded data removed]",
      "text/plain": [
       "<Figure size 800x800 with 1 Axes>"
      ]
     },
     "metadata": {},
     "output_type": "display_data"
    },
    {
     "name": "stdout",
     "output_type": "stream",
     "text": [
      "\n",
      "\n"
     ]
    },
    {
     "data": {
      "image/png": "[encoded data removed]",
      "text/plain": [
       "<Figure size 800x800 with 1 Axes>"
      ]
     },
     "metadata": {},
     "output_type": "display_data"
    },
    {
     "name": "stdout",
     "output_type": "stream",
     "text": [
      "\n",
      "\n"
     ]
    }
   ],
   "source": [
    "for i in car_df:\n",
    "    if i == 'transmission' or i == 'fuelType'or i == 'Manufacturer':\n",
    "        plt.figure(figsize=(8,8))\n",
    "        sns.countplot(data=car_df, x = i,palette = 'rocket')\n",
    "        plt.show()\n",
    "        print(\"\\n\")\n",
    "    else:\n",
    "        continue"
   ]
  },
  {
   "cell_type": "code",
   "execution_count": 114,
   "id": "3ffde894",
   "metadata": {},
   "outputs": [
    {
     "data": {
      "text/plain": [
       "Text(0, 0.5, 'Total Price')"
      ]
     },
     "execution_count": 114,
     "metadata": {},
     "output_type": "execute_result"
    },
    {
     "data": {
      "image/png": "[encoded data removed]",
      "text/plain": [
       "<Figure size 1000x600 with 1 Axes>"
      ]
     },
     "metadata": {},
     "output_type": "display_data"
    }
   ],
   "source": [
    "#Car prices over the year\n",
    "plt.figure(figsize=(10, 6))\n",
    "ax = car_df.groupby('year')['price'].sum().plot(kind='line', color=sns.color_palette('pastel'))\n",
    "\n",
    "ax.get_yaxis().set_major_formatter(plt.FuncFormatter(lambda x, loc: \"{:,}\".format(int(x))))\n",
    "\n",
    "plt.title('Annual Sum of Prices')\n",
    "plt.xlabel('Year')\n",
    "plt.ylabel('Total Price')"
   ]
  },
  {
   "cell_type": "code",
   "execution_count": 104,
   "id": "fec33713",
   "metadata": {},
   "outputs": [
    {
     "data": {
      "image/png": "[encoded data removed]",
      "text/plain": [
       "<Figure size 1200x800 with 1 Axes>"
      ]
     },
     "metadata": {},
     "output_type": "display_data"
    }
   ],
   "source": [
    "#Total Price by Vehicle Model\n",
    "plt.figure(figsize=(12, 8))\n",
    "ax = car_df.groupby(\"model\")['price'].sum().sort_values(ascending=False)[15::-1].plot(\n",
    "    kind='barh',\n",
    "    color=sns.color_palette(\"Spectral\")\n",
    ")\n",
    "\n",
    "ax.set_title('Total Price by Vehicle Model', fontsize=16)\n",
    "ax.set_xlabel('Total Price', fontsize=14)\n",
    "ax.set_ylabel('Model', fontsize=14)\n",
    "\n",
    "ax.get_xaxis().set_major_formatter(plt.FuncFormatter(lambda x, loc: \"{:,}\".format(int(x))))\n",
    "for p in ax.patches:\n",
    "    ax.annotate(f'${p.get_width():,.0f}', (p.get_width(), p.get_y() + p.get_height() / 2),\n",
    "                ha='left', va='center', fontsize=10, color='black', xytext=(5, 0),\n",
    "                textcoords='offset points')\n",
    "\n",
    "ax.set_xlim(0, 100_000_000)\n",
    "plt.show()"
   ]
  },
  {
   "cell_type": "code",
   "execution_count": 110,
   "id": "212e99a2",
   "metadata": {},
   "outputs": [
    {
     "data": {
      "image/png": "[encoded data removed]",
      "text/plain": [
       "<Figure size 1000x1000 with 2 Axes>"
      ]
     },
     "metadata": {},
     "output_type": "display_data"
    }
   ],
   "source": [
    "# Correlation Heatmap without price\n",
    "corr = car_df[['year', 'mileage', 'tax', 'mpg', 'engineSize']].corr()\n",
    "#corr=car_df.select_dtypes(include='number').columns\n",
    "plt.figure(figsize=(10,10))\n",
    "sns.heatmap(corr, annot=True, cmap='OrRd')\n",
    "plt.title('Correlation Heatmap')\n",
    "plt.show()"
   ]
  },
  {
   "cell_type": "markdown",
   "id": "a560037a",
   "metadata": {},
   "source": [
    "# TrainTest"
   ]
  },
  {
   "cell_type": "code",
   "execution_count": 7,
   "id": "6690d8c1",
   "metadata": {},
   "outputs": [],
   "source": [
    "X = car_df.drop(columns = ['price'], axis=1)\n",
    "Y = car_df['price']"
   ]
  },
  {
   "cell_type": "code",
   "execution_count": 7,
   "id": "13b9c89e",
   "metadata": {},
   "outputs": [
    {
     "data": {
      "text/html": [
       "<div>\n",
       "<style scoped>\n",
       "    .dataframe tbody tr th:only-of-type {\n",
       "        vertical-align: middle;\n",
       "    }\n",
       "\n",
       "    .dataframe tbody tr th {\n",
       "        vertical-align: top;\n",
       "    }\n",
       "\n",
       "    .dataframe thead th {\n",
       "        text-align: right;\n",
       "    }\n",
       "</style>\n",
       "<table border=\"1\" class=\"dataframe\">\n",
       "  <thead>\n",
       "    <tr style=\"text-align: right;\">\n",
       "      <th></th>\n",
       "      <th>index</th>\n",
       "      <th>model</th>\n",
       "      <th>year</th>\n",
       "      <th>transmission</th>\n",
       "      <th>mileage</th>\n",
       "      <th>fuelType</th>\n",
       "      <th>tax</th>\n",
       "      <th>mpg</th>\n",
       "      <th>engineSize</th>\n",
       "      <th>Manufacturer</th>\n",
       "    </tr>\n",
       "  </thead>\n",
       "  <tbody>\n",
       "    <tr>\n",
       "      <th>0</th>\n",
       "      <td>0</td>\n",
       "      <td>I10</td>\n",
       "      <td>2017</td>\n",
       "      <td>Manual</td>\n",
       "      <td>11630</td>\n",
       "      <td>Petrol</td>\n",
       "      <td>145</td>\n",
       "      <td>60.1</td>\n",
       "      <td>1.0</td>\n",
       "      <td>hyundi</td>\n",
       "    </tr>\n",
       "    <tr>\n",
       "      <th>1</th>\n",
       "      <td>1</td>\n",
       "      <td>Polo</td>\n",
       "      <td>2017</td>\n",
       "      <td>Manual</td>\n",
       "      <td>9200</td>\n",
       "      <td>Petrol</td>\n",
       "      <td>145</td>\n",
       "      <td>58.9</td>\n",
       "      <td>1.0</td>\n",
       "      <td>volkswagen</td>\n",
       "    </tr>\n",
       "    <tr>\n",
       "      <th>2</th>\n",
       "      <td>2</td>\n",
       "      <td>2 Series</td>\n",
       "      <td>2019</td>\n",
       "      <td>Semi-Auto</td>\n",
       "      <td>1614</td>\n",
       "      <td>Diesel</td>\n",
       "      <td>145</td>\n",
       "      <td>49.6</td>\n",
       "      <td>2.0</td>\n",
       "      <td>BMW</td>\n",
       "    </tr>\n",
       "    <tr>\n",
       "      <th>3</th>\n",
       "      <td>3</td>\n",
       "      <td>Yeti Outdoor</td>\n",
       "      <td>2017</td>\n",
       "      <td>Manual</td>\n",
       "      <td>30960</td>\n",
       "      <td>Diesel</td>\n",
       "      <td>150</td>\n",
       "      <td>62.8</td>\n",
       "      <td>2.0</td>\n",
       "      <td>skoda</td>\n",
       "    </tr>\n",
       "    <tr>\n",
       "      <th>4</th>\n",
       "      <td>4</td>\n",
       "      <td>Fiesta</td>\n",
       "      <td>2017</td>\n",
       "      <td>Manual</td>\n",
       "      <td>19353</td>\n",
       "      <td>Petrol</td>\n",
       "      <td>125</td>\n",
       "      <td>54.3</td>\n",
       "      <td>1.2</td>\n",
       "      <td>ford</td>\n",
       "    </tr>\n",
       "    <tr>\n",
       "      <th>...</th>\n",
       "      <td>...</td>\n",
       "      <td>...</td>\n",
       "      <td>...</td>\n",
       "      <td>...</td>\n",
       "      <td>...</td>\n",
       "      <td>...</td>\n",
       "      <td>...</td>\n",
       "      <td>...</td>\n",
       "      <td>...</td>\n",
       "      <td>...</td>\n",
       "    </tr>\n",
       "    <tr>\n",
       "      <th>91448</th>\n",
       "      <td>97707</td>\n",
       "      <td>Fiesta</td>\n",
       "      <td>2017</td>\n",
       "      <td>Automatic</td>\n",
       "      <td>8337</td>\n",
       "      <td>Petrol</td>\n",
       "      <td>145</td>\n",
       "      <td>54.3</td>\n",
       "      <td>1.0</td>\n",
       "      <td>ford</td>\n",
       "    </tr>\n",
       "    <tr>\n",
       "      <th>91449</th>\n",
       "      <td>97708</td>\n",
       "      <td>3 Series</td>\n",
       "      <td>2014</td>\n",
       "      <td>Manual</td>\n",
       "      <td>25372</td>\n",
       "      <td>Diesel</td>\n",
       "      <td>30</td>\n",
       "      <td>61.4</td>\n",
       "      <td>2.0</td>\n",
       "      <td>BMW</td>\n",
       "    </tr>\n",
       "    <tr>\n",
       "      <th>91450</th>\n",
       "      <td>97709</td>\n",
       "      <td>Fiesta</td>\n",
       "      <td>2017</td>\n",
       "      <td>Manual</td>\n",
       "      <td>19910</td>\n",
       "      <td>Petrol</td>\n",
       "      <td>125</td>\n",
       "      <td>54.3</td>\n",
       "      <td>1.2</td>\n",
       "      <td>ford</td>\n",
       "    </tr>\n",
       "    <tr>\n",
       "      <th>91451</th>\n",
       "      <td>97710</td>\n",
       "      <td>Astra</td>\n",
       "      <td>2017</td>\n",
       "      <td>Automatic</td>\n",
       "      <td>24468</td>\n",
       "      <td>Petrol</td>\n",
       "      <td>125</td>\n",
       "      <td>50.4</td>\n",
       "      <td>1.4</td>\n",
       "      <td>vauxhall</td>\n",
       "    </tr>\n",
       "    <tr>\n",
       "      <th>91452</th>\n",
       "      <td>97711</td>\n",
       "      <td>Grandland X</td>\n",
       "      <td>2019</td>\n",
       "      <td>Manual</td>\n",
       "      <td>10586</td>\n",
       "      <td>Diesel</td>\n",
       "      <td>150</td>\n",
       "      <td>48.7</td>\n",
       "      <td>1.5</td>\n",
       "      <td>vauxhall</td>\n",
       "    </tr>\n",
       "  </tbody>\n",
       "</table>\n",
       "<p>91453 rows × 10 columns</p>\n",
       "</div>"
      ],
      "text/plain": [
       "       index          model  year transmission  mileage fuelType  tax   mpg  \\\n",
       "0          0            I10  2017       Manual    11630   Petrol  145  60.1   \n",
       "1          1           Polo  2017       Manual     9200   Petrol  145  58.9   \n",
       "2          2       2 Series  2019    Semi-Auto     1614   Diesel  145  49.6   \n",
       "3          3   Yeti Outdoor  2017       Manual    30960   Diesel  150  62.8   \n",
       "4          4         Fiesta  2017       Manual    19353   Petrol  125  54.3   \n",
       "...      ...            ...   ...          ...      ...      ...  ...   ...   \n",
       "91448  97707         Fiesta  2017    Automatic     8337   Petrol  145  54.3   \n",
       "91449  97708       3 Series  2014       Manual    25372   Diesel   30  61.4   \n",
       "91450  97709         Fiesta  2017       Manual    19910   Petrol  125  54.3   \n",
       "91451  97710          Astra  2017    Automatic    24468   Petrol  125  50.4   \n",
       "91452  97711    Grandland X  2019       Manual    10586   Diesel  150  48.7   \n",
       "\n",
       "       engineSize Manufacturer  \n",
       "0             1.0       hyundi  \n",
       "1             1.0   volkswagen  \n",
       "2             2.0          BMW  \n",
       "3             2.0        skoda  \n",
       "4             1.2         ford  \n",
       "...           ...          ...  \n",
       "91448         1.0         ford  \n",
       "91449         2.0          BMW  \n",
       "91450         1.2         ford  \n",
       "91451         1.4     vauxhall  \n",
       "91452         1.5     vauxhall  \n",
       "\n",
       "[91453 rows x 10 columns]"
      ]
     },
     "execution_count": 7,
     "metadata": {},
     "output_type": "execute_result"
    }
   ],
   "source": [
    "X"
   ]
  },
  {
   "cell_type": "code",
   "execution_count": 8,
   "id": "78d8d499",
   "metadata": {},
   "outputs": [
    {
     "data": {
      "text/plain": [
       "0         7495\n",
       "1        10989\n",
       "2        27990\n",
       "3        12495\n",
       "4         7999\n",
       "         ...  \n",
       "97707    10447\n",
       "97708    14995\n",
       "97709     8950\n",
       "97710    10700\n",
       "97711    15798\n",
       "Name: price, Length: 91453, dtype: int64"
      ]
     },
     "execution_count": 8,
     "metadata": {},
     "output_type": "execute_result"
    }
   ],
   "source": [
    "Y"
   ]
  },
  {
   "cell_type": "code",
   "execution_count": 8,
   "id": "e98d1586",
   "metadata": {},
   "outputs": [],
   "source": [
    "X_train,X_test,Y_train,Y_test=train_test_split(X,Y,test_size=0.2, random_state = 17)"
   ]
  },
  {
   "cell_type": "markdown",
   "id": "c98c2773",
   "metadata": {},
   "source": [
    "# PreProcessing"
   ]
  },
  {
   "cell_type": "code",
   "execution_count": 9,
   "id": "d28ed967",
   "metadata": {},
   "outputs": [
    {
     "data": {
      "text/html": [
       "<style>#sk-container-id-1 {color: black;}#sk-container-id-1 pre{padding: 0;}#sk-container-id-1 div.sk-toggleable {background-color: white;}#sk-container-id-1 label.sk-toggleable__label {cursor: pointer;display: block;width: 100%;margin-bottom: 0;padding: 0.3em;box-sizing: border-box;text-align: center;}#sk-container-id-1 label.sk-toggleable__label-arrow:before {content: \"▸\";float: left;margin-right: 0.25em;color: #696969;}#sk-container-id-1 label.sk-toggleable__label-arrow:hover:before {color: black;}#sk-container-id-1 div.sk-estimator:hover label.sk-toggleable__label-arrow:before {color: black;}#sk-container-id-1 div.sk-toggleable__content {max-height: 0;max-width: 0;overflow: hidden;text-align: left;background-color: #f0f8ff;}#sk-container-id-1 div.sk-toggleable__content pre {margin: 0.2em;color: black;border-radius: 0.25em;background-color: #f0f8ff;}#sk-container-id-1 input.sk-toggleable__control:checked~div.sk-toggleable__content {max-height: 200px;max-width: 100%;overflow: auto;}#sk-container-id-1 input.sk-toggleable__control:checked~label.sk-toggleable__label-arrow:before {content: \"▾\";}#sk-container-id-1 div.sk-estimator input.sk-toggleable__control:checked~label.sk-toggleable__label {background-color: #d4ebff;}#sk-container-id-1 div.sk-label input.sk-toggleable__control:checked~label.sk-toggleable__label {background-color: #d4ebff;}#sk-container-id-1 input.sk-hidden--visually {border: 0;clip: rect(1px 1px 1px 1px);clip: rect(1px, 1px, 1px, 1px);height: 1px;margin: -1px;overflow: hidden;padding: 0;position: absolute;width: 1px;}#sk-container-id-1 div.sk-estimator {font-family: monospace;background-color: #f0f8ff;border: 1px dotted black;border-radius: 0.25em;box-sizing: border-box;margin-bottom: 0.5em;}#sk-container-id-1 div.sk-estimator:hover {background-color: #d4ebff;}#sk-container-id-1 div.sk-parallel-item::after {content: \"\";width: 100%;border-bottom: 1px solid gray;flex-grow: 1;}#sk-container-id-1 div.sk-label:hover label.sk-toggleable__label {background-color: #d4ebff;}#sk-container-id-1 div.sk-serial::before {content: \"\";position: absolute;border-left: 1px solid gray;box-sizing: border-box;top: 0;bottom: 0;left: 50%;z-index: 0;}#sk-container-id-1 div.sk-serial {display: flex;flex-direction: column;align-items: center;background-color: white;padding-right: 0.2em;padding-left: 0.2em;position: relative;}#sk-container-id-1 div.sk-item {position: relative;z-index: 1;}#sk-container-id-1 div.sk-parallel {display: flex;align-items: stretch;justify-content: center;background-color: white;position: relative;}#sk-container-id-1 div.sk-item::before, #sk-container-id-1 div.sk-parallel-item::before {content: \"\";position: absolute;border-left: 1px solid gray;box-sizing: border-box;top: 0;bottom: 0;left: 50%;z-index: -1;}#sk-container-id-1 div.sk-parallel-item {display: flex;flex-direction: column;z-index: 1;position: relative;background-color: white;}#sk-container-id-1 div.sk-parallel-item:first-child::after {align-self: flex-end;width: 50%;}#sk-container-id-1 div.sk-parallel-item:last-child::after {align-self: flex-start;width: 50%;}#sk-container-id-1 div.sk-parallel-item:only-child::after {width: 0;}#sk-container-id-1 div.sk-dashed-wrapped {border: 1px dashed gray;margin: 0 0.4em 0.5em 0.4em;box-sizing: border-box;padding-bottom: 0.4em;background-color: white;}#sk-container-id-1 div.sk-label label {font-family: monospace;font-weight: bold;display: inline-block;line-height: 1.2em;}#sk-container-id-1 div.sk-label-container {text-align: center;}#sk-container-id-1 div.sk-container {/* jupyter's `normalize.less` sets `[hidden] { display: none; }` but bootstrap.min.css set `[hidden] { display: none !important; }` so we also need the `!important` here to be able to override the default hidden behavior on the sphinx rendered scikit-learn.org. See: https://github.com/scikit-learn/scikit-learn/issues/21755 */display: inline-block !important;position: relative;}#sk-container-id-1 div.sk-text-repr-fallback {display: none;}</style><div id=\"sk-container-id-1\" class=\"sk-top-container\"><div class=\"sk-text-repr-fallback\"><pre>OneHotEncoder()</pre><b>In a Jupyter environment, please rerun this cell to show the HTML representation or trust the notebook. <br />On GitHub, the HTML representation is unable to render, please try loading this page with nbviewer.org.</b></div><div class=\"sk-container\" hidden><div class=\"sk-item\"><div class=\"sk-estimator sk-toggleable\"><input class=\"sk-toggleable__control sk-hidden--visually\" id=\"sk-estimator-id-1\" type=\"checkbox\" checked><label for=\"sk-estimator-id-1\" class=\"sk-toggleable__label sk-toggleable__label-arrow\">OneHotEncoder</label><div class=\"sk-toggleable__content\"><pre>OneHotEncoder()</pre></div></div></div></div></div>"
      ],
      "text/plain": [
       "OneHotEncoder()"
      ]
     },
     "execution_count": 9,
     "metadata": {},
     "output_type": "execute_result"
    }
   ],
   "source": [
    "ohe = OneHotEncoder()\n",
    "ohe.fit(X[['model','transmission','fuelType','Manufacturer']])"
   ]
  },
  {
   "cell_type": "code",
   "execution_count": 10,
   "id": "bbdc8e0b",
   "metadata": {},
   "outputs": [],
   "source": [
    "ct1 = make_column_transformer((OneHotEncoder(categories=ohe.categories_),\n",
    "                                       ['model','transmission','fuelType','Manufacturer']),remainder='passthrough')"
   ]
  },
  {
   "cell_type": "code",
   "execution_count": 11,
   "id": "fba4ba25",
   "metadata": {},
   "outputs": [],
   "source": [
    "ct2 = ColumnTransformer([('scale',MaxAbsScaler(),[0,])],remainder='passthrough')"
   ]
  },
  {
   "cell_type": "code",
   "execution_count": 12,
   "id": "9f2354d4",
   "metadata": {},
   "outputs": [],
   "source": [
    "pipe=make_pipeline(ct1,ct2)"
   ]
  },
  {
   "cell_type": "code",
   "execution_count": 13,
   "id": "e5cb5c0e",
   "metadata": {
    "scrolled": true
   },
   "outputs": [
    {
     "data": {
      "text/html": [
       "<style>#sk-container-id-2 {color: black;}#sk-container-id-2 pre{padding: 0;}#sk-container-id-2 div.sk-toggleable {background-color: white;}#sk-container-id-2 label.sk-toggleable__label {cursor: pointer;display: block;width: 100%;margin-bottom: 0;padding: 0.3em;box-sizing: border-box;text-align: center;}#sk-container-id-2 label.sk-toggleable__label-arrow:before {content: \"▸\";float: left;margin-right: 0.25em;color: #696969;}#sk-container-id-2 label.sk-toggleable__label-arrow:hover:before {color: black;}#sk-container-id-2 div.sk-estimator:hover label.sk-toggleable__label-arrow:before {color: black;}#sk-container-id-2 div.sk-toggleable__content {max-height: 0;max-width: 0;overflow: hidden;text-align: left;background-color: #f0f8ff;}#sk-container-id-2 div.sk-toggleable__content pre {margin: 0.2em;color: black;border-radius: 0.25em;background-color: #f0f8ff;}#sk-container-id-2 input.sk-toggleable__control:checked~div.sk-toggleable__content {max-height: 200px;max-width: 100%;overflow: auto;}#sk-container-id-2 input.sk-toggleable__control:checked~label.sk-toggleable__label-arrow:before {content: \"▾\";}#sk-container-id-2 div.sk-estimator input.sk-toggleable__control:checked~label.sk-toggleable__label {background-color: #d4ebff;}#sk-container-id-2 div.sk-label input.sk-toggleable__control:checked~label.sk-toggleable__label {background-color: #d4ebff;}#sk-container-id-2 input.sk-hidden--visually {border: 0;clip: rect(1px 1px 1px 1px);clip: rect(1px, 1px, 1px, 1px);height: 1px;margin: -1px;overflow: hidden;padding: 0;position: absolute;width: 1px;}#sk-container-id-2 div.sk-estimator {font-family: monospace;background-color: #f0f8ff;border: 1px dotted black;border-radius: 0.25em;box-sizing: border-box;margin-bottom: 0.5em;}#sk-container-id-2 div.sk-estimator:hover {background-color: #d4ebff;}#sk-container-id-2 div.sk-parallel-item::after {content: \"\";width: 100%;border-bottom: 1px solid gray;flex-grow: 1;}#sk-container-id-2 div.sk-label:hover label.sk-toggleable__label {background-color: #d4ebff;}#sk-container-id-2 div.sk-serial::before {content: \"\";position: absolute;border-left: 1px solid gray;box-sizing: border-box;top: 0;bottom: 0;left: 50%;z-index: 0;}#sk-container-id-2 div.sk-serial {display: flex;flex-direction: column;align-items: center;background-color: white;padding-right: 0.2em;padding-left: 0.2em;position: relative;}#sk-container-id-2 div.sk-item {position: relative;z-index: 1;}#sk-container-id-2 div.sk-parallel {display: flex;align-items: stretch;justify-content: center;background-color: white;position: relative;}#sk-container-id-2 div.sk-item::before, #sk-container-id-2 div.sk-parallel-item::before {content: \"\";position: absolute;border-left: 1px solid gray;box-sizing: border-box;top: 0;bottom: 0;left: 50%;z-index: -1;}#sk-container-id-2 div.sk-parallel-item {display: flex;flex-direction: column;z-index: 1;position: relative;background-color: white;}#sk-container-id-2 div.sk-parallel-item:first-child::after {align-self: flex-end;width: 50%;}#sk-container-id-2 div.sk-parallel-item:last-child::after {align-self: flex-start;width: 50%;}#sk-container-id-2 div.sk-parallel-item:only-child::after {width: 0;}#sk-container-id-2 div.sk-dashed-wrapped {border: 1px dashed gray;margin: 0 0.4em 0.5em 0.4em;box-sizing: border-box;padding-bottom: 0.4em;background-color: white;}#sk-container-id-2 div.sk-label label {font-family: monospace;font-weight: bold;display: inline-block;line-height: 1.2em;}#sk-container-id-2 div.sk-label-container {text-align: center;}#sk-container-id-2 div.sk-container {/* jupyter's `normalize.less` sets `[hidden] { display: none; }` but bootstrap.min.css set `[hidden] { display: none !important; }` so we also need the `!important` here to be able to override the default hidden behavior on the sphinx rendered scikit-learn.org. See: https://github.com/scikit-learn/scikit-learn/issues/21755 */display: inline-block !important;position: relative;}#sk-container-id-2 div.sk-text-repr-fallback {display: none;}</style><div id=\"sk-container-id-2\" class=\"sk-top-container\"><div class=\"sk-text-repr-fallback\"><pre>Pipeline(steps=[(&#x27;columntransformer-1&#x27;,\n",
       "                 ColumnTransformer(remainder=&#x27;passthrough&#x27;,\n",
       "                                   transformers=[(&#x27;onehotencoder&#x27;,\n",
       "                                                  OneHotEncoder(categories=[array([&#x27; 1 Series&#x27;, &#x27; 2 Series&#x27;, &#x27; 3 Series&#x27;, &#x27; 4 Series&#x27;, &#x27; 5 Series&#x27;,\n",
       "       &#x27; 6 Series&#x27;, &#x27; 7 Series&#x27;, &#x27; 8 Series&#x27;, &#x27; A Class&#x27;, &#x27; A1&#x27;, &#x27; A2&#x27;,\n",
       "       &#x27; A3&#x27;, &#x27; A4&#x27;, &#x27; A5&#x27;, &#x27; A6&#x27;, &#x27; A7&#x27;, &#x27; A8&#x27;, &#x27; Accent&#x27;, &#x27; Adam&#x27;,\n",
       "       &#x27; Agila&#x27;, &#x27; Amarok&#x27;, &#x27; Amica&#x27;, &#x27; Antara&#x27;, &#x27; Arteon&#x27;, &#x27; Astra&#x27;,\n",
       "       &#x27; Auris&#x27;, &#x27;...\n",
       "                                                                            array([&#x27;Automatic&#x27;, &#x27;Manual&#x27;, &#x27;Other&#x27;, &#x27;Semi-Auto&#x27;], dtype=object),\n",
       "                                                                            array([&#x27;Diesel&#x27;, &#x27;Electric&#x27;, &#x27;Hybrid&#x27;, &#x27;Other&#x27;, &#x27;Petrol&#x27;], dtype=object),\n",
       "                                                                            array([&#x27;Audi&#x27;, &#x27;BMW&#x27;, &#x27;ford&#x27;, &#x27;hyundi&#x27;, &#x27;merc&#x27;, &#x27;skoda&#x27;, &#x27;toyota&#x27;,\n",
       "       &#x27;vauxhall&#x27;, &#x27;volkswagen&#x27;], dtype=object)]),\n",
       "                                                  [&#x27;model&#x27;, &#x27;transmission&#x27;,\n",
       "                                                   &#x27;fuelType&#x27;,\n",
       "                                                   &#x27;Manufacturer&#x27;])])),\n",
       "                (&#x27;columntransformer-2&#x27;,\n",
       "                 ColumnTransformer(remainder=&#x27;passthrough&#x27;,\n",
       "                                   transformers=[(&#x27;scale&#x27;, MaxAbsScaler(),\n",
       "                                                  [0])]))])</pre><b>In a Jupyter environment, please rerun this cell to show the HTML representation or trust the notebook. <br />On GitHub, the HTML representation is unable to render, please try loading this page with nbviewer.org.</b></div><div class=\"sk-container\" hidden><div class=\"sk-item sk-dashed-wrapped\"><div class=\"sk-label-container\"><div class=\"sk-label sk-toggleable\"><input class=\"sk-toggleable__control sk-hidden--visually\" id=\"sk-estimator-id-2\" type=\"checkbox\" ><label for=\"sk-estimator-id-2\" class=\"sk-toggleable__label sk-toggleable__label-arrow\">Pipeline</label><div class=\"sk-toggleable__content\"><pre>Pipeline(steps=[(&#x27;columntransformer-1&#x27;,\n",
       "                 ColumnTransformer(remainder=&#x27;passthrough&#x27;,\n",
       "                                   transformers=[(&#x27;onehotencoder&#x27;,\n",
       "                                                  OneHotEncoder(categories=[array([&#x27; 1 Series&#x27;, &#x27; 2 Series&#x27;, &#x27; 3 Series&#x27;, &#x27; 4 Series&#x27;, &#x27; 5 Series&#x27;,\n",
       "       &#x27; 6 Series&#x27;, &#x27; 7 Series&#x27;, &#x27; 8 Series&#x27;, &#x27; A Class&#x27;, &#x27; A1&#x27;, &#x27; A2&#x27;,\n",
       "       &#x27; A3&#x27;, &#x27; A4&#x27;, &#x27; A5&#x27;, &#x27; A6&#x27;, &#x27; A7&#x27;, &#x27; A8&#x27;, &#x27; Accent&#x27;, &#x27; Adam&#x27;,\n",
       "       &#x27; Agila&#x27;, &#x27; Amarok&#x27;, &#x27; Amica&#x27;, &#x27; Antara&#x27;, &#x27; Arteon&#x27;, &#x27; Astra&#x27;,\n",
       "       &#x27; Auris&#x27;, &#x27;...\n",
       "                                                                            array([&#x27;Automatic&#x27;, &#x27;Manual&#x27;, &#x27;Other&#x27;, &#x27;Semi-Auto&#x27;], dtype=object),\n",
       "                                                                            array([&#x27;Diesel&#x27;, &#x27;Electric&#x27;, &#x27;Hybrid&#x27;, &#x27;Other&#x27;, &#x27;Petrol&#x27;], dtype=object),\n",
       "                                                                            array([&#x27;Audi&#x27;, &#x27;BMW&#x27;, &#x27;ford&#x27;, &#x27;hyundi&#x27;, &#x27;merc&#x27;, &#x27;skoda&#x27;, &#x27;toyota&#x27;,\n",
       "       &#x27;vauxhall&#x27;, &#x27;volkswagen&#x27;], dtype=object)]),\n",
       "                                                  [&#x27;model&#x27;, &#x27;transmission&#x27;,\n",
       "                                                   &#x27;fuelType&#x27;,\n",
       "                                                   &#x27;Manufacturer&#x27;])])),\n",
       "                (&#x27;columntransformer-2&#x27;,\n",
       "                 ColumnTransformer(remainder=&#x27;passthrough&#x27;,\n",
       "                                   transformers=[(&#x27;scale&#x27;, MaxAbsScaler(),\n",
       "                                                  [0])]))])</pre></div></div></div><div class=\"sk-serial\"><div class=\"sk-item sk-dashed-wrapped\"><div class=\"sk-label-container\"><div class=\"sk-label sk-toggleable\"><input class=\"sk-toggleable__control sk-hidden--visually\" id=\"sk-estimator-id-3\" type=\"checkbox\" ><label for=\"sk-estimator-id-3\" class=\"sk-toggleable__label sk-toggleable__label-arrow\">columntransformer-1: ColumnTransformer</label><div class=\"sk-toggleable__content\"><pre>ColumnTransformer(remainder=&#x27;passthrough&#x27;,\n",
       "                  transformers=[(&#x27;onehotencoder&#x27;,\n",
       "                                 OneHotEncoder(categories=[array([&#x27; 1 Series&#x27;, &#x27; 2 Series&#x27;, &#x27; 3 Series&#x27;, &#x27; 4 Series&#x27;, &#x27; 5 Series&#x27;,\n",
       "       &#x27; 6 Series&#x27;, &#x27; 7 Series&#x27;, &#x27; 8 Series&#x27;, &#x27; A Class&#x27;, &#x27; A1&#x27;, &#x27; A2&#x27;,\n",
       "       &#x27; A3&#x27;, &#x27; A4&#x27;, &#x27; A5&#x27;, &#x27; A6&#x27;, &#x27; A7&#x27;, &#x27; A8&#x27;, &#x27; Accent&#x27;, &#x27; Adam&#x27;,\n",
       "       &#x27; Agila&#x27;, &#x27; Amarok&#x27;, &#x27; Amica&#x27;, &#x27; Antara&#x27;, &#x27; Arteon&#x27;, &#x27; Astra&#x27;,\n",
       "       &#x27; Auris&#x27;, &#x27; Avensis&#x27;, &#x27; Aygo&#x27;, &#x27; B Class&#x27;, &#x27; B-MAX&#x27;, &#x27; Beetl...\n",
       "       &#x27; Z3&#x27;, &#x27; Z4&#x27;, &#x27; Zafira&#x27;, &#x27; Zafira Tourer&#x27;, &#x27; i3&#x27;, &#x27; i8&#x27;, &#x27;180&#x27;,\n",
       "       &#x27;200&#x27;, &#x27;220&#x27;, &#x27;230&#x27;, &#x27;E Class&#x27;], dtype=object),\n",
       "                                                           array([&#x27;Automatic&#x27;, &#x27;Manual&#x27;, &#x27;Other&#x27;, &#x27;Semi-Auto&#x27;], dtype=object),\n",
       "                                                           array([&#x27;Diesel&#x27;, &#x27;Electric&#x27;, &#x27;Hybrid&#x27;, &#x27;Other&#x27;, &#x27;Petrol&#x27;], dtype=object),\n",
       "                                                           array([&#x27;Audi&#x27;, &#x27;BMW&#x27;, &#x27;ford&#x27;, &#x27;hyundi&#x27;, &#x27;merc&#x27;, &#x27;skoda&#x27;, &#x27;toyota&#x27;,\n",
       "       &#x27;vauxhall&#x27;, &#x27;volkswagen&#x27;], dtype=object)]),\n",
       "                                 [&#x27;model&#x27;, &#x27;transmission&#x27;, &#x27;fuelType&#x27;,\n",
       "                                  &#x27;Manufacturer&#x27;])])</pre></div></div></div><div class=\"sk-parallel\"><div class=\"sk-parallel-item\"><div class=\"sk-item\"><div class=\"sk-label-container\"><div class=\"sk-label sk-toggleable\"><input class=\"sk-toggleable__control sk-hidden--visually\" id=\"sk-estimator-id-4\" type=\"checkbox\" ><label for=\"sk-estimator-id-4\" class=\"sk-toggleable__label sk-toggleable__label-arrow\">onehotencoder</label><div class=\"sk-toggleable__content\"><pre>[&#x27;model&#x27;, &#x27;transmission&#x27;, &#x27;fuelType&#x27;, &#x27;Manufacturer&#x27;]</pre></div></div></div><div class=\"sk-serial\"><div class=\"sk-item\"><div class=\"sk-estimator sk-toggleable\"><input class=\"sk-toggleable__control sk-hidden--visually\" id=\"sk-estimator-id-5\" type=\"checkbox\" ><label for=\"sk-estimator-id-5\" class=\"sk-toggleable__label sk-toggleable__label-arrow\">OneHotEncoder</label><div class=\"sk-toggleable__content\"><pre>OneHotEncoder(categories=[array([&#x27; 1 Series&#x27;, &#x27; 2 Series&#x27;, &#x27; 3 Series&#x27;, &#x27; 4 Series&#x27;, &#x27; 5 Series&#x27;,\n",
       "       &#x27; 6 Series&#x27;, &#x27; 7 Series&#x27;, &#x27; 8 Series&#x27;, &#x27; A Class&#x27;, &#x27; A1&#x27;, &#x27; A2&#x27;,\n",
       "       &#x27; A3&#x27;, &#x27; A4&#x27;, &#x27; A5&#x27;, &#x27; A6&#x27;, &#x27; A7&#x27;, &#x27; A8&#x27;, &#x27; Accent&#x27;, &#x27; Adam&#x27;,\n",
       "       &#x27; Agila&#x27;, &#x27; Amarok&#x27;, &#x27; Amica&#x27;, &#x27; Antara&#x27;, &#x27; Arteon&#x27;, &#x27; Astra&#x27;,\n",
       "       &#x27; Auris&#x27;, &#x27; Avensis&#x27;, &#x27; Aygo&#x27;, &#x27; B Class&#x27;, &#x27; B-MAX&#x27;, &#x27; Beetle&#x27;,\n",
       "       &#x27; C Class&#x27;, &#x27; C-HR&#x27;, &#x27; C-MAX&#x27;, &#x27; CC&#x27;, &#x27; CL Class&#x27;, &#x27; CLA Class&#x27;,\n",
       "       &#x27; CLC Class&#x27;, &#x27; CLK&#x27;, &#x27; CL...\n",
       "       &#x27; X4&#x27;, &#x27; X5&#x27;, &#x27; X6&#x27;, &#x27; X7&#x27;, &#x27; Yaris&#x27;, &#x27; Yeti&#x27;, &#x27; Yeti Outdoor&#x27;,\n",
       "       &#x27; Z3&#x27;, &#x27; Z4&#x27;, &#x27; Zafira&#x27;, &#x27; Zafira Tourer&#x27;, &#x27; i3&#x27;, &#x27; i8&#x27;, &#x27;180&#x27;,\n",
       "       &#x27;200&#x27;, &#x27;220&#x27;, &#x27;230&#x27;, &#x27;E Class&#x27;], dtype=object),\n",
       "                          array([&#x27;Automatic&#x27;, &#x27;Manual&#x27;, &#x27;Other&#x27;, &#x27;Semi-Auto&#x27;], dtype=object),\n",
       "                          array([&#x27;Diesel&#x27;, &#x27;Electric&#x27;, &#x27;Hybrid&#x27;, &#x27;Other&#x27;, &#x27;Petrol&#x27;], dtype=object),\n",
       "                          array([&#x27;Audi&#x27;, &#x27;BMW&#x27;, &#x27;ford&#x27;, &#x27;hyundi&#x27;, &#x27;merc&#x27;, &#x27;skoda&#x27;, &#x27;toyota&#x27;,\n",
       "       &#x27;vauxhall&#x27;, &#x27;volkswagen&#x27;], dtype=object)])</pre></div></div></div></div></div></div><div class=\"sk-parallel-item\"><div class=\"sk-item\"><div class=\"sk-label-container\"><div class=\"sk-label sk-toggleable\"><input class=\"sk-toggleable__control sk-hidden--visually\" id=\"sk-estimator-id-6\" type=\"checkbox\" ><label for=\"sk-estimator-id-6\" class=\"sk-toggleable__label sk-toggleable__label-arrow\">remainder</label><div class=\"sk-toggleable__content\"><pre></pre></div></div></div><div class=\"sk-serial\"><div class=\"sk-item\"><div class=\"sk-estimator sk-toggleable\"><input class=\"sk-toggleable__control sk-hidden--visually\" id=\"sk-estimator-id-7\" type=\"checkbox\" ><label for=\"sk-estimator-id-7\" class=\"sk-toggleable__label sk-toggleable__label-arrow\">passthrough</label><div class=\"sk-toggleable__content\"><pre>passthrough</pre></div></div></div></div></div></div></div></div><div class=\"sk-item sk-dashed-wrapped\"><div class=\"sk-label-container\"><div class=\"sk-label sk-toggleable\"><input class=\"sk-toggleable__control sk-hidden--visually\" id=\"sk-estimator-id-8\" type=\"checkbox\" ><label for=\"sk-estimator-id-8\" class=\"sk-toggleable__label sk-toggleable__label-arrow\">columntransformer-2: ColumnTransformer</label><div class=\"sk-toggleable__content\"><pre>ColumnTransformer(remainder=&#x27;passthrough&#x27;,\n",
       "                  transformers=[(&#x27;scale&#x27;, MaxAbsScaler(), [0])])</pre></div></div></div><div class=\"sk-parallel\"><div class=\"sk-parallel-item\"><div class=\"sk-item\"><div class=\"sk-label-container\"><div class=\"sk-label sk-toggleable\"><input class=\"sk-toggleable__control sk-hidden--visually\" id=\"sk-estimator-id-9\" type=\"checkbox\" ><label for=\"sk-estimator-id-9\" class=\"sk-toggleable__label sk-toggleable__label-arrow\">scale</label><div class=\"sk-toggleable__content\"><pre>[0]</pre></div></div></div><div class=\"sk-serial\"><div class=\"sk-item\"><div class=\"sk-estimator sk-toggleable\"><input class=\"sk-toggleable__control sk-hidden--visually\" id=\"sk-estimator-id-10\" type=\"checkbox\" ><label for=\"sk-estimator-id-10\" class=\"sk-toggleable__label sk-toggleable__label-arrow\">MaxAbsScaler</label><div class=\"sk-toggleable__content\"><pre>MaxAbsScaler()</pre></div></div></div></div></div></div><div class=\"sk-parallel-item\"><div class=\"sk-item\"><div class=\"sk-label-container\"><div class=\"sk-label sk-toggleable\"><input class=\"sk-toggleable__control sk-hidden--visually\" id=\"sk-estimator-id-11\" type=\"checkbox\" ><label for=\"sk-estimator-id-11\" class=\"sk-toggleable__label sk-toggleable__label-arrow\">remainder</label><div class=\"sk-toggleable__content\"><pre></pre></div></div></div><div class=\"sk-serial\"><div class=\"sk-item\"><div class=\"sk-estimator sk-toggleable\"><input class=\"sk-toggleable__control sk-hidden--visually\" id=\"sk-estimator-id-12\" type=\"checkbox\" ><label for=\"sk-estimator-id-12\" class=\"sk-toggleable__label sk-toggleable__label-arrow\">passthrough</label><div class=\"sk-toggleable__content\"><pre>passthrough</pre></div></div></div></div></div></div></div></div></div></div></div></div>"
      ],
      "text/plain": [
       "Pipeline(steps=[('columntransformer-1',\n",
       "                 ColumnTransformer(remainder='passthrough',\n",
       "                                   transformers=[('onehotencoder',\n",
       "                                                  OneHotEncoder(categories=[array([' 1 Series', ' 2 Series', ' 3 Series', ' 4 Series', ' 5 Series',\n",
       "       ' 6 Series', ' 7 Series', ' 8 Series', ' A Class', ' A1', ' A2',\n",
       "       ' A3', ' A4', ' A5', ' A6', ' A7', ' A8', ' Accent', ' Adam',\n",
       "       ' Agila', ' Amarok', ' Amica', ' Antara', ' Arteon', ' Astra',\n",
       "       ' Auris', '...\n",
       "                                                                            array(['Automatic', 'Manual', 'Other', 'Semi-Auto'], dtype=object),\n",
       "                                                                            array(['Diesel', 'Electric', 'Hybrid', 'Other', 'Petrol'], dtype=object),\n",
       "                                                                            array(['Audi', 'BMW', 'ford', 'hyundi', 'merc', 'skoda', 'toyota',\n",
       "       'vauxhall', 'volkswagen'], dtype=object)]),\n",
       "                                                  ['model', 'transmission',\n",
       "                                                   'fuelType',\n",
       "                                                   'Manufacturer'])])),\n",
       "                ('columntransformer-2',\n",
       "                 ColumnTransformer(remainder='passthrough',\n",
       "                                   transformers=[('scale', MaxAbsScaler(),\n",
       "                                                  [0])]))])"
      ]
     },
     "execution_count": 13,
     "metadata": {},
     "output_type": "execute_result"
    }
   ],
   "source": [
    "pipe"
   ]
  },
  {
   "cell_type": "markdown",
   "id": "457e7b4c",
   "metadata": {},
   "source": [
    "# Model evalutation"
   ]
  },
  {
   "cell_type": "markdown",
   "id": "f436428f",
   "metadata": {},
   "source": [
    "### linear Regression"
   ]
  },
  {
   "cell_type": "code",
   "execution_count": 14,
   "id": "d451d2af",
   "metadata": {},
   "outputs": [],
   "source": [
    "lr = LinearRegression()"
   ]
  },
  {
   "cell_type": "code",
   "execution_count": 15,
   "id": "ebbbd460",
   "metadata": {},
   "outputs": [],
   "source": [
    "pipe_lr = make_pipeline(pipe,lr)"
   ]
  },
  {
   "cell_type": "code",
   "execution_count": 16,
   "id": "dcf64d3b",
   "metadata": {},
   "outputs": [
    {
     "data": {
      "text/html": [
       "<style>#sk-container-id-3 {color: black;}#sk-container-id-3 pre{padding: 0;}#sk-container-id-3 div.sk-toggleable {background-color: white;}#sk-container-id-3 label.sk-toggleable__label {cursor: pointer;display: block;width: 100%;margin-bottom: 0;padding: 0.3em;box-sizing: border-box;text-align: center;}#sk-container-id-3 label.sk-toggleable__label-arrow:before {content: \"▸\";float: left;margin-right: 0.25em;color: #696969;}#sk-container-id-3 label.sk-toggleable__label-arrow:hover:before {color: black;}#sk-container-id-3 div.sk-estimator:hover label.sk-toggleable__label-arrow:before {color: black;}#sk-container-id-3 div.sk-toggleable__content {max-height: 0;max-width: 0;overflow: hidden;text-align: left;background-color: #f0f8ff;}#sk-container-id-3 div.sk-toggleable__content pre {margin: 0.2em;color: black;border-radius: 0.25em;background-color: #f0f8ff;}#sk-container-id-3 input.sk-toggleable__control:checked~div.sk-toggleable__content {max-height: 200px;max-width: 100%;overflow: auto;}#sk-container-id-3 input.sk-toggleable__control:checked~label.sk-toggleable__label-arrow:before {content: \"▾\";}#sk-container-id-3 div.sk-estimator input.sk-toggleable__control:checked~label.sk-toggleable__label {background-color: #d4ebff;}#sk-container-id-3 div.sk-label input.sk-toggleable__control:checked~label.sk-toggleable__label {background-color: #d4ebff;}#sk-container-id-3 input.sk-hidden--visually {border: 0;clip: rect(1px 1px 1px 1px);clip: rect(1px, 1px, 1px, 1px);height: 1px;margin: -1px;overflow: hidden;padding: 0;position: absolute;width: 1px;}#sk-container-id-3 div.sk-estimator {font-family: monospace;background-color: #f0f8ff;border: 1px dotted black;border-radius: 0.25em;box-sizing: border-box;margin-bottom: 0.5em;}#sk-container-id-3 div.sk-estimator:hover {background-color: #d4ebff;}#sk-container-id-3 div.sk-parallel-item::after {content: \"\";width: 100%;border-bottom: 1px solid gray;flex-grow: 1;}#sk-container-id-3 div.sk-label:hover label.sk-toggleable__label {background-color: #d4ebff;}#sk-container-id-3 div.sk-serial::before {content: \"\";position: absolute;border-left: 1px solid gray;box-sizing: border-box;top: 0;bottom: 0;left: 50%;z-index: 0;}#sk-container-id-3 div.sk-serial {display: flex;flex-direction: column;align-items: center;background-color: white;padding-right: 0.2em;padding-left: 0.2em;position: relative;}#sk-container-id-3 div.sk-item {position: relative;z-index: 1;}#sk-container-id-3 div.sk-parallel {display: flex;align-items: stretch;justify-content: center;background-color: white;position: relative;}#sk-container-id-3 div.sk-item::before, #sk-container-id-3 div.sk-parallel-item::before {content: \"\";position: absolute;border-left: 1px solid gray;box-sizing: border-box;top: 0;bottom: 0;left: 50%;z-index: -1;}#sk-container-id-3 div.sk-parallel-item {display: flex;flex-direction: column;z-index: 1;position: relative;background-color: white;}#sk-container-id-3 div.sk-parallel-item:first-child::after {align-self: flex-end;width: 50%;}#sk-container-id-3 div.sk-parallel-item:last-child::after {align-self: flex-start;width: 50%;}#sk-container-id-3 div.sk-parallel-item:only-child::after {width: 0;}#sk-container-id-3 div.sk-dashed-wrapped {border: 1px dashed gray;margin: 0 0.4em 0.5em 0.4em;box-sizing: border-box;padding-bottom: 0.4em;background-color: white;}#sk-container-id-3 div.sk-label label {font-family: monospace;font-weight: bold;display: inline-block;line-height: 1.2em;}#sk-container-id-3 div.sk-label-container {text-align: center;}#sk-container-id-3 div.sk-container {/* jupyter's `normalize.less` sets `[hidden] { display: none; }` but bootstrap.min.css set `[hidden] { display: none !important; }` so we also need the `!important` here to be able to override the default hidden behavior on the sphinx rendered scikit-learn.org. See: https://github.com/scikit-learn/scikit-learn/issues/21755 */display: inline-block !important;position: relative;}#sk-container-id-3 div.sk-text-repr-fallback {display: none;}</style><div id=\"sk-container-id-3\" class=\"sk-top-container\"><div class=\"sk-text-repr-fallback\"><pre>Pipeline(steps=[(&#x27;pipeline&#x27;,\n",
       "                 Pipeline(steps=[(&#x27;columntransformer-1&#x27;,\n",
       "                                  ColumnTransformer(remainder=&#x27;passthrough&#x27;,\n",
       "                                                    transformers=[(&#x27;onehotencoder&#x27;,\n",
       "                                                                   OneHotEncoder(categories=[array([&#x27; 1 Series&#x27;, &#x27; 2 Series&#x27;, &#x27; 3 Series&#x27;, &#x27; 4 Series&#x27;, &#x27; 5 Series&#x27;,\n",
       "       &#x27; 6 Series&#x27;, &#x27; 7 Series&#x27;, &#x27; 8 Series&#x27;, &#x27; A Class&#x27;, &#x27; A1&#x27;, &#x27; A2&#x27;,\n",
       "       &#x27; A3&#x27;, &#x27; A4&#x27;, &#x27; A5&#x27;, &#x27; A6&#x27;, &#x27; A7&#x27;, &#x27; A8&#x27;, &#x27; Accent&#x27;, &#x27; Adam&#x27;,\n",
       "       &#x27; Agila&#x27;, &#x27; Amarok&#x27;, &#x27; Amica&#x27;, &#x27; Antara...\n",
       "                                                                                             array([&#x27;Diesel&#x27;, &#x27;Electric&#x27;, &#x27;Hybrid&#x27;, &#x27;Other&#x27;, &#x27;Petrol&#x27;], dtype=object),\n",
       "                                                                                             array([&#x27;Audi&#x27;, &#x27;BMW&#x27;, &#x27;ford&#x27;, &#x27;hyundi&#x27;, &#x27;merc&#x27;, &#x27;skoda&#x27;, &#x27;toyota&#x27;,\n",
       "       &#x27;vauxhall&#x27;, &#x27;volkswagen&#x27;], dtype=object)]),\n",
       "                                                                   [&#x27;model&#x27;,\n",
       "                                                                    &#x27;transmission&#x27;,\n",
       "                                                                    &#x27;fuelType&#x27;,\n",
       "                                                                    &#x27;Manufacturer&#x27;])])),\n",
       "                                 (&#x27;columntransformer-2&#x27;,\n",
       "                                  ColumnTransformer(remainder=&#x27;passthrough&#x27;,\n",
       "                                                    transformers=[(&#x27;scale&#x27;,\n",
       "                                                                   MaxAbsScaler(),\n",
       "                                                                   [0])]))])),\n",
       "                (&#x27;linearregression&#x27;, LinearRegression())])</pre><b>In a Jupyter environment, please rerun this cell to show the HTML representation or trust the notebook. <br />On GitHub, the HTML representation is unable to render, please try loading this page with nbviewer.org.</b></div><div class=\"sk-container\" hidden><div class=\"sk-item sk-dashed-wrapped\"><div class=\"sk-label-container\"><div class=\"sk-label sk-toggleable\"><input class=\"sk-toggleable__control sk-hidden--visually\" id=\"sk-estimator-id-13\" type=\"checkbox\" ><label for=\"sk-estimator-id-13\" class=\"sk-toggleable__label sk-toggleable__label-arrow\">Pipeline</label><div class=\"sk-toggleable__content\"><pre>Pipeline(steps=[(&#x27;pipeline&#x27;,\n",
       "                 Pipeline(steps=[(&#x27;columntransformer-1&#x27;,\n",
       "                                  ColumnTransformer(remainder=&#x27;passthrough&#x27;,\n",
       "                                                    transformers=[(&#x27;onehotencoder&#x27;,\n",
       "                                                                   OneHotEncoder(categories=[array([&#x27; 1 Series&#x27;, &#x27; 2 Series&#x27;, &#x27; 3 Series&#x27;, &#x27; 4 Series&#x27;, &#x27; 5 Series&#x27;,\n",
       "       &#x27; 6 Series&#x27;, &#x27; 7 Series&#x27;, &#x27; 8 Series&#x27;, &#x27; A Class&#x27;, &#x27; A1&#x27;, &#x27; A2&#x27;,\n",
       "       &#x27; A3&#x27;, &#x27; A4&#x27;, &#x27; A5&#x27;, &#x27; A6&#x27;, &#x27; A7&#x27;, &#x27; A8&#x27;, &#x27; Accent&#x27;, &#x27; Adam&#x27;,\n",
       "       &#x27; Agila&#x27;, &#x27; Amarok&#x27;, &#x27; Amica&#x27;, &#x27; Antara...\n",
       "                                                                                             array([&#x27;Diesel&#x27;, &#x27;Electric&#x27;, &#x27;Hybrid&#x27;, &#x27;Other&#x27;, &#x27;Petrol&#x27;], dtype=object),\n",
       "                                                                                             array([&#x27;Audi&#x27;, &#x27;BMW&#x27;, &#x27;ford&#x27;, &#x27;hyundi&#x27;, &#x27;merc&#x27;, &#x27;skoda&#x27;, &#x27;toyota&#x27;,\n",
       "       &#x27;vauxhall&#x27;, &#x27;volkswagen&#x27;], dtype=object)]),\n",
       "                                                                   [&#x27;model&#x27;,\n",
       "                                                                    &#x27;transmission&#x27;,\n",
       "                                                                    &#x27;fuelType&#x27;,\n",
       "                                                                    &#x27;Manufacturer&#x27;])])),\n",
       "                                 (&#x27;columntransformer-2&#x27;,\n",
       "                                  ColumnTransformer(remainder=&#x27;passthrough&#x27;,\n",
       "                                                    transformers=[(&#x27;scale&#x27;,\n",
       "                                                                   MaxAbsScaler(),\n",
       "                                                                   [0])]))])),\n",
       "                (&#x27;linearregression&#x27;, LinearRegression())])</pre></div></div></div><div class=\"sk-serial\"><div class=\"sk-item\"><div class=\"sk-label-container\"><div class=\"sk-label sk-toggleable\"><input class=\"sk-toggleable__control sk-hidden--visually\" id=\"sk-estimator-id-14\" type=\"checkbox\" ><label for=\"sk-estimator-id-14\" class=\"sk-toggleable__label sk-toggleable__label-arrow\">pipeline: Pipeline</label><div class=\"sk-toggleable__content\"><pre>Pipeline(steps=[(&#x27;columntransformer-1&#x27;,\n",
       "                 ColumnTransformer(remainder=&#x27;passthrough&#x27;,\n",
       "                                   transformers=[(&#x27;onehotencoder&#x27;,\n",
       "                                                  OneHotEncoder(categories=[array([&#x27; 1 Series&#x27;, &#x27; 2 Series&#x27;, &#x27; 3 Series&#x27;, &#x27; 4 Series&#x27;, &#x27; 5 Series&#x27;,\n",
       "       &#x27; 6 Series&#x27;, &#x27; 7 Series&#x27;, &#x27; 8 Series&#x27;, &#x27; A Class&#x27;, &#x27; A1&#x27;, &#x27; A2&#x27;,\n",
       "       &#x27; A3&#x27;, &#x27; A4&#x27;, &#x27; A5&#x27;, &#x27; A6&#x27;, &#x27; A7&#x27;, &#x27; A8&#x27;, &#x27; Accent&#x27;, &#x27; Adam&#x27;,\n",
       "       &#x27; Agila&#x27;, &#x27; Amarok&#x27;, &#x27; Amica&#x27;, &#x27; Antara&#x27;, &#x27; Arteon&#x27;, &#x27; Astra&#x27;,\n",
       "       &#x27; Auris&#x27;, &#x27;...\n",
       "                                                                            array([&#x27;Automatic&#x27;, &#x27;Manual&#x27;, &#x27;Other&#x27;, &#x27;Semi-Auto&#x27;], dtype=object),\n",
       "                                                                            array([&#x27;Diesel&#x27;, &#x27;Electric&#x27;, &#x27;Hybrid&#x27;, &#x27;Other&#x27;, &#x27;Petrol&#x27;], dtype=object),\n",
       "                                                                            array([&#x27;Audi&#x27;, &#x27;BMW&#x27;, &#x27;ford&#x27;, &#x27;hyundi&#x27;, &#x27;merc&#x27;, &#x27;skoda&#x27;, &#x27;toyota&#x27;,\n",
       "       &#x27;vauxhall&#x27;, &#x27;volkswagen&#x27;], dtype=object)]),\n",
       "                                                  [&#x27;model&#x27;, &#x27;transmission&#x27;,\n",
       "                                                   &#x27;fuelType&#x27;,\n",
       "                                                   &#x27;Manufacturer&#x27;])])),\n",
       "                (&#x27;columntransformer-2&#x27;,\n",
       "                 ColumnTransformer(remainder=&#x27;passthrough&#x27;,\n",
       "                                   transformers=[(&#x27;scale&#x27;, MaxAbsScaler(),\n",
       "                                                  [0])]))])</pre></div></div></div><div class=\"sk-serial\"><div class=\"sk-item sk-dashed-wrapped\"><div class=\"sk-label-container\"><div class=\"sk-label sk-toggleable\"><input class=\"sk-toggleable__control sk-hidden--visually\" id=\"sk-estimator-id-15\" type=\"checkbox\" ><label for=\"sk-estimator-id-15\" class=\"sk-toggleable__label sk-toggleable__label-arrow\">columntransformer-1: ColumnTransformer</label><div class=\"sk-toggleable__content\"><pre>ColumnTransformer(remainder=&#x27;passthrough&#x27;,\n",
       "                  transformers=[(&#x27;onehotencoder&#x27;,\n",
       "                                 OneHotEncoder(categories=[array([&#x27; 1 Series&#x27;, &#x27; 2 Series&#x27;, &#x27; 3 Series&#x27;, &#x27; 4 Series&#x27;, &#x27; 5 Series&#x27;,\n",
       "       &#x27; 6 Series&#x27;, &#x27; 7 Series&#x27;, &#x27; 8 Series&#x27;, &#x27; A Class&#x27;, &#x27; A1&#x27;, &#x27; A2&#x27;,\n",
       "       &#x27; A3&#x27;, &#x27; A4&#x27;, &#x27; A5&#x27;, &#x27; A6&#x27;, &#x27; A7&#x27;, &#x27; A8&#x27;, &#x27; Accent&#x27;, &#x27; Adam&#x27;,\n",
       "       &#x27; Agila&#x27;, &#x27; Amarok&#x27;, &#x27; Amica&#x27;, &#x27; Antara&#x27;, &#x27; Arteon&#x27;, &#x27; Astra&#x27;,\n",
       "       &#x27; Auris&#x27;, &#x27; Avensis&#x27;, &#x27; Aygo&#x27;, &#x27; B Class&#x27;, &#x27; B-MAX&#x27;, &#x27; Beetl...\n",
       "       &#x27; Z3&#x27;, &#x27; Z4&#x27;, &#x27; Zafira&#x27;, &#x27; Zafira Tourer&#x27;, &#x27; i3&#x27;, &#x27; i8&#x27;, &#x27;180&#x27;,\n",
       "       &#x27;200&#x27;, &#x27;220&#x27;, &#x27;230&#x27;, &#x27;E Class&#x27;], dtype=object),\n",
       "                                                           array([&#x27;Automatic&#x27;, &#x27;Manual&#x27;, &#x27;Other&#x27;, &#x27;Semi-Auto&#x27;], dtype=object),\n",
       "                                                           array([&#x27;Diesel&#x27;, &#x27;Electric&#x27;, &#x27;Hybrid&#x27;, &#x27;Other&#x27;, &#x27;Petrol&#x27;], dtype=object),\n",
       "                                                           array([&#x27;Audi&#x27;, &#x27;BMW&#x27;, &#x27;ford&#x27;, &#x27;hyundi&#x27;, &#x27;merc&#x27;, &#x27;skoda&#x27;, &#x27;toyota&#x27;,\n",
       "       &#x27;vauxhall&#x27;, &#x27;volkswagen&#x27;], dtype=object)]),\n",
       "                                 [&#x27;model&#x27;, &#x27;transmission&#x27;, &#x27;fuelType&#x27;,\n",
       "                                  &#x27;Manufacturer&#x27;])])</pre></div></div></div><div class=\"sk-parallel\"><div class=\"sk-parallel-item\"><div class=\"sk-item\"><div class=\"sk-label-container\"><div class=\"sk-label sk-toggleable\"><input class=\"sk-toggleable__control sk-hidden--visually\" id=\"sk-estimator-id-16\" type=\"checkbox\" ><label for=\"sk-estimator-id-16\" class=\"sk-toggleable__label sk-toggleable__label-arrow\">onehotencoder</label><div class=\"sk-toggleable__content\"><pre>[&#x27;model&#x27;, &#x27;transmission&#x27;, &#x27;fuelType&#x27;, &#x27;Manufacturer&#x27;]</pre></div></div></div><div class=\"sk-serial\"><div class=\"sk-item\"><div class=\"sk-estimator sk-toggleable\"><input class=\"sk-toggleable__control sk-hidden--visually\" id=\"sk-estimator-id-17\" type=\"checkbox\" ><label for=\"sk-estimator-id-17\" class=\"sk-toggleable__label sk-toggleable__label-arrow\">OneHotEncoder</label><div class=\"sk-toggleable__content\"><pre>OneHotEncoder(categories=[array([&#x27; 1 Series&#x27;, &#x27; 2 Series&#x27;, &#x27; 3 Series&#x27;, &#x27; 4 Series&#x27;, &#x27; 5 Series&#x27;,\n",
       "       &#x27; 6 Series&#x27;, &#x27; 7 Series&#x27;, &#x27; 8 Series&#x27;, &#x27; A Class&#x27;, &#x27; A1&#x27;, &#x27; A2&#x27;,\n",
       "       &#x27; A3&#x27;, &#x27; A4&#x27;, &#x27; A5&#x27;, &#x27; A6&#x27;, &#x27; A7&#x27;, &#x27; A8&#x27;, &#x27; Accent&#x27;, &#x27; Adam&#x27;,\n",
       "       &#x27; Agila&#x27;, &#x27; Amarok&#x27;, &#x27; Amica&#x27;, &#x27; Antara&#x27;, &#x27; Arteon&#x27;, &#x27; Astra&#x27;,\n",
       "       &#x27; Auris&#x27;, &#x27; Avensis&#x27;, &#x27; Aygo&#x27;, &#x27; B Class&#x27;, &#x27; B-MAX&#x27;, &#x27; Beetle&#x27;,\n",
       "       &#x27; C Class&#x27;, &#x27; C-HR&#x27;, &#x27; C-MAX&#x27;, &#x27; CC&#x27;, &#x27; CL Class&#x27;, &#x27; CLA Class&#x27;,\n",
       "       &#x27; CLC Class&#x27;, &#x27; CLK&#x27;, &#x27; CL...\n",
       "       &#x27; X4&#x27;, &#x27; X5&#x27;, &#x27; X6&#x27;, &#x27; X7&#x27;, &#x27; Yaris&#x27;, &#x27; Yeti&#x27;, &#x27; Yeti Outdoor&#x27;,\n",
       "       &#x27; Z3&#x27;, &#x27; Z4&#x27;, &#x27; Zafira&#x27;, &#x27; Zafira Tourer&#x27;, &#x27; i3&#x27;, &#x27; i8&#x27;, &#x27;180&#x27;,\n",
       "       &#x27;200&#x27;, &#x27;220&#x27;, &#x27;230&#x27;, &#x27;E Class&#x27;], dtype=object),\n",
       "                          array([&#x27;Automatic&#x27;, &#x27;Manual&#x27;, &#x27;Other&#x27;, &#x27;Semi-Auto&#x27;], dtype=object),\n",
       "                          array([&#x27;Diesel&#x27;, &#x27;Electric&#x27;, &#x27;Hybrid&#x27;, &#x27;Other&#x27;, &#x27;Petrol&#x27;], dtype=object),\n",
       "                          array([&#x27;Audi&#x27;, &#x27;BMW&#x27;, &#x27;ford&#x27;, &#x27;hyundi&#x27;, &#x27;merc&#x27;, &#x27;skoda&#x27;, &#x27;toyota&#x27;,\n",
       "       &#x27;vauxhall&#x27;, &#x27;volkswagen&#x27;], dtype=object)])</pre></div></div></div></div></div></div><div class=\"sk-parallel-item\"><div class=\"sk-item\"><div class=\"sk-label-container\"><div class=\"sk-label sk-toggleable\"><input class=\"sk-toggleable__control sk-hidden--visually\" id=\"sk-estimator-id-18\" type=\"checkbox\" ><label for=\"sk-estimator-id-18\" class=\"sk-toggleable__label sk-toggleable__label-arrow\">remainder</label><div class=\"sk-toggleable__content\"><pre>[&#x27;index&#x27;, &#x27;year&#x27;, &#x27;mileage&#x27;, &#x27;tax&#x27;, &#x27;mpg&#x27;, &#x27;engineSize&#x27;]</pre></div></div></div><div class=\"sk-serial\"><div class=\"sk-item\"><div class=\"sk-estimator sk-toggleable\"><input class=\"sk-toggleable__control sk-hidden--visually\" id=\"sk-estimator-id-19\" type=\"checkbox\" ><label for=\"sk-estimator-id-19\" class=\"sk-toggleable__label sk-toggleable__label-arrow\">passthrough</label><div class=\"sk-toggleable__content\"><pre>passthrough</pre></div></div></div></div></div></div></div></div><div class=\"sk-item sk-dashed-wrapped\"><div class=\"sk-label-container\"><div class=\"sk-label sk-toggleable\"><input class=\"sk-toggleable__control sk-hidden--visually\" id=\"sk-estimator-id-20\" type=\"checkbox\" ><label for=\"sk-estimator-id-20\" class=\"sk-toggleable__label sk-toggleable__label-arrow\">columntransformer-2: ColumnTransformer</label><div class=\"sk-toggleable__content\"><pre>ColumnTransformer(remainder=&#x27;passthrough&#x27;,\n",
       "                  transformers=[(&#x27;scale&#x27;, MaxAbsScaler(), [0])])</pre></div></div></div><div class=\"sk-parallel\"><div class=\"sk-parallel-item\"><div class=\"sk-item\"><div class=\"sk-label-container\"><div class=\"sk-label sk-toggleable\"><input class=\"sk-toggleable__control sk-hidden--visually\" id=\"sk-estimator-id-21\" type=\"checkbox\" ><label for=\"sk-estimator-id-21\" class=\"sk-toggleable__label sk-toggleable__label-arrow\">scale</label><div class=\"sk-toggleable__content\"><pre>[0]</pre></div></div></div><div class=\"sk-serial\"><div class=\"sk-item\"><div class=\"sk-estimator sk-toggleable\"><input class=\"sk-toggleable__control sk-hidden--visually\" id=\"sk-estimator-id-22\" type=\"checkbox\" ><label for=\"sk-estimator-id-22\" class=\"sk-toggleable__label sk-toggleable__label-arrow\">MaxAbsScaler</label><div class=\"sk-toggleable__content\"><pre>MaxAbsScaler()</pre></div></div></div></div></div></div><div class=\"sk-parallel-item\"><div class=\"sk-item\"><div class=\"sk-label-container\"><div class=\"sk-label sk-toggleable\"><input class=\"sk-toggleable__control sk-hidden--visually\" id=\"sk-estimator-id-23\" type=\"checkbox\" ><label for=\"sk-estimator-id-23\" class=\"sk-toggleable__label sk-toggleable__label-arrow\">remainder</label><div class=\"sk-toggleable__content\"><pre>[1, 2, 3, 4, 5, 6, 7, 8, 9, 10, 11, 12, 13, 14, 15, 16, 17, 18, 19, 20, 21, 22, 23, 24, 25, 26, 27, 28, 29, 30, 31, 32, 33, 34, 35, 36, 37, 38, 39, 40, 41, 42, 43, 44, 45, 46, 47, 48, 49, 50, 51, 52, 53, 54, 55, 56, 57, 58, 59, 60, 61, 62, 63, 64, 65, 66, 67, 68, 69, 70, 71, 72, 73, 74, 75, 76, 77, 78, 79, 80, 81, 82, 83, 84, 85, 86, 87, 88, 89, 90, 91, 92, 93, 94, 95, 96, 97, 98, 99, 100, 101, 102, 103, 104, 105, 106, 107, 108, 109, 110, 111, 112, 113, 114, 115, 116, 117, 118, 119, 120, 121, 122, 123, 124, 125, 126, 127, 128, 129, 130, 131, 132, 133, 134, 135, 136, 137, 138, 139, 140, 141, 142, 143, 144, 145, 146, 147, 148, 149, 150, 151, 152, 153, 154, 155, 156, 157, 158, 159, 160, 161, 162, 163, 164, 165, 166, 167, 168, 169, 170, 171, 172, 173, 174, 175, 176, 177, 178, 179, 180, 181, 182, 183, 184, 185, 186, 187, 188, 189, 190, 191, 192, 193, 194, 195, 196, 197, 198, 199, 200, 201, 202, 203, 204, 205, 206, 207, 208, 209, 210, 211, 212, 213, 214, 215, 216, 217, 218]</pre></div></div></div><div class=\"sk-serial\"><div class=\"sk-item\"><div class=\"sk-estimator sk-toggleable\"><input class=\"sk-toggleable__control sk-hidden--visually\" id=\"sk-estimator-id-24\" type=\"checkbox\" ><label for=\"sk-estimator-id-24\" class=\"sk-toggleable__label sk-toggleable__label-arrow\">passthrough</label><div class=\"sk-toggleable__content\"><pre>passthrough</pre></div></div></div></div></div></div></div></div></div></div><div class=\"sk-item\"><div class=\"sk-estimator sk-toggleable\"><input class=\"sk-toggleable__control sk-hidden--visually\" id=\"sk-estimator-id-25\" type=\"checkbox\" ><label for=\"sk-estimator-id-25\" class=\"sk-toggleable__label sk-toggleable__label-arrow\">LinearRegression</label><div class=\"sk-toggleable__content\"><pre>LinearRegression()</pre></div></div></div></div></div></div></div>"
      ],
      "text/plain": [
       "Pipeline(steps=[('pipeline',\n",
       "                 Pipeline(steps=[('columntransformer-1',\n",
       "                                  ColumnTransformer(remainder='passthrough',\n",
       "                                                    transformers=[('onehotencoder',\n",
       "                                                                   OneHotEncoder(categories=[array([' 1 Series', ' 2 Series', ' 3 Series', ' 4 Series', ' 5 Series',\n",
       "       ' 6 Series', ' 7 Series', ' 8 Series', ' A Class', ' A1', ' A2',\n",
       "       ' A3', ' A4', ' A5', ' A6', ' A7', ' A8', ' Accent', ' Adam',\n",
       "       ' Agila', ' Amarok', ' Amica', ' Antara...\n",
       "                                                                                             array(['Diesel', 'Electric', 'Hybrid', 'Other', 'Petrol'], dtype=object),\n",
       "                                                                                             array(['Audi', 'BMW', 'ford', 'hyundi', 'merc', 'skoda', 'toyota',\n",
       "       'vauxhall', 'volkswagen'], dtype=object)]),\n",
       "                                                                   ['model',\n",
       "                                                                    'transmission',\n",
       "                                                                    'fuelType',\n",
       "                                                                    'Manufacturer'])])),\n",
       "                                 ('columntransformer-2',\n",
       "                                  ColumnTransformer(remainder='passthrough',\n",
       "                                                    transformers=[('scale',\n",
       "                                                                   MaxAbsScaler(),\n",
       "                                                                   [0])]))])),\n",
       "                ('linearregression', LinearRegression())])"
      ]
     },
     "execution_count": 16,
     "metadata": {},
     "output_type": "execute_result"
    }
   ],
   "source": [
    "pipe_lr.fit(X_train,Y_train)"
   ]
  },
  {
   "cell_type": "code",
   "execution_count": 22,
   "id": "d0a5af2c",
   "metadata": {},
   "outputs": [],
   "source": [
    "Y_pred1_train=pipe_lr.predict(X_train)\n",
    "Y_pred1_test=pipe_lr.predict(X_test)"
   ]
  },
  {
   "cell_type": "code",
   "execution_count": 34,
   "id": "25beb8be",
   "metadata": {},
   "outputs": [
    {
     "name": "stdout",
     "output_type": "stream",
     "text": [
      "Scores on Train data [LR]:\n",
      "\n",
      "MSE   :  23173126.491394933\n",
      "RMSE  :  4813.847368934222\n",
      "R2    :  77.04\n"
     ]
    }
   ],
   "source": [
    "print(\"Scores on Train data [LR]:\")\n",
    "\n",
    "lr_mse_train = mean_squared_error(Y_train, Y_pred1_train, squared=True)\n",
    "lr_rmse_train = mean_squared_error(Y_train, Y_pred1_train, squared=False)\n",
    "lr_r2_train = r2_score(Y_train, Y_pred1_train)\n",
    "\n",
    "print()\n",
    "print(\"MSE   : \", lr_mse_train)\n",
    "print(\"RMSE  : \", lr_rmse_train)\n",
    "print(\"R2    : \", round(lr_r2_train*100,2))\n"
   ]
  },
  {
   "cell_type": "code",
   "execution_count": 35,
   "id": "8ebc349b",
   "metadata": {},
   "outputs": [
    {
     "name": "stdout",
     "output_type": "stream",
     "text": [
      "Scores on Test data [LR]:\n",
      "\n",
      "MSE   :  20636826.620445255\n",
      "RMSE  :  4542.777412601817\n",
      "R2    :  78.37\n"
     ]
    }
   ],
   "source": [
    "print(\"Scores on Test data [LR]:\")\n",
    "\n",
    "lr_mse_test = mean_squared_error(Y_test, Y_pred1_test, squared=True)\n",
    "lr_rmse_test = mean_squared_error(Y_test, Y_pred1_test, squared=False)\n",
    "lr_r2_test = r2_score(Y_test, Y_pred1_test)\n",
    "\n",
    "print()\n",
    "print(\"MSE   : \", lr_mse_test)\n",
    "print(\"RMSE  : \", lr_rmse_test)\n",
    "print(\"R2    : \", round(lr_r2_test*100,2))"
   ]
  },
  {
   "cell_type": "markdown",
   "id": "7c53cb7c",
   "metadata": {},
   "source": [
    "### Decetion tree"
   ]
  },
  {
   "cell_type": "code",
   "execution_count": 36,
   "id": "55436c9e",
   "metadata": {},
   "outputs": [],
   "source": [
    "dt = DecisionTreeRegressor()"
   ]
  },
  {
   "cell_type": "code",
   "execution_count": 37,
   "id": "c71dccee",
   "metadata": {},
   "outputs": [],
   "source": [
    "pipe_dt = make_pipeline(pipe,dt)"
   ]
  },
  {
   "cell_type": "code",
   "execution_count": 38,
   "id": "b1c2d621",
   "metadata": {},
   "outputs": [
    {
     "data": {
      "text/html": [
       "<style>#sk-container-id-4 {color: black;}#sk-container-id-4 pre{padding: 0;}#sk-container-id-4 div.sk-toggleable {background-color: white;}#sk-container-id-4 label.sk-toggleable__label {cursor: pointer;display: block;width: 100%;margin-bottom: 0;padding: 0.3em;box-sizing: border-box;text-align: center;}#sk-container-id-4 label.sk-toggleable__label-arrow:before {content: \"▸\";float: left;margin-right: 0.25em;color: #696969;}#sk-container-id-4 label.sk-toggleable__label-arrow:hover:before {color: black;}#sk-container-id-4 div.sk-estimator:hover label.sk-toggleable__label-arrow:before {color: black;}#sk-container-id-4 div.sk-toggleable__content {max-height: 0;max-width: 0;overflow: hidden;text-align: left;background-color: #f0f8ff;}#sk-container-id-4 div.sk-toggleable__content pre {margin: 0.2em;color: black;border-radius: 0.25em;background-color: #f0f8ff;}#sk-container-id-4 input.sk-toggleable__control:checked~div.sk-toggleable__content {max-height: 200px;max-width: 100%;overflow: auto;}#sk-container-id-4 input.sk-toggleable__control:checked~label.sk-toggleable__label-arrow:before {content: \"▾\";}#sk-container-id-4 div.sk-estimator input.sk-toggleable__control:checked~label.sk-toggleable__label {background-color: #d4ebff;}#sk-container-id-4 div.sk-label input.sk-toggleable__control:checked~label.sk-toggleable__label {background-color: #d4ebff;}#sk-container-id-4 input.sk-hidden--visually {border: 0;clip: rect(1px 1px 1px 1px);clip: rect(1px, 1px, 1px, 1px);height: 1px;margin: -1px;overflow: hidden;padding: 0;position: absolute;width: 1px;}#sk-container-id-4 div.sk-estimator {font-family: monospace;background-color: #f0f8ff;border: 1px dotted black;border-radius: 0.25em;box-sizing: border-box;margin-bottom: 0.5em;}#sk-container-id-4 div.sk-estimator:hover {background-color: #d4ebff;}#sk-container-id-4 div.sk-parallel-item::after {content: \"\";width: 100%;border-bottom: 1px solid gray;flex-grow: 1;}#sk-container-id-4 div.sk-label:hover label.sk-toggleable__label {background-color: #d4ebff;}#sk-container-id-4 div.sk-serial::before {content: \"\";position: absolute;border-left: 1px solid gray;box-sizing: border-box;top: 0;bottom: 0;left: 50%;z-index: 0;}#sk-container-id-4 div.sk-serial {display: flex;flex-direction: column;align-items: center;background-color: white;padding-right: 0.2em;padding-left: 0.2em;position: relative;}#sk-container-id-4 div.sk-item {position: relative;z-index: 1;}#sk-container-id-4 div.sk-parallel {display: flex;align-items: stretch;justify-content: center;background-color: white;position: relative;}#sk-container-id-4 div.sk-item::before, #sk-container-id-4 div.sk-parallel-item::before {content: \"\";position: absolute;border-left: 1px solid gray;box-sizing: border-box;top: 0;bottom: 0;left: 50%;z-index: -1;}#sk-container-id-4 div.sk-parallel-item {display: flex;flex-direction: column;z-index: 1;position: relative;background-color: white;}#sk-container-id-4 div.sk-parallel-item:first-child::after {align-self: flex-end;width: 50%;}#sk-container-id-4 div.sk-parallel-item:last-child::after {align-self: flex-start;width: 50%;}#sk-container-id-4 div.sk-parallel-item:only-child::after {width: 0;}#sk-container-id-4 div.sk-dashed-wrapped {border: 1px dashed gray;margin: 0 0.4em 0.5em 0.4em;box-sizing: border-box;padding-bottom: 0.4em;background-color: white;}#sk-container-id-4 div.sk-label label {font-family: monospace;font-weight: bold;display: inline-block;line-height: 1.2em;}#sk-container-id-4 div.sk-label-container {text-align: center;}#sk-container-id-4 div.sk-container {/* jupyter's `normalize.less` sets `[hidden] { display: none; }` but bootstrap.min.css set `[hidden] { display: none !important; }` so we also need the `!important` here to be able to override the default hidden behavior on the sphinx rendered scikit-learn.org. See: https://github.com/scikit-learn/scikit-learn/issues/21755 */display: inline-block !important;position: relative;}#sk-container-id-4 div.sk-text-repr-fallback {display: none;}</style><div id=\"sk-container-id-4\" class=\"sk-top-container\"><div class=\"sk-text-repr-fallback\"><pre>Pipeline(steps=[(&#x27;pipeline&#x27;,\n",
       "                 Pipeline(steps=[(&#x27;columntransformer-1&#x27;,\n",
       "                                  ColumnTransformer(remainder=&#x27;passthrough&#x27;,\n",
       "                                                    transformers=[(&#x27;onehotencoder&#x27;,\n",
       "                                                                   OneHotEncoder(categories=[array([&#x27; 1 Series&#x27;, &#x27; 2 Series&#x27;, &#x27; 3 Series&#x27;, &#x27; 4 Series&#x27;, &#x27; 5 Series&#x27;,\n",
       "       &#x27; 6 Series&#x27;, &#x27; 7 Series&#x27;, &#x27; 8 Series&#x27;, &#x27; A Class&#x27;, &#x27; A1&#x27;, &#x27; A2&#x27;,\n",
       "       &#x27; A3&#x27;, &#x27; A4&#x27;, &#x27; A5&#x27;, &#x27; A6&#x27;, &#x27; A7&#x27;, &#x27; A8&#x27;, &#x27; Accent&#x27;, &#x27; Adam&#x27;,\n",
       "       &#x27; Agila&#x27;, &#x27; Amarok&#x27;, &#x27; Amica&#x27;, &#x27; Antara...\n",
       "                                                                                             array([&#x27;Diesel&#x27;, &#x27;Electric&#x27;, &#x27;Hybrid&#x27;, &#x27;Other&#x27;, &#x27;Petrol&#x27;], dtype=object),\n",
       "                                                                                             array([&#x27;Audi&#x27;, &#x27;BMW&#x27;, &#x27;ford&#x27;, &#x27;hyundi&#x27;, &#x27;merc&#x27;, &#x27;skoda&#x27;, &#x27;toyota&#x27;,\n",
       "       &#x27;vauxhall&#x27;, &#x27;volkswagen&#x27;], dtype=object)]),\n",
       "                                                                   [&#x27;model&#x27;,\n",
       "                                                                    &#x27;transmission&#x27;,\n",
       "                                                                    &#x27;fuelType&#x27;,\n",
       "                                                                    &#x27;Manufacturer&#x27;])])),\n",
       "                                 (&#x27;columntransformer-2&#x27;,\n",
       "                                  ColumnTransformer(remainder=&#x27;passthrough&#x27;,\n",
       "                                                    transformers=[(&#x27;scale&#x27;,\n",
       "                                                                   MaxAbsScaler(),\n",
       "                                                                   [0])]))])),\n",
       "                (&#x27;decisiontreeregressor&#x27;, DecisionTreeRegressor())])</pre><b>In a Jupyter environment, please rerun this cell to show the HTML representation or trust the notebook. <br />On GitHub, the HTML representation is unable to render, please try loading this page with nbviewer.org.</b></div><div class=\"sk-container\" hidden><div class=\"sk-item sk-dashed-wrapped\"><div class=\"sk-label-container\"><div class=\"sk-label sk-toggleable\"><input class=\"sk-toggleable__control sk-hidden--visually\" id=\"sk-estimator-id-26\" type=\"checkbox\" ><label for=\"sk-estimator-id-26\" class=\"sk-toggleable__label sk-toggleable__label-arrow\">Pipeline</label><div class=\"sk-toggleable__content\"><pre>Pipeline(steps=[(&#x27;pipeline&#x27;,\n",
       "                 Pipeline(steps=[(&#x27;columntransformer-1&#x27;,\n",
       "                                  ColumnTransformer(remainder=&#x27;passthrough&#x27;,\n",
       "                                                    transformers=[(&#x27;onehotencoder&#x27;,\n",
       "                                                                   OneHotEncoder(categories=[array([&#x27; 1 Series&#x27;, &#x27; 2 Series&#x27;, &#x27; 3 Series&#x27;, &#x27; 4 Series&#x27;, &#x27; 5 Series&#x27;,\n",
       "       &#x27; 6 Series&#x27;, &#x27; 7 Series&#x27;, &#x27; 8 Series&#x27;, &#x27; A Class&#x27;, &#x27; A1&#x27;, &#x27; A2&#x27;,\n",
       "       &#x27; A3&#x27;, &#x27; A4&#x27;, &#x27; A5&#x27;, &#x27; A6&#x27;, &#x27; A7&#x27;, &#x27; A8&#x27;, &#x27; Accent&#x27;, &#x27; Adam&#x27;,\n",
       "       &#x27; Agila&#x27;, &#x27; Amarok&#x27;, &#x27; Amica&#x27;, &#x27; Antara...\n",
       "                                                                                             array([&#x27;Diesel&#x27;, &#x27;Electric&#x27;, &#x27;Hybrid&#x27;, &#x27;Other&#x27;, &#x27;Petrol&#x27;], dtype=object),\n",
       "                                                                                             array([&#x27;Audi&#x27;, &#x27;BMW&#x27;, &#x27;ford&#x27;, &#x27;hyundi&#x27;, &#x27;merc&#x27;, &#x27;skoda&#x27;, &#x27;toyota&#x27;,\n",
       "       &#x27;vauxhall&#x27;, &#x27;volkswagen&#x27;], dtype=object)]),\n",
       "                                                                   [&#x27;model&#x27;,\n",
       "                                                                    &#x27;transmission&#x27;,\n",
       "                                                                    &#x27;fuelType&#x27;,\n",
       "                                                                    &#x27;Manufacturer&#x27;])])),\n",
       "                                 (&#x27;columntransformer-2&#x27;,\n",
       "                                  ColumnTransformer(remainder=&#x27;passthrough&#x27;,\n",
       "                                                    transformers=[(&#x27;scale&#x27;,\n",
       "                                                                   MaxAbsScaler(),\n",
       "                                                                   [0])]))])),\n",
       "                (&#x27;decisiontreeregressor&#x27;, DecisionTreeRegressor())])</pre></div></div></div><div class=\"sk-serial\"><div class=\"sk-item\"><div class=\"sk-label-container\"><div class=\"sk-label sk-toggleable\"><input class=\"sk-toggleable__control sk-hidden--visually\" id=\"sk-estimator-id-27\" type=\"checkbox\" ><label for=\"sk-estimator-id-27\" class=\"sk-toggleable__label sk-toggleable__label-arrow\">pipeline: Pipeline</label><div class=\"sk-toggleable__content\"><pre>Pipeline(steps=[(&#x27;columntransformer-1&#x27;,\n",
       "                 ColumnTransformer(remainder=&#x27;passthrough&#x27;,\n",
       "                                   transformers=[(&#x27;onehotencoder&#x27;,\n",
       "                                                  OneHotEncoder(categories=[array([&#x27; 1 Series&#x27;, &#x27; 2 Series&#x27;, &#x27; 3 Series&#x27;, &#x27; 4 Series&#x27;, &#x27; 5 Series&#x27;,\n",
       "       &#x27; 6 Series&#x27;, &#x27; 7 Series&#x27;, &#x27; 8 Series&#x27;, &#x27; A Class&#x27;, &#x27; A1&#x27;, &#x27; A2&#x27;,\n",
       "       &#x27; A3&#x27;, &#x27; A4&#x27;, &#x27; A5&#x27;, &#x27; A6&#x27;, &#x27; A7&#x27;, &#x27; A8&#x27;, &#x27; Accent&#x27;, &#x27; Adam&#x27;,\n",
       "       &#x27; Agila&#x27;, &#x27; Amarok&#x27;, &#x27; Amica&#x27;, &#x27; Antara&#x27;, &#x27; Arteon&#x27;, &#x27; Astra&#x27;,\n",
       "       &#x27; Auris&#x27;, &#x27;...\n",
       "                                                                            array([&#x27;Automatic&#x27;, &#x27;Manual&#x27;, &#x27;Other&#x27;, &#x27;Semi-Auto&#x27;], dtype=object),\n",
       "                                                                            array([&#x27;Diesel&#x27;, &#x27;Electric&#x27;, &#x27;Hybrid&#x27;, &#x27;Other&#x27;, &#x27;Petrol&#x27;], dtype=object),\n",
       "                                                                            array([&#x27;Audi&#x27;, &#x27;BMW&#x27;, &#x27;ford&#x27;, &#x27;hyundi&#x27;, &#x27;merc&#x27;, &#x27;skoda&#x27;, &#x27;toyota&#x27;,\n",
       "       &#x27;vauxhall&#x27;, &#x27;volkswagen&#x27;], dtype=object)]),\n",
       "                                                  [&#x27;model&#x27;, &#x27;transmission&#x27;,\n",
       "                                                   &#x27;fuelType&#x27;,\n",
       "                                                   &#x27;Manufacturer&#x27;])])),\n",
       "                (&#x27;columntransformer-2&#x27;,\n",
       "                 ColumnTransformer(remainder=&#x27;passthrough&#x27;,\n",
       "                                   transformers=[(&#x27;scale&#x27;, MaxAbsScaler(),\n",
       "                                                  [0])]))])</pre></div></div></div><div class=\"sk-serial\"><div class=\"sk-item sk-dashed-wrapped\"><div class=\"sk-label-container\"><div class=\"sk-label sk-toggleable\"><input class=\"sk-toggleable__control sk-hidden--visually\" id=\"sk-estimator-id-28\" type=\"checkbox\" ><label for=\"sk-estimator-id-28\" class=\"sk-toggleable__label sk-toggleable__label-arrow\">columntransformer-1: ColumnTransformer</label><div class=\"sk-toggleable__content\"><pre>ColumnTransformer(remainder=&#x27;passthrough&#x27;,\n",
       "                  transformers=[(&#x27;onehotencoder&#x27;,\n",
       "                                 OneHotEncoder(categories=[array([&#x27; 1 Series&#x27;, &#x27; 2 Series&#x27;, &#x27; 3 Series&#x27;, &#x27; 4 Series&#x27;, &#x27; 5 Series&#x27;,\n",
       "       &#x27; 6 Series&#x27;, &#x27; 7 Series&#x27;, &#x27; 8 Series&#x27;, &#x27; A Class&#x27;, &#x27; A1&#x27;, &#x27; A2&#x27;,\n",
       "       &#x27; A3&#x27;, &#x27; A4&#x27;, &#x27; A5&#x27;, &#x27; A6&#x27;, &#x27; A7&#x27;, &#x27; A8&#x27;, &#x27; Accent&#x27;, &#x27; Adam&#x27;,\n",
       "       &#x27; Agila&#x27;, &#x27; Amarok&#x27;, &#x27; Amica&#x27;, &#x27; Antara&#x27;, &#x27; Arteon&#x27;, &#x27; Astra&#x27;,\n",
       "       &#x27; Auris&#x27;, &#x27; Avensis&#x27;, &#x27; Aygo&#x27;, &#x27; B Class&#x27;, &#x27; B-MAX&#x27;, &#x27; Beetl...\n",
       "       &#x27; Z3&#x27;, &#x27; Z4&#x27;, &#x27; Zafira&#x27;, &#x27; Zafira Tourer&#x27;, &#x27; i3&#x27;, &#x27; i8&#x27;, &#x27;180&#x27;,\n",
       "       &#x27;200&#x27;, &#x27;220&#x27;, &#x27;230&#x27;, &#x27;E Class&#x27;], dtype=object),\n",
       "                                                           array([&#x27;Automatic&#x27;, &#x27;Manual&#x27;, &#x27;Other&#x27;, &#x27;Semi-Auto&#x27;], dtype=object),\n",
       "                                                           array([&#x27;Diesel&#x27;, &#x27;Electric&#x27;, &#x27;Hybrid&#x27;, &#x27;Other&#x27;, &#x27;Petrol&#x27;], dtype=object),\n",
       "                                                           array([&#x27;Audi&#x27;, &#x27;BMW&#x27;, &#x27;ford&#x27;, &#x27;hyundi&#x27;, &#x27;merc&#x27;, &#x27;skoda&#x27;, &#x27;toyota&#x27;,\n",
       "       &#x27;vauxhall&#x27;, &#x27;volkswagen&#x27;], dtype=object)]),\n",
       "                                 [&#x27;model&#x27;, &#x27;transmission&#x27;, &#x27;fuelType&#x27;,\n",
       "                                  &#x27;Manufacturer&#x27;])])</pre></div></div></div><div class=\"sk-parallel\"><div class=\"sk-parallel-item\"><div class=\"sk-item\"><div class=\"sk-label-container\"><div class=\"sk-label sk-toggleable\"><input class=\"sk-toggleable__control sk-hidden--visually\" id=\"sk-estimator-id-29\" type=\"checkbox\" ><label for=\"sk-estimator-id-29\" class=\"sk-toggleable__label sk-toggleable__label-arrow\">onehotencoder</label><div class=\"sk-toggleable__content\"><pre>[&#x27;model&#x27;, &#x27;transmission&#x27;, &#x27;fuelType&#x27;, &#x27;Manufacturer&#x27;]</pre></div></div></div><div class=\"sk-serial\"><div class=\"sk-item\"><div class=\"sk-estimator sk-toggleable\"><input class=\"sk-toggleable__control sk-hidden--visually\" id=\"sk-estimator-id-30\" type=\"checkbox\" ><label for=\"sk-estimator-id-30\" class=\"sk-toggleable__label sk-toggleable__label-arrow\">OneHotEncoder</label><div class=\"sk-toggleable__content\"><pre>OneHotEncoder(categories=[array([&#x27; 1 Series&#x27;, &#x27; 2 Series&#x27;, &#x27; 3 Series&#x27;, &#x27; 4 Series&#x27;, &#x27; 5 Series&#x27;,\n",
       "       &#x27; 6 Series&#x27;, &#x27; 7 Series&#x27;, &#x27; 8 Series&#x27;, &#x27; A Class&#x27;, &#x27; A1&#x27;, &#x27; A2&#x27;,\n",
       "       &#x27; A3&#x27;, &#x27; A4&#x27;, &#x27; A5&#x27;, &#x27; A6&#x27;, &#x27; A7&#x27;, &#x27; A8&#x27;, &#x27; Accent&#x27;, &#x27; Adam&#x27;,\n",
       "       &#x27; Agila&#x27;, &#x27; Amarok&#x27;, &#x27; Amica&#x27;, &#x27; Antara&#x27;, &#x27; Arteon&#x27;, &#x27; Astra&#x27;,\n",
       "       &#x27; Auris&#x27;, &#x27; Avensis&#x27;, &#x27; Aygo&#x27;, &#x27; B Class&#x27;, &#x27; B-MAX&#x27;, &#x27; Beetle&#x27;,\n",
       "       &#x27; C Class&#x27;, &#x27; C-HR&#x27;, &#x27; C-MAX&#x27;, &#x27; CC&#x27;, &#x27; CL Class&#x27;, &#x27; CLA Class&#x27;,\n",
       "       &#x27; CLC Class&#x27;, &#x27; CLK&#x27;, &#x27; CL...\n",
       "       &#x27; X4&#x27;, &#x27; X5&#x27;, &#x27; X6&#x27;, &#x27; X7&#x27;, &#x27; Yaris&#x27;, &#x27; Yeti&#x27;, &#x27; Yeti Outdoor&#x27;,\n",
       "       &#x27; Z3&#x27;, &#x27; Z4&#x27;, &#x27; Zafira&#x27;, &#x27; Zafira Tourer&#x27;, &#x27; i3&#x27;, &#x27; i8&#x27;, &#x27;180&#x27;,\n",
       "       &#x27;200&#x27;, &#x27;220&#x27;, &#x27;230&#x27;, &#x27;E Class&#x27;], dtype=object),\n",
       "                          array([&#x27;Automatic&#x27;, &#x27;Manual&#x27;, &#x27;Other&#x27;, &#x27;Semi-Auto&#x27;], dtype=object),\n",
       "                          array([&#x27;Diesel&#x27;, &#x27;Electric&#x27;, &#x27;Hybrid&#x27;, &#x27;Other&#x27;, &#x27;Petrol&#x27;], dtype=object),\n",
       "                          array([&#x27;Audi&#x27;, &#x27;BMW&#x27;, &#x27;ford&#x27;, &#x27;hyundi&#x27;, &#x27;merc&#x27;, &#x27;skoda&#x27;, &#x27;toyota&#x27;,\n",
       "       &#x27;vauxhall&#x27;, &#x27;volkswagen&#x27;], dtype=object)])</pre></div></div></div></div></div></div><div class=\"sk-parallel-item\"><div class=\"sk-item\"><div class=\"sk-label-container\"><div class=\"sk-label sk-toggleable\"><input class=\"sk-toggleable__control sk-hidden--visually\" id=\"sk-estimator-id-31\" type=\"checkbox\" ><label for=\"sk-estimator-id-31\" class=\"sk-toggleable__label sk-toggleable__label-arrow\">remainder</label><div class=\"sk-toggleable__content\"><pre>[&#x27;index&#x27;, &#x27;year&#x27;, &#x27;mileage&#x27;, &#x27;tax&#x27;, &#x27;mpg&#x27;, &#x27;engineSize&#x27;]</pre></div></div></div><div class=\"sk-serial\"><div class=\"sk-item\"><div class=\"sk-estimator sk-toggleable\"><input class=\"sk-toggleable__control sk-hidden--visually\" id=\"sk-estimator-id-32\" type=\"checkbox\" ><label for=\"sk-estimator-id-32\" class=\"sk-toggleable__label sk-toggleable__label-arrow\">passthrough</label><div class=\"sk-toggleable__content\"><pre>passthrough</pre></div></div></div></div></div></div></div></div><div class=\"sk-item sk-dashed-wrapped\"><div class=\"sk-label-container\"><div class=\"sk-label sk-toggleable\"><input class=\"sk-toggleable__control sk-hidden--visually\" id=\"sk-estimator-id-33\" type=\"checkbox\" ><label for=\"sk-estimator-id-33\" class=\"sk-toggleable__label sk-toggleable__label-arrow\">columntransformer-2: ColumnTransformer</label><div class=\"sk-toggleable__content\"><pre>ColumnTransformer(remainder=&#x27;passthrough&#x27;,\n",
       "                  transformers=[(&#x27;scale&#x27;, MaxAbsScaler(), [0])])</pre></div></div></div><div class=\"sk-parallel\"><div class=\"sk-parallel-item\"><div class=\"sk-item\"><div class=\"sk-label-container\"><div class=\"sk-label sk-toggleable\"><input class=\"sk-toggleable__control sk-hidden--visually\" id=\"sk-estimator-id-34\" type=\"checkbox\" ><label for=\"sk-estimator-id-34\" class=\"sk-toggleable__label sk-toggleable__label-arrow\">scale</label><div class=\"sk-toggleable__content\"><pre>[0]</pre></div></div></div><div class=\"sk-serial\"><div class=\"sk-item\"><div class=\"sk-estimator sk-toggleable\"><input class=\"sk-toggleable__control sk-hidden--visually\" id=\"sk-estimator-id-35\" type=\"checkbox\" ><label for=\"sk-estimator-id-35\" class=\"sk-toggleable__label sk-toggleable__label-arrow\">MaxAbsScaler</label><div class=\"sk-toggleable__content\"><pre>MaxAbsScaler()</pre></div></div></div></div></div></div><div class=\"sk-parallel-item\"><div class=\"sk-item\"><div class=\"sk-label-container\"><div class=\"sk-label sk-toggleable\"><input class=\"sk-toggleable__control sk-hidden--visually\" id=\"sk-estimator-id-36\" type=\"checkbox\" ><label for=\"sk-estimator-id-36\" class=\"sk-toggleable__label sk-toggleable__label-arrow\">remainder</label><div class=\"sk-toggleable__content\"><pre>[1, 2, 3, 4, 5, 6, 7, 8, 9, 10, 11, 12, 13, 14, 15, 16, 17, 18, 19, 20, 21, 22, 23, 24, 25, 26, 27, 28, 29, 30, 31, 32, 33, 34, 35, 36, 37, 38, 39, 40, 41, 42, 43, 44, 45, 46, 47, 48, 49, 50, 51, 52, 53, 54, 55, 56, 57, 58, 59, 60, 61, 62, 63, 64, 65, 66, 67, 68, 69, 70, 71, 72, 73, 74, 75, 76, 77, 78, 79, 80, 81, 82, 83, 84, 85, 86, 87, 88, 89, 90, 91, 92, 93, 94, 95, 96, 97, 98, 99, 100, 101, 102, 103, 104, 105, 106, 107, 108, 109, 110, 111, 112, 113, 114, 115, 116, 117, 118, 119, 120, 121, 122, 123, 124, 125, 126, 127, 128, 129, 130, 131, 132, 133, 134, 135, 136, 137, 138, 139, 140, 141, 142, 143, 144, 145, 146, 147, 148, 149, 150, 151, 152, 153, 154, 155, 156, 157, 158, 159, 160, 161, 162, 163, 164, 165, 166, 167, 168, 169, 170, 171, 172, 173, 174, 175, 176, 177, 178, 179, 180, 181, 182, 183, 184, 185, 186, 187, 188, 189, 190, 191, 192, 193, 194, 195, 196, 197, 198, 199, 200, 201, 202, 203, 204, 205, 206, 207, 208, 209, 210, 211, 212, 213, 214, 215, 216, 217, 218]</pre></div></div></div><div class=\"sk-serial\"><div class=\"sk-item\"><div class=\"sk-estimator sk-toggleable\"><input class=\"sk-toggleable__control sk-hidden--visually\" id=\"sk-estimator-id-37\" type=\"checkbox\" ><label for=\"sk-estimator-id-37\" class=\"sk-toggleable__label sk-toggleable__label-arrow\">passthrough</label><div class=\"sk-toggleable__content\"><pre>passthrough</pre></div></div></div></div></div></div></div></div></div></div><div class=\"sk-item\"><div class=\"sk-estimator sk-toggleable\"><input class=\"sk-toggleable__control sk-hidden--visually\" id=\"sk-estimator-id-38\" type=\"checkbox\" ><label for=\"sk-estimator-id-38\" class=\"sk-toggleable__label sk-toggleable__label-arrow\">DecisionTreeRegressor</label><div class=\"sk-toggleable__content\"><pre>DecisionTreeRegressor()</pre></div></div></div></div></div></div></div>"
      ],
      "text/plain": [
       "Pipeline(steps=[('pipeline',\n",
       "                 Pipeline(steps=[('columntransformer-1',\n",
       "                                  ColumnTransformer(remainder='passthrough',\n",
       "                                                    transformers=[('onehotencoder',\n",
       "                                                                   OneHotEncoder(categories=[array([' 1 Series', ' 2 Series', ' 3 Series', ' 4 Series', ' 5 Series',\n",
       "       ' 6 Series', ' 7 Series', ' 8 Series', ' A Class', ' A1', ' A2',\n",
       "       ' A3', ' A4', ' A5', ' A6', ' A7', ' A8', ' Accent', ' Adam',\n",
       "       ' Agila', ' Amarok', ' Amica', ' Antara...\n",
       "                                                                                             array(['Diesel', 'Electric', 'Hybrid', 'Other', 'Petrol'], dtype=object),\n",
       "                                                                                             array(['Audi', 'BMW', 'ford', 'hyundi', 'merc', 'skoda', 'toyota',\n",
       "       'vauxhall', 'volkswagen'], dtype=object)]),\n",
       "                                                                   ['model',\n",
       "                                                                    'transmission',\n",
       "                                                                    'fuelType',\n",
       "                                                                    'Manufacturer'])])),\n",
       "                                 ('columntransformer-2',\n",
       "                                  ColumnTransformer(remainder='passthrough',\n",
       "                                                    transformers=[('scale',\n",
       "                                                                   MaxAbsScaler(),\n",
       "                                                                   [0])]))])),\n",
       "                ('decisiontreeregressor', DecisionTreeRegressor())])"
      ]
     },
     "execution_count": 38,
     "metadata": {},
     "output_type": "execute_result"
    }
   ],
   "source": [
    "pipe_dt.fit(X_train,Y_train)"
   ]
  },
  {
   "cell_type": "code",
   "execution_count": 39,
   "id": "439ac275",
   "metadata": {},
   "outputs": [],
   "source": [
    "Y_pred2_train=pipe_dt.predict(X_train)\n",
    "Y_pred2_test=pipe_dt.predict(X_test)"
   ]
  },
  {
   "cell_type": "code",
   "execution_count": 40,
   "id": "34e352c1",
   "metadata": {},
   "outputs": [
    {
     "name": "stdout",
     "output_type": "stream",
     "text": [
      "Scores on Train data [DTR]:\n",
      "\n",
      "MSE   :  0.0\n",
      "RMSE  :  0.0\n",
      "R2    :  100.0\n"
     ]
    }
   ],
   "source": [
    "print(\"Scores on Train data [DTR]:\")\n",
    "\n",
    "dtr_mse_train = mean_squared_error(Y_train, Y_pred2_train, squared=True)\n",
    "dtr_rmse_train = mean_squared_error(Y_train, Y_pred2_train, squared=False)\n",
    "dtr_r2_train = r2_score(Y_train, Y_pred2_train)\n",
    "\n",
    "print()\n",
    "print(\"MSE   : \", dtr_mse_train)\n",
    "print(\"RMSE  : \", dtr_rmse_train)\n",
    "print(\"R2    : \", round(dtr_r2_train*100,2))"
   ]
  },
  {
   "cell_type": "code",
   "execution_count": 41,
   "id": "341b6321",
   "metadata": {},
   "outputs": [
    {
     "name": "stdout",
     "output_type": "stream",
     "text": [
      "Scores on Test data [DTR]:\n",
      "\n",
      "MSE   :  6077653.629271226\n",
      "RMSE  :  2465.2897657823564\n",
      "R2    :  93.63\n"
     ]
    }
   ],
   "source": [
    "print(\"Scores on Test data [DTR]:\")\n",
    "\n",
    "dtr_mse_test = mean_squared_error(Y_test, Y_pred2_test, squared=True)\n",
    "dtr_rmse_test = mean_squared_error(Y_test, Y_pred2_test, squared=False)\n",
    "dtr_r2_test = r2_score(Y_test, Y_pred2_test)\n",
    "\n",
    "print()\n",
    "print(\"MSE   : \", dtr_mse_test)\n",
    "print(\"RMSE  : \", dtr_rmse_test)\n",
    "print(\"R2    : \", round(dtr_r2_test*100,2))"
   ]
  },
  {
   "cell_type": "markdown",
   "id": "ea087ff5",
   "metadata": {},
   "source": [
    "### RFR"
   ]
  },
  {
   "cell_type": "code",
   "execution_count": 45,
   "id": "5d3391f8",
   "metadata": {},
   "outputs": [],
   "source": [
    "rfr = RandomForestRegressor()"
   ]
  },
  {
   "cell_type": "code",
   "execution_count": 46,
   "id": "e40007fd",
   "metadata": {},
   "outputs": [],
   "source": [
    "pipe_rfr = make_pipeline(pipe,rfr)"
   ]
  },
  {
   "cell_type": "code",
   "execution_count": 47,
   "id": "030f95c1",
   "metadata": {},
   "outputs": [
    {
     "data": {
      "text/html": [
       "<style>#sk-container-id-5 {color: black;}#sk-container-id-5 pre{padding: 0;}#sk-container-id-5 div.sk-toggleable {background-color: white;}#sk-container-id-5 label.sk-toggleable__label {cursor: pointer;display: block;width: 100%;margin-bottom: 0;padding: 0.3em;box-sizing: border-box;text-align: center;}#sk-container-id-5 label.sk-toggleable__label-arrow:before {content: \"▸\";float: left;margin-right: 0.25em;color: #696969;}#sk-container-id-5 label.sk-toggleable__label-arrow:hover:before {color: black;}#sk-container-id-5 div.sk-estimator:hover label.sk-toggleable__label-arrow:before {color: black;}#sk-container-id-5 div.sk-toggleable__content {max-height: 0;max-width: 0;overflow: hidden;text-align: left;background-color: #f0f8ff;}#sk-container-id-5 div.sk-toggleable__content pre {margin: 0.2em;color: black;border-radius: 0.25em;background-color: #f0f8ff;}#sk-container-id-5 input.sk-toggleable__control:checked~div.sk-toggleable__content {max-height: 200px;max-width: 100%;overflow: auto;}#sk-container-id-5 input.sk-toggleable__control:checked~label.sk-toggleable__label-arrow:before {content: \"▾\";}#sk-container-id-5 div.sk-estimator input.sk-toggleable__control:checked~label.sk-toggleable__label {background-color: #d4ebff;}#sk-container-id-5 div.sk-label input.sk-toggleable__control:checked~label.sk-toggleable__label {background-color: #d4ebff;}#sk-container-id-5 input.sk-hidden--visually {border: 0;clip: rect(1px 1px 1px 1px);clip: rect(1px, 1px, 1px, 1px);height: 1px;margin: -1px;overflow: hidden;padding: 0;position: absolute;width: 1px;}#sk-container-id-5 div.sk-estimator {font-family: monospace;background-color: #f0f8ff;border: 1px dotted black;border-radius: 0.25em;box-sizing: border-box;margin-bottom: 0.5em;}#sk-container-id-5 div.sk-estimator:hover {background-color: #d4ebff;}#sk-container-id-5 div.sk-parallel-item::after {content: \"\";width: 100%;border-bottom: 1px solid gray;flex-grow: 1;}#sk-container-id-5 div.sk-label:hover label.sk-toggleable__label {background-color: #d4ebff;}#sk-container-id-5 div.sk-serial::before {content: \"\";position: absolute;border-left: 1px solid gray;box-sizing: border-box;top: 0;bottom: 0;left: 50%;z-index: 0;}#sk-container-id-5 div.sk-serial {display: flex;flex-direction: column;align-items: center;background-color: white;padding-right: 0.2em;padding-left: 0.2em;position: relative;}#sk-container-id-5 div.sk-item {position: relative;z-index: 1;}#sk-container-id-5 div.sk-parallel {display: flex;align-items: stretch;justify-content: center;background-color: white;position: relative;}#sk-container-id-5 div.sk-item::before, #sk-container-id-5 div.sk-parallel-item::before {content: \"\";position: absolute;border-left: 1px solid gray;box-sizing: border-box;top: 0;bottom: 0;left: 50%;z-index: -1;}#sk-container-id-5 div.sk-parallel-item {display: flex;flex-direction: column;z-index: 1;position: relative;background-color: white;}#sk-container-id-5 div.sk-parallel-item:first-child::after {align-self: flex-end;width: 50%;}#sk-container-id-5 div.sk-parallel-item:last-child::after {align-self: flex-start;width: 50%;}#sk-container-id-5 div.sk-parallel-item:only-child::after {width: 0;}#sk-container-id-5 div.sk-dashed-wrapped {border: 1px dashed gray;margin: 0 0.4em 0.5em 0.4em;box-sizing: border-box;padding-bottom: 0.4em;background-color: white;}#sk-container-id-5 div.sk-label label {font-family: monospace;font-weight: bold;display: inline-block;line-height: 1.2em;}#sk-container-id-5 div.sk-label-container {text-align: center;}#sk-container-id-5 div.sk-container {/* jupyter's `normalize.less` sets `[hidden] { display: none; }` but bootstrap.min.css set `[hidden] { display: none !important; }` so we also need the `!important` here to be able to override the default hidden behavior on the sphinx rendered scikit-learn.org. See: https://github.com/scikit-learn/scikit-learn/issues/21755 */display: inline-block !important;position: relative;}#sk-container-id-5 div.sk-text-repr-fallback {display: none;}</style><div id=\"sk-container-id-5\" class=\"sk-top-container\"><div class=\"sk-text-repr-fallback\"><pre>Pipeline(steps=[(&#x27;pipeline&#x27;,\n",
       "                 Pipeline(steps=[(&#x27;columntransformer-1&#x27;,\n",
       "                                  ColumnTransformer(remainder=&#x27;passthrough&#x27;,\n",
       "                                                    transformers=[(&#x27;onehotencoder&#x27;,\n",
       "                                                                   OneHotEncoder(categories=[array([&#x27; 1 Series&#x27;, &#x27; 2 Series&#x27;, &#x27; 3 Series&#x27;, &#x27; 4 Series&#x27;, &#x27; 5 Series&#x27;,\n",
       "       &#x27; 6 Series&#x27;, &#x27; 7 Series&#x27;, &#x27; 8 Series&#x27;, &#x27; A Class&#x27;, &#x27; A1&#x27;, &#x27; A2&#x27;,\n",
       "       &#x27; A3&#x27;, &#x27; A4&#x27;, &#x27; A5&#x27;, &#x27; A6&#x27;, &#x27; A7&#x27;, &#x27; A8&#x27;, &#x27; Accent&#x27;, &#x27; Adam&#x27;,\n",
       "       &#x27; Agila&#x27;, &#x27; Amarok&#x27;, &#x27; Amica&#x27;, &#x27; Antara...\n",
       "                                                                                             array([&#x27;Diesel&#x27;, &#x27;Electric&#x27;, &#x27;Hybrid&#x27;, &#x27;Other&#x27;, &#x27;Petrol&#x27;], dtype=object),\n",
       "                                                                                             array([&#x27;Audi&#x27;, &#x27;BMW&#x27;, &#x27;ford&#x27;, &#x27;hyundi&#x27;, &#x27;merc&#x27;, &#x27;skoda&#x27;, &#x27;toyota&#x27;,\n",
       "       &#x27;vauxhall&#x27;, &#x27;volkswagen&#x27;], dtype=object)]),\n",
       "                                                                   [&#x27;model&#x27;,\n",
       "                                                                    &#x27;transmission&#x27;,\n",
       "                                                                    &#x27;fuelType&#x27;,\n",
       "                                                                    &#x27;Manufacturer&#x27;])])),\n",
       "                                 (&#x27;columntransformer-2&#x27;,\n",
       "                                  ColumnTransformer(remainder=&#x27;passthrough&#x27;,\n",
       "                                                    transformers=[(&#x27;scale&#x27;,\n",
       "                                                                   MaxAbsScaler(),\n",
       "                                                                   [0])]))])),\n",
       "                (&#x27;randomforestregressor&#x27;, RandomForestRegressor())])</pre><b>In a Jupyter environment, please rerun this cell to show the HTML representation or trust the notebook. <br />On GitHub, the HTML representation is unable to render, please try loading this page with nbviewer.org.</b></div><div class=\"sk-container\" hidden><div class=\"sk-item sk-dashed-wrapped\"><div class=\"sk-label-container\"><div class=\"sk-label sk-toggleable\"><input class=\"sk-toggleable__control sk-hidden--visually\" id=\"sk-estimator-id-39\" type=\"checkbox\" ><label for=\"sk-estimator-id-39\" class=\"sk-toggleable__label sk-toggleable__label-arrow\">Pipeline</label><div class=\"sk-toggleable__content\"><pre>Pipeline(steps=[(&#x27;pipeline&#x27;,\n",
       "                 Pipeline(steps=[(&#x27;columntransformer-1&#x27;,\n",
       "                                  ColumnTransformer(remainder=&#x27;passthrough&#x27;,\n",
       "                                                    transformers=[(&#x27;onehotencoder&#x27;,\n",
       "                                                                   OneHotEncoder(categories=[array([&#x27; 1 Series&#x27;, &#x27; 2 Series&#x27;, &#x27; 3 Series&#x27;, &#x27; 4 Series&#x27;, &#x27; 5 Series&#x27;,\n",
       "       &#x27; 6 Series&#x27;, &#x27; 7 Series&#x27;, &#x27; 8 Series&#x27;, &#x27; A Class&#x27;, &#x27; A1&#x27;, &#x27; A2&#x27;,\n",
       "       &#x27; A3&#x27;, &#x27; A4&#x27;, &#x27; A5&#x27;, &#x27; A6&#x27;, &#x27; A7&#x27;, &#x27; A8&#x27;, &#x27; Accent&#x27;, &#x27; Adam&#x27;,\n",
       "       &#x27; Agila&#x27;, &#x27; Amarok&#x27;, &#x27; Amica&#x27;, &#x27; Antara...\n",
       "                                                                                             array([&#x27;Diesel&#x27;, &#x27;Electric&#x27;, &#x27;Hybrid&#x27;, &#x27;Other&#x27;, &#x27;Petrol&#x27;], dtype=object),\n",
       "                                                                                             array([&#x27;Audi&#x27;, &#x27;BMW&#x27;, &#x27;ford&#x27;, &#x27;hyundi&#x27;, &#x27;merc&#x27;, &#x27;skoda&#x27;, &#x27;toyota&#x27;,\n",
       "       &#x27;vauxhall&#x27;, &#x27;volkswagen&#x27;], dtype=object)]),\n",
       "                                                                   [&#x27;model&#x27;,\n",
       "                                                                    &#x27;transmission&#x27;,\n",
       "                                                                    &#x27;fuelType&#x27;,\n",
       "                                                                    &#x27;Manufacturer&#x27;])])),\n",
       "                                 (&#x27;columntransformer-2&#x27;,\n",
       "                                  ColumnTransformer(remainder=&#x27;passthrough&#x27;,\n",
       "                                                    transformers=[(&#x27;scale&#x27;,\n",
       "                                                                   MaxAbsScaler(),\n",
       "                                                                   [0])]))])),\n",
       "                (&#x27;randomforestregressor&#x27;, RandomForestRegressor())])</pre></div></div></div><div class=\"sk-serial\"><div class=\"sk-item\"><div class=\"sk-label-container\"><div class=\"sk-label sk-toggleable\"><input class=\"sk-toggleable__control sk-hidden--visually\" id=\"sk-estimator-id-40\" type=\"checkbox\" ><label for=\"sk-estimator-id-40\" class=\"sk-toggleable__label sk-toggleable__label-arrow\">pipeline: Pipeline</label><div class=\"sk-toggleable__content\"><pre>Pipeline(steps=[(&#x27;columntransformer-1&#x27;,\n",
       "                 ColumnTransformer(remainder=&#x27;passthrough&#x27;,\n",
       "                                   transformers=[(&#x27;onehotencoder&#x27;,\n",
       "                                                  OneHotEncoder(categories=[array([&#x27; 1 Series&#x27;, &#x27; 2 Series&#x27;, &#x27; 3 Series&#x27;, &#x27; 4 Series&#x27;, &#x27; 5 Series&#x27;,\n",
       "       &#x27; 6 Series&#x27;, &#x27; 7 Series&#x27;, &#x27; 8 Series&#x27;, &#x27; A Class&#x27;, &#x27; A1&#x27;, &#x27; A2&#x27;,\n",
       "       &#x27; A3&#x27;, &#x27; A4&#x27;, &#x27; A5&#x27;, &#x27; A6&#x27;, &#x27; A7&#x27;, &#x27; A8&#x27;, &#x27; Accent&#x27;, &#x27; Adam&#x27;,\n",
       "       &#x27; Agila&#x27;, &#x27; Amarok&#x27;, &#x27; Amica&#x27;, &#x27; Antara&#x27;, &#x27; Arteon&#x27;, &#x27; Astra&#x27;,\n",
       "       &#x27; Auris&#x27;, &#x27;...\n",
       "                                                                            array([&#x27;Automatic&#x27;, &#x27;Manual&#x27;, &#x27;Other&#x27;, &#x27;Semi-Auto&#x27;], dtype=object),\n",
       "                                                                            array([&#x27;Diesel&#x27;, &#x27;Electric&#x27;, &#x27;Hybrid&#x27;, &#x27;Other&#x27;, &#x27;Petrol&#x27;], dtype=object),\n",
       "                                                                            array([&#x27;Audi&#x27;, &#x27;BMW&#x27;, &#x27;ford&#x27;, &#x27;hyundi&#x27;, &#x27;merc&#x27;, &#x27;skoda&#x27;, &#x27;toyota&#x27;,\n",
       "       &#x27;vauxhall&#x27;, &#x27;volkswagen&#x27;], dtype=object)]),\n",
       "                                                  [&#x27;model&#x27;, &#x27;transmission&#x27;,\n",
       "                                                   &#x27;fuelType&#x27;,\n",
       "                                                   &#x27;Manufacturer&#x27;])])),\n",
       "                (&#x27;columntransformer-2&#x27;,\n",
       "                 ColumnTransformer(remainder=&#x27;passthrough&#x27;,\n",
       "                                   transformers=[(&#x27;scale&#x27;, MaxAbsScaler(),\n",
       "                                                  [0])]))])</pre></div></div></div><div class=\"sk-serial\"><div class=\"sk-item sk-dashed-wrapped\"><div class=\"sk-label-container\"><div class=\"sk-label sk-toggleable\"><input class=\"sk-toggleable__control sk-hidden--visually\" id=\"sk-estimator-id-41\" type=\"checkbox\" ><label for=\"sk-estimator-id-41\" class=\"sk-toggleable__label sk-toggleable__label-arrow\">columntransformer-1: ColumnTransformer</label><div class=\"sk-toggleable__content\"><pre>ColumnTransformer(remainder=&#x27;passthrough&#x27;,\n",
       "                  transformers=[(&#x27;onehotencoder&#x27;,\n",
       "                                 OneHotEncoder(categories=[array([&#x27; 1 Series&#x27;, &#x27; 2 Series&#x27;, &#x27; 3 Series&#x27;, &#x27; 4 Series&#x27;, &#x27; 5 Series&#x27;,\n",
       "       &#x27; 6 Series&#x27;, &#x27; 7 Series&#x27;, &#x27; 8 Series&#x27;, &#x27; A Class&#x27;, &#x27; A1&#x27;, &#x27; A2&#x27;,\n",
       "       &#x27; A3&#x27;, &#x27; A4&#x27;, &#x27; A5&#x27;, &#x27; A6&#x27;, &#x27; A7&#x27;, &#x27; A8&#x27;, &#x27; Accent&#x27;, &#x27; Adam&#x27;,\n",
       "       &#x27; Agila&#x27;, &#x27; Amarok&#x27;, &#x27; Amica&#x27;, &#x27; Antara&#x27;, &#x27; Arteon&#x27;, &#x27; Astra&#x27;,\n",
       "       &#x27; Auris&#x27;, &#x27; Avensis&#x27;, &#x27; Aygo&#x27;, &#x27; B Class&#x27;, &#x27; B-MAX&#x27;, &#x27; Beetl...\n",
       "       &#x27; Z3&#x27;, &#x27; Z4&#x27;, &#x27; Zafira&#x27;, &#x27; Zafira Tourer&#x27;, &#x27; i3&#x27;, &#x27; i8&#x27;, &#x27;180&#x27;,\n",
       "       &#x27;200&#x27;, &#x27;220&#x27;, &#x27;230&#x27;, &#x27;E Class&#x27;], dtype=object),\n",
       "                                                           array([&#x27;Automatic&#x27;, &#x27;Manual&#x27;, &#x27;Other&#x27;, &#x27;Semi-Auto&#x27;], dtype=object),\n",
       "                                                           array([&#x27;Diesel&#x27;, &#x27;Electric&#x27;, &#x27;Hybrid&#x27;, &#x27;Other&#x27;, &#x27;Petrol&#x27;], dtype=object),\n",
       "                                                           array([&#x27;Audi&#x27;, &#x27;BMW&#x27;, &#x27;ford&#x27;, &#x27;hyundi&#x27;, &#x27;merc&#x27;, &#x27;skoda&#x27;, &#x27;toyota&#x27;,\n",
       "       &#x27;vauxhall&#x27;, &#x27;volkswagen&#x27;], dtype=object)]),\n",
       "                                 [&#x27;model&#x27;, &#x27;transmission&#x27;, &#x27;fuelType&#x27;,\n",
       "                                  &#x27;Manufacturer&#x27;])])</pre></div></div></div><div class=\"sk-parallel\"><div class=\"sk-parallel-item\"><div class=\"sk-item\"><div class=\"sk-label-container\"><div class=\"sk-label sk-toggleable\"><input class=\"sk-toggleable__control sk-hidden--visually\" id=\"sk-estimator-id-42\" type=\"checkbox\" ><label for=\"sk-estimator-id-42\" class=\"sk-toggleable__label sk-toggleable__label-arrow\">onehotencoder</label><div class=\"sk-toggleable__content\"><pre>[&#x27;model&#x27;, &#x27;transmission&#x27;, &#x27;fuelType&#x27;, &#x27;Manufacturer&#x27;]</pre></div></div></div><div class=\"sk-serial\"><div class=\"sk-item\"><div class=\"sk-estimator sk-toggleable\"><input class=\"sk-toggleable__control sk-hidden--visually\" id=\"sk-estimator-id-43\" type=\"checkbox\" ><label for=\"sk-estimator-id-43\" class=\"sk-toggleable__label sk-toggleable__label-arrow\">OneHotEncoder</label><div class=\"sk-toggleable__content\"><pre>OneHotEncoder(categories=[array([&#x27; 1 Series&#x27;, &#x27; 2 Series&#x27;, &#x27; 3 Series&#x27;, &#x27; 4 Series&#x27;, &#x27; 5 Series&#x27;,\n",
       "       &#x27; 6 Series&#x27;, &#x27; 7 Series&#x27;, &#x27; 8 Series&#x27;, &#x27; A Class&#x27;, &#x27; A1&#x27;, &#x27; A2&#x27;,\n",
       "       &#x27; A3&#x27;, &#x27; A4&#x27;, &#x27; A5&#x27;, &#x27; A6&#x27;, &#x27; A7&#x27;, &#x27; A8&#x27;, &#x27; Accent&#x27;, &#x27; Adam&#x27;,\n",
       "       &#x27; Agila&#x27;, &#x27; Amarok&#x27;, &#x27; Amica&#x27;, &#x27; Antara&#x27;, &#x27; Arteon&#x27;, &#x27; Astra&#x27;,\n",
       "       &#x27; Auris&#x27;, &#x27; Avensis&#x27;, &#x27; Aygo&#x27;, &#x27; B Class&#x27;, &#x27; B-MAX&#x27;, &#x27; Beetle&#x27;,\n",
       "       &#x27; C Class&#x27;, &#x27; C-HR&#x27;, &#x27; C-MAX&#x27;, &#x27; CC&#x27;, &#x27; CL Class&#x27;, &#x27; CLA Class&#x27;,\n",
       "       &#x27; CLC Class&#x27;, &#x27; CLK&#x27;, &#x27; CL...\n",
       "       &#x27; X4&#x27;, &#x27; X5&#x27;, &#x27; X6&#x27;, &#x27; X7&#x27;, &#x27; Yaris&#x27;, &#x27; Yeti&#x27;, &#x27; Yeti Outdoor&#x27;,\n",
       "       &#x27; Z3&#x27;, &#x27; Z4&#x27;, &#x27; Zafira&#x27;, &#x27; Zafira Tourer&#x27;, &#x27; i3&#x27;, &#x27; i8&#x27;, &#x27;180&#x27;,\n",
       "       &#x27;200&#x27;, &#x27;220&#x27;, &#x27;230&#x27;, &#x27;E Class&#x27;], dtype=object),\n",
       "                          array([&#x27;Automatic&#x27;, &#x27;Manual&#x27;, &#x27;Other&#x27;, &#x27;Semi-Auto&#x27;], dtype=object),\n",
       "                          array([&#x27;Diesel&#x27;, &#x27;Electric&#x27;, &#x27;Hybrid&#x27;, &#x27;Other&#x27;, &#x27;Petrol&#x27;], dtype=object),\n",
       "                          array([&#x27;Audi&#x27;, &#x27;BMW&#x27;, &#x27;ford&#x27;, &#x27;hyundi&#x27;, &#x27;merc&#x27;, &#x27;skoda&#x27;, &#x27;toyota&#x27;,\n",
       "       &#x27;vauxhall&#x27;, &#x27;volkswagen&#x27;], dtype=object)])</pre></div></div></div></div></div></div><div class=\"sk-parallel-item\"><div class=\"sk-item\"><div class=\"sk-label-container\"><div class=\"sk-label sk-toggleable\"><input class=\"sk-toggleable__control sk-hidden--visually\" id=\"sk-estimator-id-44\" type=\"checkbox\" ><label for=\"sk-estimator-id-44\" class=\"sk-toggleable__label sk-toggleable__label-arrow\">remainder</label><div class=\"sk-toggleable__content\"><pre>[&#x27;index&#x27;, &#x27;year&#x27;, &#x27;mileage&#x27;, &#x27;tax&#x27;, &#x27;mpg&#x27;, &#x27;engineSize&#x27;]</pre></div></div></div><div class=\"sk-serial\"><div class=\"sk-item\"><div class=\"sk-estimator sk-toggleable\"><input class=\"sk-toggleable__control sk-hidden--visually\" id=\"sk-estimator-id-45\" type=\"checkbox\" ><label for=\"sk-estimator-id-45\" class=\"sk-toggleable__label sk-toggleable__label-arrow\">passthrough</label><div class=\"sk-toggleable__content\"><pre>passthrough</pre></div></div></div></div></div></div></div></div><div class=\"sk-item sk-dashed-wrapped\"><div class=\"sk-label-container\"><div class=\"sk-label sk-toggleable\"><input class=\"sk-toggleable__control sk-hidden--visually\" id=\"sk-estimator-id-46\" type=\"checkbox\" ><label for=\"sk-estimator-id-46\" class=\"sk-toggleable__label sk-toggleable__label-arrow\">columntransformer-2: ColumnTransformer</label><div class=\"sk-toggleable__content\"><pre>ColumnTransformer(remainder=&#x27;passthrough&#x27;,\n",
       "                  transformers=[(&#x27;scale&#x27;, MaxAbsScaler(), [0])])</pre></div></div></div><div class=\"sk-parallel\"><div class=\"sk-parallel-item\"><div class=\"sk-item\"><div class=\"sk-label-container\"><div class=\"sk-label sk-toggleable\"><input class=\"sk-toggleable__control sk-hidden--visually\" id=\"sk-estimator-id-47\" type=\"checkbox\" ><label for=\"sk-estimator-id-47\" class=\"sk-toggleable__label sk-toggleable__label-arrow\">scale</label><div class=\"sk-toggleable__content\"><pre>[0]</pre></div></div></div><div class=\"sk-serial\"><div class=\"sk-item\"><div class=\"sk-estimator sk-toggleable\"><input class=\"sk-toggleable__control sk-hidden--visually\" id=\"sk-estimator-id-48\" type=\"checkbox\" ><label for=\"sk-estimator-id-48\" class=\"sk-toggleable__label sk-toggleable__label-arrow\">MaxAbsScaler</label><div class=\"sk-toggleable__content\"><pre>MaxAbsScaler()</pre></div></div></div></div></div></div><div class=\"sk-parallel-item\"><div class=\"sk-item\"><div class=\"sk-label-container\"><div class=\"sk-label sk-toggleable\"><input class=\"sk-toggleable__control sk-hidden--visually\" id=\"sk-estimator-id-49\" type=\"checkbox\" ><label for=\"sk-estimator-id-49\" class=\"sk-toggleable__label sk-toggleable__label-arrow\">remainder</label><div class=\"sk-toggleable__content\"><pre>[1, 2, 3, 4, 5, 6, 7, 8, 9, 10, 11, 12, 13, 14, 15, 16, 17, 18, 19, 20, 21, 22, 23, 24, 25, 26, 27, 28, 29, 30, 31, 32, 33, 34, 35, 36, 37, 38, 39, 40, 41, 42, 43, 44, 45, 46, 47, 48, 49, 50, 51, 52, 53, 54, 55, 56, 57, 58, 59, 60, 61, 62, 63, 64, 65, 66, 67, 68, 69, 70, 71, 72, 73, 74, 75, 76, 77, 78, 79, 80, 81, 82, 83, 84, 85, 86, 87, 88, 89, 90, 91, 92, 93, 94, 95, 96, 97, 98, 99, 100, 101, 102, 103, 104, 105, 106, 107, 108, 109, 110, 111, 112, 113, 114, 115, 116, 117, 118, 119, 120, 121, 122, 123, 124, 125, 126, 127, 128, 129, 130, 131, 132, 133, 134, 135, 136, 137, 138, 139, 140, 141, 142, 143, 144, 145, 146, 147, 148, 149, 150, 151, 152, 153, 154, 155, 156, 157, 158, 159, 160, 161, 162, 163, 164, 165, 166, 167, 168, 169, 170, 171, 172, 173, 174, 175, 176, 177, 178, 179, 180, 181, 182, 183, 184, 185, 186, 187, 188, 189, 190, 191, 192, 193, 194, 195, 196, 197, 198, 199, 200, 201, 202, 203, 204, 205, 206, 207, 208, 209, 210, 211, 212, 213, 214, 215, 216, 217, 218]</pre></div></div></div><div class=\"sk-serial\"><div class=\"sk-item\"><div class=\"sk-estimator sk-toggleable\"><input class=\"sk-toggleable__control sk-hidden--visually\" id=\"sk-estimator-id-50\" type=\"checkbox\" ><label for=\"sk-estimator-id-50\" class=\"sk-toggleable__label sk-toggleable__label-arrow\">passthrough</label><div class=\"sk-toggleable__content\"><pre>passthrough</pre></div></div></div></div></div></div></div></div></div></div><div class=\"sk-item\"><div class=\"sk-estimator sk-toggleable\"><input class=\"sk-toggleable__control sk-hidden--visually\" id=\"sk-estimator-id-51\" type=\"checkbox\" ><label for=\"sk-estimator-id-51\" class=\"sk-toggleable__label sk-toggleable__label-arrow\">RandomForestRegressor</label><div class=\"sk-toggleable__content\"><pre>RandomForestRegressor()</pre></div></div></div></div></div></div></div>"
      ],
      "text/plain": [
       "Pipeline(steps=[('pipeline',\n",
       "                 Pipeline(steps=[('columntransformer-1',\n",
       "                                  ColumnTransformer(remainder='passthrough',\n",
       "                                                    transformers=[('onehotencoder',\n",
       "                                                                   OneHotEncoder(categories=[array([' 1 Series', ' 2 Series', ' 3 Series', ' 4 Series', ' 5 Series',\n",
       "       ' 6 Series', ' 7 Series', ' 8 Series', ' A Class', ' A1', ' A2',\n",
       "       ' A3', ' A4', ' A5', ' A6', ' A7', ' A8', ' Accent', ' Adam',\n",
       "       ' Agila', ' Amarok', ' Amica', ' Antara...\n",
       "                                                                                             array(['Diesel', 'Electric', 'Hybrid', 'Other', 'Petrol'], dtype=object),\n",
       "                                                                                             array(['Audi', 'BMW', 'ford', 'hyundi', 'merc', 'skoda', 'toyota',\n",
       "       'vauxhall', 'volkswagen'], dtype=object)]),\n",
       "                                                                   ['model',\n",
       "                                                                    'transmission',\n",
       "                                                                    'fuelType',\n",
       "                                                                    'Manufacturer'])])),\n",
       "                                 ('columntransformer-2',\n",
       "                                  ColumnTransformer(remainder='passthrough',\n",
       "                                                    transformers=[('scale',\n",
       "                                                                   MaxAbsScaler(),\n",
       "                                                                   [0])]))])),\n",
       "                ('randomforestregressor', RandomForestRegressor())])"
      ]
     },
     "execution_count": 47,
     "metadata": {},
     "output_type": "execute_result"
    }
   ],
   "source": [
    "pipe_rfr.fit(X_train,Y_train)"
   ]
  },
  {
   "cell_type": "code",
   "execution_count": 48,
   "id": "b696437a",
   "metadata": {},
   "outputs": [],
   "source": [
    "Y_pred3_train=pipe_rfr.predict(X_train)\n",
    "Y_pred3_test=pipe_rfr.predict(X_test)"
   ]
  },
  {
   "cell_type": "code",
   "execution_count": 49,
   "id": "91b4da02",
   "metadata": {},
   "outputs": [
    {
     "name": "stdout",
     "output_type": "stream",
     "text": [
      "Scores on Train data [RFR]:\n",
      "\n",
      "MSE   :  572876.8862283876\n",
      "RMSE  :  756.8863099755389\n",
      "R2    :  99.43\n"
     ]
    }
   ],
   "source": [
    "print(\"Scores on Train data [RFR]:\")\n",
    "\n",
    "rfr_mse_train = mean_squared_error(Y_train, Y_pred3_train, squared=True)\n",
    "rfr_rmse_train = mean_squared_error(Y_train, Y_pred3_train, squared=False)\n",
    "rfr_r2_train = r2_score(Y_train, Y_pred3_train)\n",
    "\n",
    "print()\n",
    "print(\"MSE   : \", rfr_mse_train)\n",
    "print(\"RMSE  : \", rfr_rmse_train)\n",
    "print(\"R2    : \", round(rfr_r2_train*100,2))"
   ]
  },
  {
   "cell_type": "code",
   "execution_count": 51,
   "id": "873427c5",
   "metadata": {},
   "outputs": [
    {
     "name": "stdout",
     "output_type": "stream",
     "text": [
      "Scores on Test data [RFR]:\n",
      "\n",
      "MSE   :  3640394.4068396045\n",
      "RMSE  :  1907.9817627114794\n",
      "R2    :  96.18\n"
     ]
    }
   ],
   "source": [
    "print(\"Scores on Test data [RFR]:\")\n",
    "\n",
    "rfr_mse_test = mean_squared_error(Y_test, Y_pred3_test, squared=True)\n",
    "rfr_rmse_test = mean_squared_error(Y_test, Y_pred3_test, squared=False)\n",
    "rfr_r2_test = r2_score(Y_test, Y_pred3_test)\n",
    "\n",
    "print()\n",
    "print(\"MSE   : \", rfr_mse_test)\n",
    "print(\"RMSE  : \", rfr_rmse_test)\n",
    "print(\"R2    : \", round(rfr_r2_test*100,2))"
   ]
  },
  {
   "cell_type": "code",
   "execution_count": 72,
   "id": "371ee788",
   "metadata": {},
   "outputs": [
    {
     "data": {
      "text/html": [
       "<div>\n",
       "<style scoped>\n",
       "    .dataframe tbody tr th:only-of-type {\n",
       "        vertical-align: middle;\n",
       "    }\n",
       "\n",
       "    .dataframe tbody tr th {\n",
       "        vertical-align: top;\n",
       "    }\n",
       "\n",
       "    .dataframe thead th {\n",
       "        text-align: right;\n",
       "    }\n",
       "</style>\n",
       "<table border=\"1\" class=\"dataframe\">\n",
       "  <thead>\n",
       "    <tr style=\"text-align: right;\">\n",
       "      <th></th>\n",
       "      <th>Actual Value</th>\n",
       "      <th>Predicted Value</th>\n",
       "      <th>Difference</th>\n",
       "    </tr>\n",
       "  </thead>\n",
       "  <tbody>\n",
       "    <tr>\n",
       "      <th>59241</th>\n",
       "      <td>26499</td>\n",
       "      <td>24493.59</td>\n",
       "      <td>2005.41</td>\n",
       "    </tr>\n",
       "    <tr>\n",
       "      <th>1615</th>\n",
       "      <td>10298</td>\n",
       "      <td>10698.63</td>\n",
       "      <td>-400.63</td>\n",
       "    </tr>\n",
       "    <tr>\n",
       "      <th>24273</th>\n",
       "      <td>19850</td>\n",
       "      <td>20042.61</td>\n",
       "      <td>-192.61</td>\n",
       "    </tr>\n",
       "    <tr>\n",
       "      <th>80518</th>\n",
       "      <td>8999</td>\n",
       "      <td>9818.67</td>\n",
       "      <td>-819.67</td>\n",
       "    </tr>\n",
       "    <tr>\n",
       "      <th>867</th>\n",
       "      <td>10752</td>\n",
       "      <td>10860.07</td>\n",
       "      <td>-108.07</td>\n",
       "    </tr>\n",
       "    <tr>\n",
       "      <th>...</th>\n",
       "      <td>...</td>\n",
       "      <td>...</td>\n",
       "      <td>...</td>\n",
       "    </tr>\n",
       "    <tr>\n",
       "      <th>62220</th>\n",
       "      <td>10995</td>\n",
       "      <td>10311.05</td>\n",
       "      <td>683.95</td>\n",
       "    </tr>\n",
       "    <tr>\n",
       "      <th>64390</th>\n",
       "      <td>21714</td>\n",
       "      <td>22230.17</td>\n",
       "      <td>-516.17</td>\n",
       "    </tr>\n",
       "    <tr>\n",
       "      <th>75410</th>\n",
       "      <td>8989</td>\n",
       "      <td>9696.94</td>\n",
       "      <td>-707.94</td>\n",
       "    </tr>\n",
       "    <tr>\n",
       "      <th>57338</th>\n",
       "      <td>18989</td>\n",
       "      <td>19646.37</td>\n",
       "      <td>-657.37</td>\n",
       "    </tr>\n",
       "    <tr>\n",
       "      <th>90025</th>\n",
       "      <td>9950</td>\n",
       "      <td>11493.25</td>\n",
       "      <td>-1543.25</td>\n",
       "    </tr>\n",
       "  </tbody>\n",
       "</table>\n",
       "<p>18291 rows × 3 columns</p>\n",
       "</div>"
      ],
      "text/plain": [
       "       Actual Value  Predicted Value  Difference\n",
       "59241         26499         24493.59     2005.41\n",
       "1615          10298         10698.63     -400.63\n",
       "24273         19850         20042.61     -192.61\n",
       "80518          8999          9818.67     -819.67\n",
       "867           10752         10860.07     -108.07\n",
       "...             ...              ...         ...\n",
       "62220         10995         10311.05      683.95\n",
       "64390         21714         22230.17     -516.17\n",
       "75410          8989          9696.94     -707.94\n",
       "57338         18989         19646.37     -657.37\n",
       "90025          9950         11493.25    -1543.25\n",
       "\n",
       "[18291 rows x 3 columns]"
      ]
     },
     "execution_count": 72,
     "metadata": {},
     "output_type": "execute_result"
    }
   ],
   "source": [
    "pred_df=pd.DataFrame({'Actual Value':Y_test,'Predicted Value':Y_pred3_test,'Difference':Y_test-Y_pred3_test})\n",
    "pred_df"
   ]
  },
  {
   "cell_type": "markdown",
   "id": "26620573",
   "metadata": {},
   "source": [
    "### GBR"
   ]
  },
  {
   "cell_type": "code",
   "execution_count": 52,
   "id": "23c424b6",
   "metadata": {},
   "outputs": [],
   "source": [
    "gbr = GradientBoostingRegressor(random_state=0)"
   ]
  },
  {
   "cell_type": "code",
   "execution_count": 53,
   "id": "44f1dcbc",
   "metadata": {},
   "outputs": [],
   "source": [
    "pipe_gbr = make_pipeline(pipe,gbr)"
   ]
  },
  {
   "cell_type": "code",
   "execution_count": 54,
   "id": "60ed9b4f",
   "metadata": {},
   "outputs": [
    {
     "data": {
      "text/html": [
       "<style>#sk-container-id-6 {color: black;}#sk-container-id-6 pre{padding: 0;}#sk-container-id-6 div.sk-toggleable {background-color: white;}#sk-container-id-6 label.sk-toggleable__label {cursor: pointer;display: block;width: 100%;margin-bottom: 0;padding: 0.3em;box-sizing: border-box;text-align: center;}#sk-container-id-6 label.sk-toggleable__label-arrow:before {content: \"▸\";float: left;margin-right: 0.25em;color: #696969;}#sk-container-id-6 label.sk-toggleable__label-arrow:hover:before {color: black;}#sk-container-id-6 div.sk-estimator:hover label.sk-toggleable__label-arrow:before {color: black;}#sk-container-id-6 div.sk-toggleable__content {max-height: 0;max-width: 0;overflow: hidden;text-align: left;background-color: #f0f8ff;}#sk-container-id-6 div.sk-toggleable__content pre {margin: 0.2em;color: black;border-radius: 0.25em;background-color: #f0f8ff;}#sk-container-id-6 input.sk-toggleable__control:checked~div.sk-toggleable__content {max-height: 200px;max-width: 100%;overflow: auto;}#sk-container-id-6 input.sk-toggleable__control:checked~label.sk-toggleable__label-arrow:before {content: \"▾\";}#sk-container-id-6 div.sk-estimator input.sk-toggleable__control:checked~label.sk-toggleable__label {background-color: #d4ebff;}#sk-container-id-6 div.sk-label input.sk-toggleable__control:checked~label.sk-toggleable__label {background-color: #d4ebff;}#sk-container-id-6 input.sk-hidden--visually {border: 0;clip: rect(1px 1px 1px 1px);clip: rect(1px, 1px, 1px, 1px);height: 1px;margin: -1px;overflow: hidden;padding: 0;position: absolute;width: 1px;}#sk-container-id-6 div.sk-estimator {font-family: monospace;background-color: #f0f8ff;border: 1px dotted black;border-radius: 0.25em;box-sizing: border-box;margin-bottom: 0.5em;}#sk-container-id-6 div.sk-estimator:hover {background-color: #d4ebff;}#sk-container-id-6 div.sk-parallel-item::after {content: \"\";width: 100%;border-bottom: 1px solid gray;flex-grow: 1;}#sk-container-id-6 div.sk-label:hover label.sk-toggleable__label {background-color: #d4ebff;}#sk-container-id-6 div.sk-serial::before {content: \"\";position: absolute;border-left: 1px solid gray;box-sizing: border-box;top: 0;bottom: 0;left: 50%;z-index: 0;}#sk-container-id-6 div.sk-serial {display: flex;flex-direction: column;align-items: center;background-color: white;padding-right: 0.2em;padding-left: 0.2em;position: relative;}#sk-container-id-6 div.sk-item {position: relative;z-index: 1;}#sk-container-id-6 div.sk-parallel {display: flex;align-items: stretch;justify-content: center;background-color: white;position: relative;}#sk-container-id-6 div.sk-item::before, #sk-container-id-6 div.sk-parallel-item::before {content: \"\";position: absolute;border-left: 1px solid gray;box-sizing: border-box;top: 0;bottom: 0;left: 50%;z-index: -1;}#sk-container-id-6 div.sk-parallel-item {display: flex;flex-direction: column;z-index: 1;position: relative;background-color: white;}#sk-container-id-6 div.sk-parallel-item:first-child::after {align-self: flex-end;width: 50%;}#sk-container-id-6 div.sk-parallel-item:last-child::after {align-self: flex-start;width: 50%;}#sk-container-id-6 div.sk-parallel-item:only-child::after {width: 0;}#sk-container-id-6 div.sk-dashed-wrapped {border: 1px dashed gray;margin: 0 0.4em 0.5em 0.4em;box-sizing: border-box;padding-bottom: 0.4em;background-color: white;}#sk-container-id-6 div.sk-label label {font-family: monospace;font-weight: bold;display: inline-block;line-height: 1.2em;}#sk-container-id-6 div.sk-label-container {text-align: center;}#sk-container-id-6 div.sk-container {/* jupyter's `normalize.less` sets `[hidden] { display: none; }` but bootstrap.min.css set `[hidden] { display: none !important; }` so we also need the `!important` here to be able to override the default hidden behavior on the sphinx rendered scikit-learn.org. See: https://github.com/scikit-learn/scikit-learn/issues/21755 */display: inline-block !important;position: relative;}#sk-container-id-6 div.sk-text-repr-fallback {display: none;}</style><div id=\"sk-container-id-6\" class=\"sk-top-container\"><div class=\"sk-text-repr-fallback\"><pre>Pipeline(steps=[(&#x27;pipeline&#x27;,\n",
       "                 Pipeline(steps=[(&#x27;columntransformer-1&#x27;,\n",
       "                                  ColumnTransformer(remainder=&#x27;passthrough&#x27;,\n",
       "                                                    transformers=[(&#x27;onehotencoder&#x27;,\n",
       "                                                                   OneHotEncoder(categories=[array([&#x27; 1 Series&#x27;, &#x27; 2 Series&#x27;, &#x27; 3 Series&#x27;, &#x27; 4 Series&#x27;, &#x27; 5 Series&#x27;,\n",
       "       &#x27; 6 Series&#x27;, &#x27; 7 Series&#x27;, &#x27; 8 Series&#x27;, &#x27; A Class&#x27;, &#x27; A1&#x27;, &#x27; A2&#x27;,\n",
       "       &#x27; A3&#x27;, &#x27; A4&#x27;, &#x27; A5&#x27;, &#x27; A6&#x27;, &#x27; A7&#x27;, &#x27; A8&#x27;, &#x27; Accent&#x27;, &#x27; Adam&#x27;,\n",
       "       &#x27; Agila&#x27;, &#x27; Amarok&#x27;, &#x27; Amica&#x27;, &#x27; Antara...\n",
       "                                                                                             array([&#x27;Diesel&#x27;, &#x27;Electric&#x27;, &#x27;Hybrid&#x27;, &#x27;Other&#x27;, &#x27;Petrol&#x27;], dtype=object),\n",
       "                                                                                             array([&#x27;Audi&#x27;, &#x27;BMW&#x27;, &#x27;ford&#x27;, &#x27;hyundi&#x27;, &#x27;merc&#x27;, &#x27;skoda&#x27;, &#x27;toyota&#x27;,\n",
       "       &#x27;vauxhall&#x27;, &#x27;volkswagen&#x27;], dtype=object)]),\n",
       "                                                                   [&#x27;model&#x27;,\n",
       "                                                                    &#x27;transmission&#x27;,\n",
       "                                                                    &#x27;fuelType&#x27;,\n",
       "                                                                    &#x27;Manufacturer&#x27;])])),\n",
       "                                 (&#x27;columntransformer-2&#x27;,\n",
       "                                  ColumnTransformer(remainder=&#x27;passthrough&#x27;,\n",
       "                                                    transformers=[(&#x27;scale&#x27;,\n",
       "                                                                   MaxAbsScaler(),\n",
       "                                                                   [0])]))])),\n",
       "                (&#x27;gradientboostingregressor&#x27;,\n",
       "                 GradientBoostingRegressor(random_state=0))])</pre><b>In a Jupyter environment, please rerun this cell to show the HTML representation or trust the notebook. <br />On GitHub, the HTML representation is unable to render, please try loading this page with nbviewer.org.</b></div><div class=\"sk-container\" hidden><div class=\"sk-item sk-dashed-wrapped\"><div class=\"sk-label-container\"><div class=\"sk-label sk-toggleable\"><input class=\"sk-toggleable__control sk-hidden--visually\" id=\"sk-estimator-id-52\" type=\"checkbox\" ><label for=\"sk-estimator-id-52\" class=\"sk-toggleable__label sk-toggleable__label-arrow\">Pipeline</label><div class=\"sk-toggleable__content\"><pre>Pipeline(steps=[(&#x27;pipeline&#x27;,\n",
       "                 Pipeline(steps=[(&#x27;columntransformer-1&#x27;,\n",
       "                                  ColumnTransformer(remainder=&#x27;passthrough&#x27;,\n",
       "                                                    transformers=[(&#x27;onehotencoder&#x27;,\n",
       "                                                                   OneHotEncoder(categories=[array([&#x27; 1 Series&#x27;, &#x27; 2 Series&#x27;, &#x27; 3 Series&#x27;, &#x27; 4 Series&#x27;, &#x27; 5 Series&#x27;,\n",
       "       &#x27; 6 Series&#x27;, &#x27; 7 Series&#x27;, &#x27; 8 Series&#x27;, &#x27; A Class&#x27;, &#x27; A1&#x27;, &#x27; A2&#x27;,\n",
       "       &#x27; A3&#x27;, &#x27; A4&#x27;, &#x27; A5&#x27;, &#x27; A6&#x27;, &#x27; A7&#x27;, &#x27; A8&#x27;, &#x27; Accent&#x27;, &#x27; Adam&#x27;,\n",
       "       &#x27; Agila&#x27;, &#x27; Amarok&#x27;, &#x27; Amica&#x27;, &#x27; Antara...\n",
       "                                                                                             array([&#x27;Diesel&#x27;, &#x27;Electric&#x27;, &#x27;Hybrid&#x27;, &#x27;Other&#x27;, &#x27;Petrol&#x27;], dtype=object),\n",
       "                                                                                             array([&#x27;Audi&#x27;, &#x27;BMW&#x27;, &#x27;ford&#x27;, &#x27;hyundi&#x27;, &#x27;merc&#x27;, &#x27;skoda&#x27;, &#x27;toyota&#x27;,\n",
       "       &#x27;vauxhall&#x27;, &#x27;volkswagen&#x27;], dtype=object)]),\n",
       "                                                                   [&#x27;model&#x27;,\n",
       "                                                                    &#x27;transmission&#x27;,\n",
       "                                                                    &#x27;fuelType&#x27;,\n",
       "                                                                    &#x27;Manufacturer&#x27;])])),\n",
       "                                 (&#x27;columntransformer-2&#x27;,\n",
       "                                  ColumnTransformer(remainder=&#x27;passthrough&#x27;,\n",
       "                                                    transformers=[(&#x27;scale&#x27;,\n",
       "                                                                   MaxAbsScaler(),\n",
       "                                                                   [0])]))])),\n",
       "                (&#x27;gradientboostingregressor&#x27;,\n",
       "                 GradientBoostingRegressor(random_state=0))])</pre></div></div></div><div class=\"sk-serial\"><div class=\"sk-item\"><div class=\"sk-label-container\"><div class=\"sk-label sk-toggleable\"><input class=\"sk-toggleable__control sk-hidden--visually\" id=\"sk-estimator-id-53\" type=\"checkbox\" ><label for=\"sk-estimator-id-53\" class=\"sk-toggleable__label sk-toggleable__label-arrow\">pipeline: Pipeline</label><div class=\"sk-toggleable__content\"><pre>Pipeline(steps=[(&#x27;columntransformer-1&#x27;,\n",
       "                 ColumnTransformer(remainder=&#x27;passthrough&#x27;,\n",
       "                                   transformers=[(&#x27;onehotencoder&#x27;,\n",
       "                                                  OneHotEncoder(categories=[array([&#x27; 1 Series&#x27;, &#x27; 2 Series&#x27;, &#x27; 3 Series&#x27;, &#x27; 4 Series&#x27;, &#x27; 5 Series&#x27;,\n",
       "       &#x27; 6 Series&#x27;, &#x27; 7 Series&#x27;, &#x27; 8 Series&#x27;, &#x27; A Class&#x27;, &#x27; A1&#x27;, &#x27; A2&#x27;,\n",
       "       &#x27; A3&#x27;, &#x27; A4&#x27;, &#x27; A5&#x27;, &#x27; A6&#x27;, &#x27; A7&#x27;, &#x27; A8&#x27;, &#x27; Accent&#x27;, &#x27; Adam&#x27;,\n",
       "       &#x27; Agila&#x27;, &#x27; Amarok&#x27;, &#x27; Amica&#x27;, &#x27; Antara&#x27;, &#x27; Arteon&#x27;, &#x27; Astra&#x27;,\n",
       "       &#x27; Auris&#x27;, &#x27;...\n",
       "                                                                            array([&#x27;Automatic&#x27;, &#x27;Manual&#x27;, &#x27;Other&#x27;, &#x27;Semi-Auto&#x27;], dtype=object),\n",
       "                                                                            array([&#x27;Diesel&#x27;, &#x27;Electric&#x27;, &#x27;Hybrid&#x27;, &#x27;Other&#x27;, &#x27;Petrol&#x27;], dtype=object),\n",
       "                                                                            array([&#x27;Audi&#x27;, &#x27;BMW&#x27;, &#x27;ford&#x27;, &#x27;hyundi&#x27;, &#x27;merc&#x27;, &#x27;skoda&#x27;, &#x27;toyota&#x27;,\n",
       "       &#x27;vauxhall&#x27;, &#x27;volkswagen&#x27;], dtype=object)]),\n",
       "                                                  [&#x27;model&#x27;, &#x27;transmission&#x27;,\n",
       "                                                   &#x27;fuelType&#x27;,\n",
       "                                                   &#x27;Manufacturer&#x27;])])),\n",
       "                (&#x27;columntransformer-2&#x27;,\n",
       "                 ColumnTransformer(remainder=&#x27;passthrough&#x27;,\n",
       "                                   transformers=[(&#x27;scale&#x27;, MaxAbsScaler(),\n",
       "                                                  [0])]))])</pre></div></div></div><div class=\"sk-serial\"><div class=\"sk-item sk-dashed-wrapped\"><div class=\"sk-label-container\"><div class=\"sk-label sk-toggleable\"><input class=\"sk-toggleable__control sk-hidden--visually\" id=\"sk-estimator-id-54\" type=\"checkbox\" ><label for=\"sk-estimator-id-54\" class=\"sk-toggleable__label sk-toggleable__label-arrow\">columntransformer-1: ColumnTransformer</label><div class=\"sk-toggleable__content\"><pre>ColumnTransformer(remainder=&#x27;passthrough&#x27;,\n",
       "                  transformers=[(&#x27;onehotencoder&#x27;,\n",
       "                                 OneHotEncoder(categories=[array([&#x27; 1 Series&#x27;, &#x27; 2 Series&#x27;, &#x27; 3 Series&#x27;, &#x27; 4 Series&#x27;, &#x27; 5 Series&#x27;,\n",
       "       &#x27; 6 Series&#x27;, &#x27; 7 Series&#x27;, &#x27; 8 Series&#x27;, &#x27; A Class&#x27;, &#x27; A1&#x27;, &#x27; A2&#x27;,\n",
       "       &#x27; A3&#x27;, &#x27; A4&#x27;, &#x27; A5&#x27;, &#x27; A6&#x27;, &#x27; A7&#x27;, &#x27; A8&#x27;, &#x27; Accent&#x27;, &#x27; Adam&#x27;,\n",
       "       &#x27; Agila&#x27;, &#x27; Amarok&#x27;, &#x27; Amica&#x27;, &#x27; Antara&#x27;, &#x27; Arteon&#x27;, &#x27; Astra&#x27;,\n",
       "       &#x27; Auris&#x27;, &#x27; Avensis&#x27;, &#x27; Aygo&#x27;, &#x27; B Class&#x27;, &#x27; B-MAX&#x27;, &#x27; Beetl...\n",
       "       &#x27; Z3&#x27;, &#x27; Z4&#x27;, &#x27; Zafira&#x27;, &#x27; Zafira Tourer&#x27;, &#x27; i3&#x27;, &#x27; i8&#x27;, &#x27;180&#x27;,\n",
       "       &#x27;200&#x27;, &#x27;220&#x27;, &#x27;230&#x27;, &#x27;E Class&#x27;], dtype=object),\n",
       "                                                           array([&#x27;Automatic&#x27;, &#x27;Manual&#x27;, &#x27;Other&#x27;, &#x27;Semi-Auto&#x27;], dtype=object),\n",
       "                                                           array([&#x27;Diesel&#x27;, &#x27;Electric&#x27;, &#x27;Hybrid&#x27;, &#x27;Other&#x27;, &#x27;Petrol&#x27;], dtype=object),\n",
       "                                                           array([&#x27;Audi&#x27;, &#x27;BMW&#x27;, &#x27;ford&#x27;, &#x27;hyundi&#x27;, &#x27;merc&#x27;, &#x27;skoda&#x27;, &#x27;toyota&#x27;,\n",
       "       &#x27;vauxhall&#x27;, &#x27;volkswagen&#x27;], dtype=object)]),\n",
       "                                 [&#x27;model&#x27;, &#x27;transmission&#x27;, &#x27;fuelType&#x27;,\n",
       "                                  &#x27;Manufacturer&#x27;])])</pre></div></div></div><div class=\"sk-parallel\"><div class=\"sk-parallel-item\"><div class=\"sk-item\"><div class=\"sk-label-container\"><div class=\"sk-label sk-toggleable\"><input class=\"sk-toggleable__control sk-hidden--visually\" id=\"sk-estimator-id-55\" type=\"checkbox\" ><label for=\"sk-estimator-id-55\" class=\"sk-toggleable__label sk-toggleable__label-arrow\">onehotencoder</label><div class=\"sk-toggleable__content\"><pre>[&#x27;model&#x27;, &#x27;transmission&#x27;, &#x27;fuelType&#x27;, &#x27;Manufacturer&#x27;]</pre></div></div></div><div class=\"sk-serial\"><div class=\"sk-item\"><div class=\"sk-estimator sk-toggleable\"><input class=\"sk-toggleable__control sk-hidden--visually\" id=\"sk-estimator-id-56\" type=\"checkbox\" ><label for=\"sk-estimator-id-56\" class=\"sk-toggleable__label sk-toggleable__label-arrow\">OneHotEncoder</label><div class=\"sk-toggleable__content\"><pre>OneHotEncoder(categories=[array([&#x27; 1 Series&#x27;, &#x27; 2 Series&#x27;, &#x27; 3 Series&#x27;, &#x27; 4 Series&#x27;, &#x27; 5 Series&#x27;,\n",
       "       &#x27; 6 Series&#x27;, &#x27; 7 Series&#x27;, &#x27; 8 Series&#x27;, &#x27; A Class&#x27;, &#x27; A1&#x27;, &#x27; A2&#x27;,\n",
       "       &#x27; A3&#x27;, &#x27; A4&#x27;, &#x27; A5&#x27;, &#x27; A6&#x27;, &#x27; A7&#x27;, &#x27; A8&#x27;, &#x27; Accent&#x27;, &#x27; Adam&#x27;,\n",
       "       &#x27; Agila&#x27;, &#x27; Amarok&#x27;, &#x27; Amica&#x27;, &#x27; Antara&#x27;, &#x27; Arteon&#x27;, &#x27; Astra&#x27;,\n",
       "       &#x27; Auris&#x27;, &#x27; Avensis&#x27;, &#x27; Aygo&#x27;, &#x27; B Class&#x27;, &#x27; B-MAX&#x27;, &#x27; Beetle&#x27;,\n",
       "       &#x27; C Class&#x27;, &#x27; C-HR&#x27;, &#x27; C-MAX&#x27;, &#x27; CC&#x27;, &#x27; CL Class&#x27;, &#x27; CLA Class&#x27;,\n",
       "       &#x27; CLC Class&#x27;, &#x27; CLK&#x27;, &#x27; CL...\n",
       "       &#x27; X4&#x27;, &#x27; X5&#x27;, &#x27; X6&#x27;, &#x27; X7&#x27;, &#x27; Yaris&#x27;, &#x27; Yeti&#x27;, &#x27; Yeti Outdoor&#x27;,\n",
       "       &#x27; Z3&#x27;, &#x27; Z4&#x27;, &#x27; Zafira&#x27;, &#x27; Zafira Tourer&#x27;, &#x27; i3&#x27;, &#x27; i8&#x27;, &#x27;180&#x27;,\n",
       "       &#x27;200&#x27;, &#x27;220&#x27;, &#x27;230&#x27;, &#x27;E Class&#x27;], dtype=object),\n",
       "                          array([&#x27;Automatic&#x27;, &#x27;Manual&#x27;, &#x27;Other&#x27;, &#x27;Semi-Auto&#x27;], dtype=object),\n",
       "                          array([&#x27;Diesel&#x27;, &#x27;Electric&#x27;, &#x27;Hybrid&#x27;, &#x27;Other&#x27;, &#x27;Petrol&#x27;], dtype=object),\n",
       "                          array([&#x27;Audi&#x27;, &#x27;BMW&#x27;, &#x27;ford&#x27;, &#x27;hyundi&#x27;, &#x27;merc&#x27;, &#x27;skoda&#x27;, &#x27;toyota&#x27;,\n",
       "       &#x27;vauxhall&#x27;, &#x27;volkswagen&#x27;], dtype=object)])</pre></div></div></div></div></div></div><div class=\"sk-parallel-item\"><div class=\"sk-item\"><div class=\"sk-label-container\"><div class=\"sk-label sk-toggleable\"><input class=\"sk-toggleable__control sk-hidden--visually\" id=\"sk-estimator-id-57\" type=\"checkbox\" ><label for=\"sk-estimator-id-57\" class=\"sk-toggleable__label sk-toggleable__label-arrow\">remainder</label><div class=\"sk-toggleable__content\"><pre>[&#x27;index&#x27;, &#x27;year&#x27;, &#x27;mileage&#x27;, &#x27;tax&#x27;, &#x27;mpg&#x27;, &#x27;engineSize&#x27;]</pre></div></div></div><div class=\"sk-serial\"><div class=\"sk-item\"><div class=\"sk-estimator sk-toggleable\"><input class=\"sk-toggleable__control sk-hidden--visually\" id=\"sk-estimator-id-58\" type=\"checkbox\" ><label for=\"sk-estimator-id-58\" class=\"sk-toggleable__label sk-toggleable__label-arrow\">passthrough</label><div class=\"sk-toggleable__content\"><pre>passthrough</pre></div></div></div></div></div></div></div></div><div class=\"sk-item sk-dashed-wrapped\"><div class=\"sk-label-container\"><div class=\"sk-label sk-toggleable\"><input class=\"sk-toggleable__control sk-hidden--visually\" id=\"sk-estimator-id-59\" type=\"checkbox\" ><label for=\"sk-estimator-id-59\" class=\"sk-toggleable__label sk-toggleable__label-arrow\">columntransformer-2: ColumnTransformer</label><div class=\"sk-toggleable__content\"><pre>ColumnTransformer(remainder=&#x27;passthrough&#x27;,\n",
       "                  transformers=[(&#x27;scale&#x27;, MaxAbsScaler(), [0])])</pre></div></div></div><div class=\"sk-parallel\"><div class=\"sk-parallel-item\"><div class=\"sk-item\"><div class=\"sk-label-container\"><div class=\"sk-label sk-toggleable\"><input class=\"sk-toggleable__control sk-hidden--visually\" id=\"sk-estimator-id-60\" type=\"checkbox\" ><label for=\"sk-estimator-id-60\" class=\"sk-toggleable__label sk-toggleable__label-arrow\">scale</label><div class=\"sk-toggleable__content\"><pre>[0]</pre></div></div></div><div class=\"sk-serial\"><div class=\"sk-item\"><div class=\"sk-estimator sk-toggleable\"><input class=\"sk-toggleable__control sk-hidden--visually\" id=\"sk-estimator-id-61\" type=\"checkbox\" ><label for=\"sk-estimator-id-61\" class=\"sk-toggleable__label sk-toggleable__label-arrow\">MaxAbsScaler</label><div class=\"sk-toggleable__content\"><pre>MaxAbsScaler()</pre></div></div></div></div></div></div><div class=\"sk-parallel-item\"><div class=\"sk-item\"><div class=\"sk-label-container\"><div class=\"sk-label sk-toggleable\"><input class=\"sk-toggleable__control sk-hidden--visually\" id=\"sk-estimator-id-62\" type=\"checkbox\" ><label for=\"sk-estimator-id-62\" class=\"sk-toggleable__label sk-toggleable__label-arrow\">remainder</label><div class=\"sk-toggleable__content\"><pre>[1, 2, 3, 4, 5, 6, 7, 8, 9, 10, 11, 12, 13, 14, 15, 16, 17, 18, 19, 20, 21, 22, 23, 24, 25, 26, 27, 28, 29, 30, 31, 32, 33, 34, 35, 36, 37, 38, 39, 40, 41, 42, 43, 44, 45, 46, 47, 48, 49, 50, 51, 52, 53, 54, 55, 56, 57, 58, 59, 60, 61, 62, 63, 64, 65, 66, 67, 68, 69, 70, 71, 72, 73, 74, 75, 76, 77, 78, 79, 80, 81, 82, 83, 84, 85, 86, 87, 88, 89, 90, 91, 92, 93, 94, 95, 96, 97, 98, 99, 100, 101, 102, 103, 104, 105, 106, 107, 108, 109, 110, 111, 112, 113, 114, 115, 116, 117, 118, 119, 120, 121, 122, 123, 124, 125, 126, 127, 128, 129, 130, 131, 132, 133, 134, 135, 136, 137, 138, 139, 140, 141, 142, 143, 144, 145, 146, 147, 148, 149, 150, 151, 152, 153, 154, 155, 156, 157, 158, 159, 160, 161, 162, 163, 164, 165, 166, 167, 168, 169, 170, 171, 172, 173, 174, 175, 176, 177, 178, 179, 180, 181, 182, 183, 184, 185, 186, 187, 188, 189, 190, 191, 192, 193, 194, 195, 196, 197, 198, 199, 200, 201, 202, 203, 204, 205, 206, 207, 208, 209, 210, 211, 212, 213, 214, 215, 216, 217, 218]</pre></div></div></div><div class=\"sk-serial\"><div class=\"sk-item\"><div class=\"sk-estimator sk-toggleable\"><input class=\"sk-toggleable__control sk-hidden--visually\" id=\"sk-estimator-id-63\" type=\"checkbox\" ><label for=\"sk-estimator-id-63\" class=\"sk-toggleable__label sk-toggleable__label-arrow\">passthrough</label><div class=\"sk-toggleable__content\"><pre>passthrough</pre></div></div></div></div></div></div></div></div></div></div><div class=\"sk-item\"><div class=\"sk-estimator sk-toggleable\"><input class=\"sk-toggleable__control sk-hidden--visually\" id=\"sk-estimator-id-64\" type=\"checkbox\" ><label for=\"sk-estimator-id-64\" class=\"sk-toggleable__label sk-toggleable__label-arrow\">GradientBoostingRegressor</label><div class=\"sk-toggleable__content\"><pre>GradientBoostingRegressor(random_state=0)</pre></div></div></div></div></div></div></div>"
      ],
      "text/plain": [
       "Pipeline(steps=[('pipeline',\n",
       "                 Pipeline(steps=[('columntransformer-1',\n",
       "                                  ColumnTransformer(remainder='passthrough',\n",
       "                                                    transformers=[('onehotencoder',\n",
       "                                                                   OneHotEncoder(categories=[array([' 1 Series', ' 2 Series', ' 3 Series', ' 4 Series', ' 5 Series',\n",
       "       ' 6 Series', ' 7 Series', ' 8 Series', ' A Class', ' A1', ' A2',\n",
       "       ' A3', ' A4', ' A5', ' A6', ' A7', ' A8', ' Accent', ' Adam',\n",
       "       ' Agila', ' Amarok', ' Amica', ' Antara...\n",
       "                                                                                             array(['Diesel', 'Electric', 'Hybrid', 'Other', 'Petrol'], dtype=object),\n",
       "                                                                                             array(['Audi', 'BMW', 'ford', 'hyundi', 'merc', 'skoda', 'toyota',\n",
       "       'vauxhall', 'volkswagen'], dtype=object)]),\n",
       "                                                                   ['model',\n",
       "                                                                    'transmission',\n",
       "                                                                    'fuelType',\n",
       "                                                                    'Manufacturer'])])),\n",
       "                                 ('columntransformer-2',\n",
       "                                  ColumnTransformer(remainder='passthrough',\n",
       "                                                    transformers=[('scale',\n",
       "                                                                   MaxAbsScaler(),\n",
       "                                                                   [0])]))])),\n",
       "                ('gradientboostingregressor',\n",
       "                 GradientBoostingRegressor(random_state=0))])"
      ]
     },
     "execution_count": 54,
     "metadata": {},
     "output_type": "execute_result"
    }
   ],
   "source": [
    "pipe_gbr.fit(X_train,Y_train)"
   ]
  },
  {
   "cell_type": "code",
   "execution_count": 55,
   "id": "ab50bf5b",
   "metadata": {},
   "outputs": [],
   "source": [
    "Y_pred4_train=pipe_gbr.predict(X_train)\n",
    "Y_pred4_test=pipe_gbr.predict(X_test)"
   ]
  },
  {
   "cell_type": "code",
   "execution_count": 56,
   "id": "58dcbcd9",
   "metadata": {},
   "outputs": [
    {
     "name": "stdout",
     "output_type": "stream",
     "text": [
      "Scores on Train data [GBR]:\n",
      "\n",
      "MSE   :  9819205.222018234\n",
      "RMSE  :  3133.561108709743\n",
      "R2    :  90.27\n"
     ]
    }
   ],
   "source": [
    "print(\"Scores on Train data [GBR]:\")\n",
    "\n",
    "gbr_mse_train = mean_squared_error(Y_train, Y_pred4_train, squared=True)\n",
    "gbr_rmse_train = mean_squared_error(Y_train, Y_pred4_train, squared=False)\n",
    "gbr_r2_train = r2_score(Y_train, Y_pred4_train)\n",
    "\n",
    "print()\n",
    "print(\"MSE   : \", gbr_mse_train)\n",
    "print(\"RMSE  : \", gbr_rmse_train)\n",
    "print(\"R2    : \", round(gbr_r2_train*100,2))"
   ]
  },
  {
   "cell_type": "code",
   "execution_count": 57,
   "id": "3456d0e0",
   "metadata": {},
   "outputs": [
    {
     "name": "stdout",
     "output_type": "stream",
     "text": [
      "Scores on Test data [GBR]:\n",
      "\n",
      "MSE   :  9290578.467815883\n",
      "RMSE  :  3048.0450239154743\n",
      "R2    :  90.26\n"
     ]
    }
   ],
   "source": [
    "print(\"Scores on Test data [GBR]:\")\n",
    "\n",
    "gbr_mse_test = mean_squared_error(Y_test, Y_pred4_test, squared=True)\n",
    "gbr_rmse_test = mean_squared_error(Y_test, Y_pred4_test, squared=False)\n",
    "gbr_r2_test = r2_score(Y_test, Y_pred4_test)\n",
    "\n",
    "print()\n",
    "print(\"MSE   : \", gbr_mse_test)\n",
    "print(\"RMSE  : \", gbr_rmse_test)\n",
    "print(\"R2    : \", round(gbr_r2_test*100,2))"
   ]
  },
  {
   "cell_type": "markdown",
   "id": "9b79db53",
   "metadata": {},
   "source": [
    "### Lasso Regression"
   ]
  },
  {
   "cell_type": "code",
   "execution_count": 67,
   "id": "03ad6f80",
   "metadata": {},
   "outputs": [],
   "source": [
    "from sklearn import linear_model\n",
    "lassoR = linear_model.Lasso(alpha=0.1, tol=1e-2)"
   ]
  },
  {
   "cell_type": "code",
   "execution_count": 61,
   "id": "34e60a04",
   "metadata": {},
   "outputs": [],
   "source": [
    "pipe_lassoR = make_pipeline(pipe,lassoR)"
   ]
  },
  {
   "cell_type": "code",
   "execution_count": 62,
   "id": "94ca8ba3",
   "metadata": {},
   "outputs": [
    {
     "name": "stderr",
     "output_type": "stream",
     "text": [
      "C:\\Users\\Asus\\anaconda3\\envs\\ML\\Lib\\site-packages\\sklearn\\linear_model\\_coordinate_descent.py:589: ConvergenceWarning: Objective did not converge. You might want to increase the number of iterations. Duality gap: 388831981318.22437, tolerance: 73829812428.1255\n",
      "  model = cd_fast.sparse_enet_coordinate_descent(\n"
     ]
    },
    {
     "data": {
      "text/html": [
       "<style>#sk-container-id-7 {color: black;}#sk-container-id-7 pre{padding: 0;}#sk-container-id-7 div.sk-toggleable {background-color: white;}#sk-container-id-7 label.sk-toggleable__label {cursor: pointer;display: block;width: 100%;margin-bottom: 0;padding: 0.3em;box-sizing: border-box;text-align: center;}#sk-container-id-7 label.sk-toggleable__label-arrow:before {content: \"▸\";float: left;margin-right: 0.25em;color: #696969;}#sk-container-id-7 label.sk-toggleable__label-arrow:hover:before {color: black;}#sk-container-id-7 div.sk-estimator:hover label.sk-toggleable__label-arrow:before {color: black;}#sk-container-id-7 div.sk-toggleable__content {max-height: 0;max-width: 0;overflow: hidden;text-align: left;background-color: #f0f8ff;}#sk-container-id-7 div.sk-toggleable__content pre {margin: 0.2em;color: black;border-radius: 0.25em;background-color: #f0f8ff;}#sk-container-id-7 input.sk-toggleable__control:checked~div.sk-toggleable__content {max-height: 200px;max-width: 100%;overflow: auto;}#sk-container-id-7 input.sk-toggleable__control:checked~label.sk-toggleable__label-arrow:before {content: \"▾\";}#sk-container-id-7 div.sk-estimator input.sk-toggleable__control:checked~label.sk-toggleable__label {background-color: #d4ebff;}#sk-container-id-7 div.sk-label input.sk-toggleable__control:checked~label.sk-toggleable__label {background-color: #d4ebff;}#sk-container-id-7 input.sk-hidden--visually {border: 0;clip: rect(1px 1px 1px 1px);clip: rect(1px, 1px, 1px, 1px);height: 1px;margin: -1px;overflow: hidden;padding: 0;position: absolute;width: 1px;}#sk-container-id-7 div.sk-estimator {font-family: monospace;background-color: #f0f8ff;border: 1px dotted black;border-radius: 0.25em;box-sizing: border-box;margin-bottom: 0.5em;}#sk-container-id-7 div.sk-estimator:hover {background-color: #d4ebff;}#sk-container-id-7 div.sk-parallel-item::after {content: \"\";width: 100%;border-bottom: 1px solid gray;flex-grow: 1;}#sk-container-id-7 div.sk-label:hover label.sk-toggleable__label {background-color: #d4ebff;}#sk-container-id-7 div.sk-serial::before {content: \"\";position: absolute;border-left: 1px solid gray;box-sizing: border-box;top: 0;bottom: 0;left: 50%;z-index: 0;}#sk-container-id-7 div.sk-serial {display: flex;flex-direction: column;align-items: center;background-color: white;padding-right: 0.2em;padding-left: 0.2em;position: relative;}#sk-container-id-7 div.sk-item {position: relative;z-index: 1;}#sk-container-id-7 div.sk-parallel {display: flex;align-items: stretch;justify-content: center;background-color: white;position: relative;}#sk-container-id-7 div.sk-item::before, #sk-container-id-7 div.sk-parallel-item::before {content: \"\";position: absolute;border-left: 1px solid gray;box-sizing: border-box;top: 0;bottom: 0;left: 50%;z-index: -1;}#sk-container-id-7 div.sk-parallel-item {display: flex;flex-direction: column;z-index: 1;position: relative;background-color: white;}#sk-container-id-7 div.sk-parallel-item:first-child::after {align-self: flex-end;width: 50%;}#sk-container-id-7 div.sk-parallel-item:last-child::after {align-self: flex-start;width: 50%;}#sk-container-id-7 div.sk-parallel-item:only-child::after {width: 0;}#sk-container-id-7 div.sk-dashed-wrapped {border: 1px dashed gray;margin: 0 0.4em 0.5em 0.4em;box-sizing: border-box;padding-bottom: 0.4em;background-color: white;}#sk-container-id-7 div.sk-label label {font-family: monospace;font-weight: bold;display: inline-block;line-height: 1.2em;}#sk-container-id-7 div.sk-label-container {text-align: center;}#sk-container-id-7 div.sk-container {/* jupyter's `normalize.less` sets `[hidden] { display: none; }` but bootstrap.min.css set `[hidden] { display: none !important; }` so we also need the `!important` here to be able to override the default hidden behavior on the sphinx rendered scikit-learn.org. See: https://github.com/scikit-learn/scikit-learn/issues/21755 */display: inline-block !important;position: relative;}#sk-container-id-7 div.sk-text-repr-fallback {display: none;}</style><div id=\"sk-container-id-7\" class=\"sk-top-container\"><div class=\"sk-text-repr-fallback\"><pre>Pipeline(steps=[(&#x27;pipeline&#x27;,\n",
       "                 Pipeline(steps=[(&#x27;columntransformer-1&#x27;,\n",
       "                                  ColumnTransformer(remainder=&#x27;passthrough&#x27;,\n",
       "                                                    transformers=[(&#x27;onehotencoder&#x27;,\n",
       "                                                                   OneHotEncoder(categories=[array([&#x27; 1 Series&#x27;, &#x27; 2 Series&#x27;, &#x27; 3 Series&#x27;, &#x27; 4 Series&#x27;, &#x27; 5 Series&#x27;,\n",
       "       &#x27; 6 Series&#x27;, &#x27; 7 Series&#x27;, &#x27; 8 Series&#x27;, &#x27; A Class&#x27;, &#x27; A1&#x27;, &#x27; A2&#x27;,\n",
       "       &#x27; A3&#x27;, &#x27; A4&#x27;, &#x27; A5&#x27;, &#x27; A6&#x27;, &#x27; A7&#x27;, &#x27; A8&#x27;, &#x27; Accent&#x27;, &#x27; Adam&#x27;,\n",
       "       &#x27; Agila&#x27;, &#x27; Amarok&#x27;, &#x27; Amica&#x27;, &#x27; Antara...\n",
       "                                                                                             array([&#x27;Diesel&#x27;, &#x27;Electric&#x27;, &#x27;Hybrid&#x27;, &#x27;Other&#x27;, &#x27;Petrol&#x27;], dtype=object),\n",
       "                                                                                             array([&#x27;Audi&#x27;, &#x27;BMW&#x27;, &#x27;ford&#x27;, &#x27;hyundi&#x27;, &#x27;merc&#x27;, &#x27;skoda&#x27;, &#x27;toyota&#x27;,\n",
       "       &#x27;vauxhall&#x27;, &#x27;volkswagen&#x27;], dtype=object)]),\n",
       "                                                                   [&#x27;model&#x27;,\n",
       "                                                                    &#x27;transmission&#x27;,\n",
       "                                                                    &#x27;fuelType&#x27;,\n",
       "                                                                    &#x27;Manufacturer&#x27;])])),\n",
       "                                 (&#x27;columntransformer-2&#x27;,\n",
       "                                  ColumnTransformer(remainder=&#x27;passthrough&#x27;,\n",
       "                                                    transformers=[(&#x27;scale&#x27;,\n",
       "                                                                   MaxAbsScaler(),\n",
       "                                                                   [0])]))])),\n",
       "                (&#x27;lasso&#x27;, Lasso(alpha=0.1, tol=0.01))])</pre><b>In a Jupyter environment, please rerun this cell to show the HTML representation or trust the notebook. <br />On GitHub, the HTML representation is unable to render, please try loading this page with nbviewer.org.</b></div><div class=\"sk-container\" hidden><div class=\"sk-item sk-dashed-wrapped\"><div class=\"sk-label-container\"><div class=\"sk-label sk-toggleable\"><input class=\"sk-toggleable__control sk-hidden--visually\" id=\"sk-estimator-id-65\" type=\"checkbox\" ><label for=\"sk-estimator-id-65\" class=\"sk-toggleable__label sk-toggleable__label-arrow\">Pipeline</label><div class=\"sk-toggleable__content\"><pre>Pipeline(steps=[(&#x27;pipeline&#x27;,\n",
       "                 Pipeline(steps=[(&#x27;columntransformer-1&#x27;,\n",
       "                                  ColumnTransformer(remainder=&#x27;passthrough&#x27;,\n",
       "                                                    transformers=[(&#x27;onehotencoder&#x27;,\n",
       "                                                                   OneHotEncoder(categories=[array([&#x27; 1 Series&#x27;, &#x27; 2 Series&#x27;, &#x27; 3 Series&#x27;, &#x27; 4 Series&#x27;, &#x27; 5 Series&#x27;,\n",
       "       &#x27; 6 Series&#x27;, &#x27; 7 Series&#x27;, &#x27; 8 Series&#x27;, &#x27; A Class&#x27;, &#x27; A1&#x27;, &#x27; A2&#x27;,\n",
       "       &#x27; A3&#x27;, &#x27; A4&#x27;, &#x27; A5&#x27;, &#x27; A6&#x27;, &#x27; A7&#x27;, &#x27; A8&#x27;, &#x27; Accent&#x27;, &#x27; Adam&#x27;,\n",
       "       &#x27; Agila&#x27;, &#x27; Amarok&#x27;, &#x27; Amica&#x27;, &#x27; Antara...\n",
       "                                                                                             array([&#x27;Diesel&#x27;, &#x27;Electric&#x27;, &#x27;Hybrid&#x27;, &#x27;Other&#x27;, &#x27;Petrol&#x27;], dtype=object),\n",
       "                                                                                             array([&#x27;Audi&#x27;, &#x27;BMW&#x27;, &#x27;ford&#x27;, &#x27;hyundi&#x27;, &#x27;merc&#x27;, &#x27;skoda&#x27;, &#x27;toyota&#x27;,\n",
       "       &#x27;vauxhall&#x27;, &#x27;volkswagen&#x27;], dtype=object)]),\n",
       "                                                                   [&#x27;model&#x27;,\n",
       "                                                                    &#x27;transmission&#x27;,\n",
       "                                                                    &#x27;fuelType&#x27;,\n",
       "                                                                    &#x27;Manufacturer&#x27;])])),\n",
       "                                 (&#x27;columntransformer-2&#x27;,\n",
       "                                  ColumnTransformer(remainder=&#x27;passthrough&#x27;,\n",
       "                                                    transformers=[(&#x27;scale&#x27;,\n",
       "                                                                   MaxAbsScaler(),\n",
       "                                                                   [0])]))])),\n",
       "                (&#x27;lasso&#x27;, Lasso(alpha=0.1, tol=0.01))])</pre></div></div></div><div class=\"sk-serial\"><div class=\"sk-item\"><div class=\"sk-label-container\"><div class=\"sk-label sk-toggleable\"><input class=\"sk-toggleable__control sk-hidden--visually\" id=\"sk-estimator-id-66\" type=\"checkbox\" ><label for=\"sk-estimator-id-66\" class=\"sk-toggleable__label sk-toggleable__label-arrow\">pipeline: Pipeline</label><div class=\"sk-toggleable__content\"><pre>Pipeline(steps=[(&#x27;columntransformer-1&#x27;,\n",
       "                 ColumnTransformer(remainder=&#x27;passthrough&#x27;,\n",
       "                                   transformers=[(&#x27;onehotencoder&#x27;,\n",
       "                                                  OneHotEncoder(categories=[array([&#x27; 1 Series&#x27;, &#x27; 2 Series&#x27;, &#x27; 3 Series&#x27;, &#x27; 4 Series&#x27;, &#x27; 5 Series&#x27;,\n",
       "       &#x27; 6 Series&#x27;, &#x27; 7 Series&#x27;, &#x27; 8 Series&#x27;, &#x27; A Class&#x27;, &#x27; A1&#x27;, &#x27; A2&#x27;,\n",
       "       &#x27; A3&#x27;, &#x27; A4&#x27;, &#x27; A5&#x27;, &#x27; A6&#x27;, &#x27; A7&#x27;, &#x27; A8&#x27;, &#x27; Accent&#x27;, &#x27; Adam&#x27;,\n",
       "       &#x27; Agila&#x27;, &#x27; Amarok&#x27;, &#x27; Amica&#x27;, &#x27; Antara&#x27;, &#x27; Arteon&#x27;, &#x27; Astra&#x27;,\n",
       "       &#x27; Auris&#x27;, &#x27;...\n",
       "                                                                            array([&#x27;Automatic&#x27;, &#x27;Manual&#x27;, &#x27;Other&#x27;, &#x27;Semi-Auto&#x27;], dtype=object),\n",
       "                                                                            array([&#x27;Diesel&#x27;, &#x27;Electric&#x27;, &#x27;Hybrid&#x27;, &#x27;Other&#x27;, &#x27;Petrol&#x27;], dtype=object),\n",
       "                                                                            array([&#x27;Audi&#x27;, &#x27;BMW&#x27;, &#x27;ford&#x27;, &#x27;hyundi&#x27;, &#x27;merc&#x27;, &#x27;skoda&#x27;, &#x27;toyota&#x27;,\n",
       "       &#x27;vauxhall&#x27;, &#x27;volkswagen&#x27;], dtype=object)]),\n",
       "                                                  [&#x27;model&#x27;, &#x27;transmission&#x27;,\n",
       "                                                   &#x27;fuelType&#x27;,\n",
       "                                                   &#x27;Manufacturer&#x27;])])),\n",
       "                (&#x27;columntransformer-2&#x27;,\n",
       "                 ColumnTransformer(remainder=&#x27;passthrough&#x27;,\n",
       "                                   transformers=[(&#x27;scale&#x27;, MaxAbsScaler(),\n",
       "                                                  [0])]))])</pre></div></div></div><div class=\"sk-serial\"><div class=\"sk-item sk-dashed-wrapped\"><div class=\"sk-label-container\"><div class=\"sk-label sk-toggleable\"><input class=\"sk-toggleable__control sk-hidden--visually\" id=\"sk-estimator-id-67\" type=\"checkbox\" ><label for=\"sk-estimator-id-67\" class=\"sk-toggleable__label sk-toggleable__label-arrow\">columntransformer-1: ColumnTransformer</label><div class=\"sk-toggleable__content\"><pre>ColumnTransformer(remainder=&#x27;passthrough&#x27;,\n",
       "                  transformers=[(&#x27;onehotencoder&#x27;,\n",
       "                                 OneHotEncoder(categories=[array([&#x27; 1 Series&#x27;, &#x27; 2 Series&#x27;, &#x27; 3 Series&#x27;, &#x27; 4 Series&#x27;, &#x27; 5 Series&#x27;,\n",
       "       &#x27; 6 Series&#x27;, &#x27; 7 Series&#x27;, &#x27; 8 Series&#x27;, &#x27; A Class&#x27;, &#x27; A1&#x27;, &#x27; A2&#x27;,\n",
       "       &#x27; A3&#x27;, &#x27; A4&#x27;, &#x27; A5&#x27;, &#x27; A6&#x27;, &#x27; A7&#x27;, &#x27; A8&#x27;, &#x27; Accent&#x27;, &#x27; Adam&#x27;,\n",
       "       &#x27; Agila&#x27;, &#x27; Amarok&#x27;, &#x27; Amica&#x27;, &#x27; Antara&#x27;, &#x27; Arteon&#x27;, &#x27; Astra&#x27;,\n",
       "       &#x27; Auris&#x27;, &#x27; Avensis&#x27;, &#x27; Aygo&#x27;, &#x27; B Class&#x27;, &#x27; B-MAX&#x27;, &#x27; Beetl...\n",
       "       &#x27; Z3&#x27;, &#x27; Z4&#x27;, &#x27; Zafira&#x27;, &#x27; Zafira Tourer&#x27;, &#x27; i3&#x27;, &#x27; i8&#x27;, &#x27;180&#x27;,\n",
       "       &#x27;200&#x27;, &#x27;220&#x27;, &#x27;230&#x27;, &#x27;E Class&#x27;], dtype=object),\n",
       "                                                           array([&#x27;Automatic&#x27;, &#x27;Manual&#x27;, &#x27;Other&#x27;, &#x27;Semi-Auto&#x27;], dtype=object),\n",
       "                                                           array([&#x27;Diesel&#x27;, &#x27;Electric&#x27;, &#x27;Hybrid&#x27;, &#x27;Other&#x27;, &#x27;Petrol&#x27;], dtype=object),\n",
       "                                                           array([&#x27;Audi&#x27;, &#x27;BMW&#x27;, &#x27;ford&#x27;, &#x27;hyundi&#x27;, &#x27;merc&#x27;, &#x27;skoda&#x27;, &#x27;toyota&#x27;,\n",
       "       &#x27;vauxhall&#x27;, &#x27;volkswagen&#x27;], dtype=object)]),\n",
       "                                 [&#x27;model&#x27;, &#x27;transmission&#x27;, &#x27;fuelType&#x27;,\n",
       "                                  &#x27;Manufacturer&#x27;])])</pre></div></div></div><div class=\"sk-parallel\"><div class=\"sk-parallel-item\"><div class=\"sk-item\"><div class=\"sk-label-container\"><div class=\"sk-label sk-toggleable\"><input class=\"sk-toggleable__control sk-hidden--visually\" id=\"sk-estimator-id-68\" type=\"checkbox\" ><label for=\"sk-estimator-id-68\" class=\"sk-toggleable__label sk-toggleable__label-arrow\">onehotencoder</label><div class=\"sk-toggleable__content\"><pre>[&#x27;model&#x27;, &#x27;transmission&#x27;, &#x27;fuelType&#x27;, &#x27;Manufacturer&#x27;]</pre></div></div></div><div class=\"sk-serial\"><div class=\"sk-item\"><div class=\"sk-estimator sk-toggleable\"><input class=\"sk-toggleable__control sk-hidden--visually\" id=\"sk-estimator-id-69\" type=\"checkbox\" ><label for=\"sk-estimator-id-69\" class=\"sk-toggleable__label sk-toggleable__label-arrow\">OneHotEncoder</label><div class=\"sk-toggleable__content\"><pre>OneHotEncoder(categories=[array([&#x27; 1 Series&#x27;, &#x27; 2 Series&#x27;, &#x27; 3 Series&#x27;, &#x27; 4 Series&#x27;, &#x27; 5 Series&#x27;,\n",
       "       &#x27; 6 Series&#x27;, &#x27; 7 Series&#x27;, &#x27; 8 Series&#x27;, &#x27; A Class&#x27;, &#x27; A1&#x27;, &#x27; A2&#x27;,\n",
       "       &#x27; A3&#x27;, &#x27; A4&#x27;, &#x27; A5&#x27;, &#x27; A6&#x27;, &#x27; A7&#x27;, &#x27; A8&#x27;, &#x27; Accent&#x27;, &#x27; Adam&#x27;,\n",
       "       &#x27; Agila&#x27;, &#x27; Amarok&#x27;, &#x27; Amica&#x27;, &#x27; Antara&#x27;, &#x27; Arteon&#x27;, &#x27; Astra&#x27;,\n",
       "       &#x27; Auris&#x27;, &#x27; Avensis&#x27;, &#x27; Aygo&#x27;, &#x27; B Class&#x27;, &#x27; B-MAX&#x27;, &#x27; Beetle&#x27;,\n",
       "       &#x27; C Class&#x27;, &#x27; C-HR&#x27;, &#x27; C-MAX&#x27;, &#x27; CC&#x27;, &#x27; CL Class&#x27;, &#x27; CLA Class&#x27;,\n",
       "       &#x27; CLC Class&#x27;, &#x27; CLK&#x27;, &#x27; CL...\n",
       "       &#x27; X4&#x27;, &#x27; X5&#x27;, &#x27; X6&#x27;, &#x27; X7&#x27;, &#x27; Yaris&#x27;, &#x27; Yeti&#x27;, &#x27; Yeti Outdoor&#x27;,\n",
       "       &#x27; Z3&#x27;, &#x27; Z4&#x27;, &#x27; Zafira&#x27;, &#x27; Zafira Tourer&#x27;, &#x27; i3&#x27;, &#x27; i8&#x27;, &#x27;180&#x27;,\n",
       "       &#x27;200&#x27;, &#x27;220&#x27;, &#x27;230&#x27;, &#x27;E Class&#x27;], dtype=object),\n",
       "                          array([&#x27;Automatic&#x27;, &#x27;Manual&#x27;, &#x27;Other&#x27;, &#x27;Semi-Auto&#x27;], dtype=object),\n",
       "                          array([&#x27;Diesel&#x27;, &#x27;Electric&#x27;, &#x27;Hybrid&#x27;, &#x27;Other&#x27;, &#x27;Petrol&#x27;], dtype=object),\n",
       "                          array([&#x27;Audi&#x27;, &#x27;BMW&#x27;, &#x27;ford&#x27;, &#x27;hyundi&#x27;, &#x27;merc&#x27;, &#x27;skoda&#x27;, &#x27;toyota&#x27;,\n",
       "       &#x27;vauxhall&#x27;, &#x27;volkswagen&#x27;], dtype=object)])</pre></div></div></div></div></div></div><div class=\"sk-parallel-item\"><div class=\"sk-item\"><div class=\"sk-label-container\"><div class=\"sk-label sk-toggleable\"><input class=\"sk-toggleable__control sk-hidden--visually\" id=\"sk-estimator-id-70\" type=\"checkbox\" ><label for=\"sk-estimator-id-70\" class=\"sk-toggleable__label sk-toggleable__label-arrow\">remainder</label><div class=\"sk-toggleable__content\"><pre>[&#x27;index&#x27;, &#x27;year&#x27;, &#x27;mileage&#x27;, &#x27;tax&#x27;, &#x27;mpg&#x27;, &#x27;engineSize&#x27;]</pre></div></div></div><div class=\"sk-serial\"><div class=\"sk-item\"><div class=\"sk-estimator sk-toggleable\"><input class=\"sk-toggleable__control sk-hidden--visually\" id=\"sk-estimator-id-71\" type=\"checkbox\" ><label for=\"sk-estimator-id-71\" class=\"sk-toggleable__label sk-toggleable__label-arrow\">passthrough</label><div class=\"sk-toggleable__content\"><pre>passthrough</pre></div></div></div></div></div></div></div></div><div class=\"sk-item sk-dashed-wrapped\"><div class=\"sk-label-container\"><div class=\"sk-label sk-toggleable\"><input class=\"sk-toggleable__control sk-hidden--visually\" id=\"sk-estimator-id-72\" type=\"checkbox\" ><label for=\"sk-estimator-id-72\" class=\"sk-toggleable__label sk-toggleable__label-arrow\">columntransformer-2: ColumnTransformer</label><div class=\"sk-toggleable__content\"><pre>ColumnTransformer(remainder=&#x27;passthrough&#x27;,\n",
       "                  transformers=[(&#x27;scale&#x27;, MaxAbsScaler(), [0])])</pre></div></div></div><div class=\"sk-parallel\"><div class=\"sk-parallel-item\"><div class=\"sk-item\"><div class=\"sk-label-container\"><div class=\"sk-label sk-toggleable\"><input class=\"sk-toggleable__control sk-hidden--visually\" id=\"sk-estimator-id-73\" type=\"checkbox\" ><label for=\"sk-estimator-id-73\" class=\"sk-toggleable__label sk-toggleable__label-arrow\">scale</label><div class=\"sk-toggleable__content\"><pre>[0]</pre></div></div></div><div class=\"sk-serial\"><div class=\"sk-item\"><div class=\"sk-estimator sk-toggleable\"><input class=\"sk-toggleable__control sk-hidden--visually\" id=\"sk-estimator-id-74\" type=\"checkbox\" ><label for=\"sk-estimator-id-74\" class=\"sk-toggleable__label sk-toggleable__label-arrow\">MaxAbsScaler</label><div class=\"sk-toggleable__content\"><pre>MaxAbsScaler()</pre></div></div></div></div></div></div><div class=\"sk-parallel-item\"><div class=\"sk-item\"><div class=\"sk-label-container\"><div class=\"sk-label sk-toggleable\"><input class=\"sk-toggleable__control sk-hidden--visually\" id=\"sk-estimator-id-75\" type=\"checkbox\" ><label for=\"sk-estimator-id-75\" class=\"sk-toggleable__label sk-toggleable__label-arrow\">remainder</label><div class=\"sk-toggleable__content\"><pre>[1, 2, 3, 4, 5, 6, 7, 8, 9, 10, 11, 12, 13, 14, 15, 16, 17, 18, 19, 20, 21, 22, 23, 24, 25, 26, 27, 28, 29, 30, 31, 32, 33, 34, 35, 36, 37, 38, 39, 40, 41, 42, 43, 44, 45, 46, 47, 48, 49, 50, 51, 52, 53, 54, 55, 56, 57, 58, 59, 60, 61, 62, 63, 64, 65, 66, 67, 68, 69, 70, 71, 72, 73, 74, 75, 76, 77, 78, 79, 80, 81, 82, 83, 84, 85, 86, 87, 88, 89, 90, 91, 92, 93, 94, 95, 96, 97, 98, 99, 100, 101, 102, 103, 104, 105, 106, 107, 108, 109, 110, 111, 112, 113, 114, 115, 116, 117, 118, 119, 120, 121, 122, 123, 124, 125, 126, 127, 128, 129, 130, 131, 132, 133, 134, 135, 136, 137, 138, 139, 140, 141, 142, 143, 144, 145, 146, 147, 148, 149, 150, 151, 152, 153, 154, 155, 156, 157, 158, 159, 160, 161, 162, 163, 164, 165, 166, 167, 168, 169, 170, 171, 172, 173, 174, 175, 176, 177, 178, 179, 180, 181, 182, 183, 184, 185, 186, 187, 188, 189, 190, 191, 192, 193, 194, 195, 196, 197, 198, 199, 200, 201, 202, 203, 204, 205, 206, 207, 208, 209, 210, 211, 212, 213, 214, 215, 216, 217, 218]</pre></div></div></div><div class=\"sk-serial\"><div class=\"sk-item\"><div class=\"sk-estimator sk-toggleable\"><input class=\"sk-toggleable__control sk-hidden--visually\" id=\"sk-estimator-id-76\" type=\"checkbox\" ><label for=\"sk-estimator-id-76\" class=\"sk-toggleable__label sk-toggleable__label-arrow\">passthrough</label><div class=\"sk-toggleable__content\"><pre>passthrough</pre></div></div></div></div></div></div></div></div></div></div><div class=\"sk-item\"><div class=\"sk-estimator sk-toggleable\"><input class=\"sk-toggleable__control sk-hidden--visually\" id=\"sk-estimator-id-77\" type=\"checkbox\" ><label for=\"sk-estimator-id-77\" class=\"sk-toggleable__label sk-toggleable__label-arrow\">Lasso</label><div class=\"sk-toggleable__content\"><pre>Lasso(alpha=0.1, tol=0.01)</pre></div></div></div></div></div></div></div>"
      ],
      "text/plain": [
       "Pipeline(steps=[('pipeline',\n",
       "                 Pipeline(steps=[('columntransformer-1',\n",
       "                                  ColumnTransformer(remainder='passthrough',\n",
       "                                                    transformers=[('onehotencoder',\n",
       "                                                                   OneHotEncoder(categories=[array([' 1 Series', ' 2 Series', ' 3 Series', ' 4 Series', ' 5 Series',\n",
       "       ' 6 Series', ' 7 Series', ' 8 Series', ' A Class', ' A1', ' A2',\n",
       "       ' A3', ' A4', ' A5', ' A6', ' A7', ' A8', ' Accent', ' Adam',\n",
       "       ' Agila', ' Amarok', ' Amica', ' Antara...\n",
       "                                                                                             array(['Diesel', 'Electric', 'Hybrid', 'Other', 'Petrol'], dtype=object),\n",
       "                                                                                             array(['Audi', 'BMW', 'ford', 'hyundi', 'merc', 'skoda', 'toyota',\n",
       "       'vauxhall', 'volkswagen'], dtype=object)]),\n",
       "                                                                   ['model',\n",
       "                                                                    'transmission',\n",
       "                                                                    'fuelType',\n",
       "                                                                    'Manufacturer'])])),\n",
       "                                 ('columntransformer-2',\n",
       "                                  ColumnTransformer(remainder='passthrough',\n",
       "                                                    transformers=[('scale',\n",
       "                                                                   MaxAbsScaler(),\n",
       "                                                                   [0])]))])),\n",
       "                ('lasso', Lasso(alpha=0.1, tol=0.01))])"
      ]
     },
     "execution_count": 62,
     "metadata": {},
     "output_type": "execute_result"
    }
   ],
   "source": [
    "pipe_lassoR.fit(X_train,Y_train)"
   ]
  },
  {
   "cell_type": "code",
   "execution_count": 63,
   "id": "d591820f",
   "metadata": {},
   "outputs": [],
   "source": [
    "Y_pred5_train=pipe_lassoR.predict(X_train)\n",
    "Y_pred5_test=pipe_lassoR.predict(X_test)"
   ]
  },
  {
   "cell_type": "code",
   "execution_count": 64,
   "id": "9f9239c8",
   "metadata": {},
   "outputs": [
    {
     "name": "stdout",
     "output_type": "stream",
     "text": [
      "Scores on Train data [Lasso]:\n",
      "\n",
      "MSE   :  14558424.900540588\n",
      "RMSE  :  3815.550405975603\n",
      "R2    :  85.57\n"
     ]
    }
   ],
   "source": [
    "print(\"Scores on Train data [Lasso]:\")\n",
    "\n",
    "lassoR_mse_train = mean_squared_error(Y_train, Y_pred5_train, squared=True)\n",
    "lassoR_rmse_train = mean_squared_error(Y_train, Y_pred5_train, squared=False)\n",
    "lassoR_r2_train = r2_score(Y_train, Y_pred5_train)\n",
    "\n",
    "print()\n",
    "print(\"MSE   : \", lassoR_mse_train)\n",
    "print(\"RMSE  : \", lassoR_rmse_train)\n",
    "print(\"R2    : \", round(lassoR_r2_train*100,2))"
   ]
  },
  {
   "cell_type": "code",
   "execution_count": 65,
   "id": "94257d05",
   "metadata": {},
   "outputs": [
    {
     "name": "stdout",
     "output_type": "stream",
     "text": [
      "Scores on Test data [GBR]:\n",
      "\n",
      "MSE   :  12609764.297143376\n",
      "RMSE  :  3551.022993046282\n",
      "R2    :  86.78\n"
     ]
    }
   ],
   "source": [
    "print(\"Scores on Test data [GBR]:\")\n",
    "\n",
    "lassoR_mse_test = mean_squared_error(Y_test, Y_pred5_test, squared=True)\n",
    "lassoR_rmse_test = mean_squared_error(Y_test, Y_pred5_test, squared=False)\n",
    "lassoR_r2_test = r2_score(Y_test, Y_pred5_test)\n",
    "\n",
    "print()\n",
    "print(\"MSE   : \", lassoR_mse_test)\n",
    "print(\"RMSE  : \", lassoR_rmse_test)\n",
    "print(\"R2    : \", round(lassoR_r2_test*100,2))"
   ]
  },
  {
   "cell_type": "markdown",
   "id": "1e2c230f",
   "metadata": {},
   "source": [
    "## R2 score comparison"
   ]
  },
  {
   "cell_type": "code",
   "execution_count": 68,
   "id": "1e78c485",
   "metadata": {},
   "outputs": [],
   "source": [
    "s1 = lr_r2_test\n",
    "s2 = dtr_r2_test\n",
    "s3 = rfr_r2_test\n",
    "s4 = gbr_r2_test\n",
    "s5 = lassoR_r2_test"
   ]
  },
  {
   "cell_type": "code",
   "execution_count": 71,
   "id": "e112cbb2",
   "metadata": {},
   "outputs": [
    {
     "data": {
      "image/png": "[encoded data removed]",
      "text/plain": [
       "<Figure size 1200x500 with 1 Axes>"
      ]
     },
     "metadata": {},
     "output_type": "display_data"
    }
   ],
   "source": [
    "accuracy_scores = [s1, s2, s3, s4, s5]\n",
    "algorithms = ['LR', 'DTR', 'RFR', 'GBR', 'Lasso']\n",
    "\n",
    "plt.rcParams['figure.figsize'] = (12, 5)\n",
    "bars = plt.bar(algorithms, accuracy_scores)\n",
    "\n",
    "# Add text labels on top of each bar\n",
    "for bar, score in zip(bars, accuracy_scores):\n",
    "    plt.text(bar.get_x() + bar.get_width() / 2, bar.get_height(), round(score, 2),\n",
    "             ha='center', va='bottom')\n",
    "\n",
    "plt.xlabel(\"Algorithms\")\n",
    "plt.ylabel(\"R2 Score\")\n",
    "plt.show()\n"
   ]
  }
 ],
 "metadata": {
  "kernelspec": {
   "display_name": "Python 3 (ipykernel)",
   "language": "python",
   "name": "python3"
  },
  "language_info": {
   "codemirror_mode": {
    "name": "ipython",
    "version": 3
   },
   "file_extension": ".py",
   "mimetype": "text/x-python",
   "name": "python",
   "nbconvert_exporter": "python",
   "pygments_lexer": "ipython3",
   "version": "3.11.7"
  }
 },
 "nbformat": 4,
 "nbformat_minor": 5
}
